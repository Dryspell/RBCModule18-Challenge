{
 "cells": [
  {
   "cell_type": "markdown",
   "metadata": {},
   "source": [
    "# Clustering Crypto"
   ]
  },
  {
   "cell_type": "code",
   "execution_count": 231,
   "metadata": {},
   "outputs": [],
   "source": [
    "# Initial imports\n",
    "import pandas as pd\n",
    "import hvplot.pandas\n",
    "from path import Path\n",
    "import plotly.express as px\n",
    "from sklearn.preprocessing import StandardScaler, MinMaxScaler\n",
    "from sklearn.decomposition import PCA\n",
    "from sklearn.cluster import KMeans\n"
   ]
  },
  {
   "cell_type": "markdown",
   "metadata": {},
   "source": [
    "### Deliverable 1: Preprocessing the Data for PCA"
   ]
  },
  {
   "cell_type": "code",
   "execution_count": 232,
   "metadata": {},
   "outputs": [],
   "source": [
    "# Load the crypto_data.csv dataset.\n",
    "crypto_df_initial = pd.read_csv(Path(\"./crypto_data.csv\"))"
   ]
  },
  {
   "cell_type": "code",
   "execution_count": 233,
   "metadata": {},
   "outputs": [
    {
     "data": {
      "text/html": [
       "<div>\n",
       "<style scoped>\n",
       "    .dataframe tbody tr th:only-of-type {\n",
       "        vertical-align: middle;\n",
       "    }\n",
       "\n",
       "    .dataframe tbody tr th {\n",
       "        vertical-align: top;\n",
       "    }\n",
       "\n",
       "    .dataframe thead th {\n",
       "        text-align: right;\n",
       "    }\n",
       "</style>\n",
       "<table border=\"1\" class=\"dataframe\">\n",
       "  <thead>\n",
       "    <tr style=\"text-align: right;\">\n",
       "      <th></th>\n",
       "      <th>Unnamed: 0</th>\n",
       "      <th>CoinName</th>\n",
       "      <th>Algorithm</th>\n",
       "      <th>IsTrading</th>\n",
       "      <th>ProofType</th>\n",
       "      <th>TotalCoinsMined</th>\n",
       "      <th>TotalCoinSupply</th>\n",
       "    </tr>\n",
       "  </thead>\n",
       "  <tbody>\n",
       "    <tr>\n",
       "      <th>0</th>\n",
       "      <td>42</td>\n",
       "      <td>42 Coin</td>\n",
       "      <td>Scrypt</td>\n",
       "      <td>True</td>\n",
       "      <td>PoW/PoS</td>\n",
       "      <td>4.199995e+01</td>\n",
       "      <td>4.200000e+01</td>\n",
       "    </tr>\n",
       "    <tr>\n",
       "      <th>1</th>\n",
       "      <td>365</td>\n",
       "      <td>365Coin</td>\n",
       "      <td>X11</td>\n",
       "      <td>True</td>\n",
       "      <td>PoW/PoS</td>\n",
       "      <td>NaN</td>\n",
       "      <td>2.300000e+09</td>\n",
       "    </tr>\n",
       "    <tr>\n",
       "      <th>2</th>\n",
       "      <td>404</td>\n",
       "      <td>404Coin</td>\n",
       "      <td>Scrypt</td>\n",
       "      <td>True</td>\n",
       "      <td>PoW/PoS</td>\n",
       "      <td>1.055185e+09</td>\n",
       "      <td>5.320000e+08</td>\n",
       "    </tr>\n",
       "    <tr>\n",
       "      <th>3</th>\n",
       "      <td>611</td>\n",
       "      <td>SixEleven</td>\n",
       "      <td>SHA-256</td>\n",
       "      <td>True</td>\n",
       "      <td>PoW</td>\n",
       "      <td>NaN</td>\n",
       "      <td>6.110000e+05</td>\n",
       "    </tr>\n",
       "    <tr>\n",
       "      <th>4</th>\n",
       "      <td>808</td>\n",
       "      <td>808</td>\n",
       "      <td>SHA-256</td>\n",
       "      <td>True</td>\n",
       "      <td>PoW/PoS</td>\n",
       "      <td>0.000000e+00</td>\n",
       "      <td>0.000000e+00</td>\n",
       "    </tr>\n",
       "  </tbody>\n",
       "</table>\n",
       "</div>"
      ],
      "text/plain": [
       "  Unnamed: 0   CoinName Algorithm  IsTrading ProofType  TotalCoinsMined  \\\n",
       "0         42    42 Coin    Scrypt       True   PoW/PoS     4.199995e+01   \n",
       "1        365    365Coin       X11       True   PoW/PoS              NaN   \n",
       "2        404    404Coin    Scrypt       True   PoW/PoS     1.055185e+09   \n",
       "3        611  SixEleven   SHA-256       True       PoW              NaN   \n",
       "4        808        808   SHA-256       True   PoW/PoS     0.000000e+00   \n",
       "\n",
       "   TotalCoinSupply  \n",
       "0     4.200000e+01  \n",
       "1     2.300000e+09  \n",
       "2     5.320000e+08  \n",
       "3     6.110000e+05  \n",
       "4     0.000000e+00  "
      ]
     },
     "execution_count": 233,
     "metadata": {},
     "output_type": "execute_result"
    }
   ],
   "source": [
    "# Keep all the cryptocurrencies that are being traded.\n",
    "crypto_df_initial = crypto_df_initial[crypto_df_initial['IsTrading'] == True]\n",
    "crypto_df_initial['TotalCoinSupply'] = crypto_df_initial['TotalCoinSupply'].str.replace(' ', '')\n",
    "crypto_df_initial['TotalCoinSupply'] = pd.to_numeric(crypto_df_initial['TotalCoinSupply'], errors='coerce')\n",
    "crypto_df_initial.head()"
   ]
  },
  {
   "cell_type": "code",
   "execution_count": 234,
   "metadata": {},
   "outputs": [
    {
     "data": {
      "text/html": [
       "<div>\n",
       "<style scoped>\n",
       "    .dataframe tbody tr th:only-of-type {\n",
       "        vertical-align: middle;\n",
       "    }\n",
       "\n",
       "    .dataframe tbody tr th {\n",
       "        vertical-align: top;\n",
       "    }\n",
       "\n",
       "    .dataframe thead th {\n",
       "        text-align: right;\n",
       "    }\n",
       "</style>\n",
       "<table border=\"1\" class=\"dataframe\">\n",
       "  <thead>\n",
       "    <tr style=\"text-align: right;\">\n",
       "      <th></th>\n",
       "      <th>Unnamed: 0</th>\n",
       "      <th>CoinName</th>\n",
       "      <th>Algorithm</th>\n",
       "      <th>IsTrading</th>\n",
       "      <th>ProofType</th>\n",
       "      <th>TotalCoinsMined</th>\n",
       "      <th>TotalCoinSupply</th>\n",
       "    </tr>\n",
       "  </thead>\n",
       "  <tbody>\n",
       "    <tr>\n",
       "      <th>0</th>\n",
       "      <td>42</td>\n",
       "      <td>42 Coin</td>\n",
       "      <td>Scrypt</td>\n",
       "      <td>True</td>\n",
       "      <td>PoW/PoS</td>\n",
       "      <td>4.199995e+01</td>\n",
       "      <td>4.200000e+01</td>\n",
       "    </tr>\n",
       "    <tr>\n",
       "      <th>1</th>\n",
       "      <td>365</td>\n",
       "      <td>365Coin</td>\n",
       "      <td>X11</td>\n",
       "      <td>True</td>\n",
       "      <td>PoW/PoS</td>\n",
       "      <td>NaN</td>\n",
       "      <td>2.300000e+09</td>\n",
       "    </tr>\n",
       "    <tr>\n",
       "      <th>2</th>\n",
       "      <td>404</td>\n",
       "      <td>404Coin</td>\n",
       "      <td>Scrypt</td>\n",
       "      <td>True</td>\n",
       "      <td>PoW/PoS</td>\n",
       "      <td>1.055185e+09</td>\n",
       "      <td>5.320000e+08</td>\n",
       "    </tr>\n",
       "    <tr>\n",
       "      <th>3</th>\n",
       "      <td>611</td>\n",
       "      <td>SixEleven</td>\n",
       "      <td>SHA-256</td>\n",
       "      <td>True</td>\n",
       "      <td>PoW</td>\n",
       "      <td>NaN</td>\n",
       "      <td>6.110000e+05</td>\n",
       "    </tr>\n",
       "    <tr>\n",
       "      <th>4</th>\n",
       "      <td>808</td>\n",
       "      <td>808</td>\n",
       "      <td>SHA-256</td>\n",
       "      <td>True</td>\n",
       "      <td>PoW/PoS</td>\n",
       "      <td>0.000000e+00</td>\n",
       "      <td>0.000000e+00</td>\n",
       "    </tr>\n",
       "  </tbody>\n",
       "</table>\n",
       "</div>"
      ],
      "text/plain": [
       "  Unnamed: 0   CoinName Algorithm  IsTrading ProofType  TotalCoinsMined  \\\n",
       "0         42    42 Coin    Scrypt       True   PoW/PoS     4.199995e+01   \n",
       "1        365    365Coin       X11       True   PoW/PoS              NaN   \n",
       "2        404    404Coin    Scrypt       True   PoW/PoS     1.055185e+09   \n",
       "3        611  SixEleven   SHA-256       True       PoW              NaN   \n",
       "4        808        808   SHA-256       True   PoW/PoS     0.000000e+00   \n",
       "\n",
       "   TotalCoinSupply  \n",
       "0     4.200000e+01  \n",
       "1     2.300000e+09  \n",
       "2     5.320000e+08  \n",
       "3     6.110000e+05  \n",
       "4     0.000000e+00  "
      ]
     },
     "execution_count": 234,
     "metadata": {},
     "output_type": "execute_result"
    }
   ],
   "source": [
    "# Keep all the cryptocurrencies that have a working algorithm.\n",
    "crypto_df_initial = crypto_df_initial[crypto_df_initial['TotalCoinSupply'] != '0']\n",
    "crypto_df_initial.head()"
   ]
  },
  {
   "cell_type": "code",
   "execution_count": 235,
   "metadata": {},
   "outputs": [],
   "source": [
    "# Remove the \"IsTrading\" column. \n",
    "crypto_df = crypto_df_initial.copy().drop(columns=['IsTrading'])\n",
    "crypto_df.set_index('Unnamed: 0', inplace=True)"
   ]
  },
  {
   "cell_type": "code",
   "execution_count": 236,
   "metadata": {},
   "outputs": [],
   "source": [
    "# Remove rows that have at least 1 null value.\n",
    "crypto_df = crypto_df.dropna()"
   ]
  },
  {
   "cell_type": "code",
   "execution_count": 237,
   "metadata": {},
   "outputs": [
    {
     "data": {
      "text/html": [
       "<div>\n",
       "<style scoped>\n",
       "    .dataframe tbody tr th:only-of-type {\n",
       "        vertical-align: middle;\n",
       "    }\n",
       "\n",
       "    .dataframe tbody tr th {\n",
       "        vertical-align: top;\n",
       "    }\n",
       "\n",
       "    .dataframe thead th {\n",
       "        text-align: right;\n",
       "    }\n",
       "</style>\n",
       "<table border=\"1\" class=\"dataframe\">\n",
       "  <thead>\n",
       "    <tr style=\"text-align: right;\">\n",
       "      <th></th>\n",
       "      <th>CoinName</th>\n",
       "    </tr>\n",
       "  </thead>\n",
       "  <tbody>\n",
       "    <tr>\n",
       "      <th>0</th>\n",
       "      <td>42 Coin</td>\n",
       "    </tr>\n",
       "    <tr>\n",
       "      <th>1</th>\n",
       "      <td>365Coin</td>\n",
       "    </tr>\n",
       "    <tr>\n",
       "      <th>2</th>\n",
       "      <td>404Coin</td>\n",
       "    </tr>\n",
       "    <tr>\n",
       "      <th>3</th>\n",
       "      <td>SixEleven</td>\n",
       "    </tr>\n",
       "    <tr>\n",
       "      <th>4</th>\n",
       "      <td>808</td>\n",
       "    </tr>\n",
       "  </tbody>\n",
       "</table>\n",
       "</div>"
      ],
      "text/plain": [
       "    CoinName\n",
       "0    42 Coin\n",
       "1    365Coin\n",
       "2    404Coin\n",
       "3  SixEleven\n",
       "4        808"
      ]
     },
     "execution_count": 237,
     "metadata": {},
     "output_type": "execute_result"
    }
   ],
   "source": [
    "CoinNamesDF = crypto_df_initial[['CoinName']]\n",
    "CoinNamesDF.head()"
   ]
  },
  {
   "cell_type": "code",
   "execution_count": 238,
   "metadata": {},
   "outputs": [
    {
     "data": {
      "text/html": [
       "<div>\n",
       "<style scoped>\n",
       "    .dataframe tbody tr th:only-of-type {\n",
       "        vertical-align: middle;\n",
       "    }\n",
       "\n",
       "    .dataframe tbody tr th {\n",
       "        vertical-align: top;\n",
       "    }\n",
       "\n",
       "    .dataframe thead th {\n",
       "        text-align: right;\n",
       "    }\n",
       "</style>\n",
       "<table border=\"1\" class=\"dataframe\">\n",
       "  <thead>\n",
       "    <tr style=\"text-align: right;\">\n",
       "      <th></th>\n",
       "      <th>Algorithm</th>\n",
       "      <th>ProofType</th>\n",
       "      <th>TotalCoinsMined</th>\n",
       "      <th>TotalCoinSupply</th>\n",
       "    </tr>\n",
       "    <tr>\n",
       "      <th>Unnamed: 0</th>\n",
       "      <th></th>\n",
       "      <th></th>\n",
       "      <th></th>\n",
       "      <th></th>\n",
       "    </tr>\n",
       "  </thead>\n",
       "  <tbody>\n",
       "    <tr>\n",
       "      <th>42</th>\n",
       "      <td>Scrypt</td>\n",
       "      <td>PoW/PoS</td>\n",
       "      <td>4.199995e+01</td>\n",
       "      <td>4.200000e+01</td>\n",
       "    </tr>\n",
       "    <tr>\n",
       "      <th>404</th>\n",
       "      <td>Scrypt</td>\n",
       "      <td>PoW/PoS</td>\n",
       "      <td>1.055185e+09</td>\n",
       "      <td>5.320000e+08</td>\n",
       "    </tr>\n",
       "    <tr>\n",
       "      <th>808</th>\n",
       "      <td>SHA-256</td>\n",
       "      <td>PoW/PoS</td>\n",
       "      <td>0.000000e+00</td>\n",
       "      <td>0.000000e+00</td>\n",
       "    </tr>\n",
       "    <tr>\n",
       "      <th>1337</th>\n",
       "      <td>X13</td>\n",
       "      <td>PoW/PoS</td>\n",
       "      <td>2.927942e+10</td>\n",
       "      <td>3.141593e+11</td>\n",
       "    </tr>\n",
       "    <tr>\n",
       "      <th>BTC</th>\n",
       "      <td>SHA-256</td>\n",
       "      <td>PoW</td>\n",
       "      <td>1.792718e+07</td>\n",
       "      <td>2.100000e+07</td>\n",
       "    </tr>\n",
       "  </tbody>\n",
       "</table>\n",
       "</div>"
      ],
      "text/plain": [
       "           Algorithm ProofType  TotalCoinsMined  TotalCoinSupply\n",
       "Unnamed: 0                                                      \n",
       "42            Scrypt   PoW/PoS     4.199995e+01     4.200000e+01\n",
       "404           Scrypt   PoW/PoS     1.055185e+09     5.320000e+08\n",
       "808          SHA-256   PoW/PoS     0.000000e+00     0.000000e+00\n",
       "1337             X13   PoW/PoS     2.927942e+10     3.141593e+11\n",
       "BTC          SHA-256       PoW     1.792718e+07     2.100000e+07"
      ]
     },
     "execution_count": 238,
     "metadata": {},
     "output_type": "execute_result"
    }
   ],
   "source": [
    "# Drop the 'CoinName' column since it's not going to be used on the clustering algorithm.\n",
    "crypto_df = crypto_df.drop(columns=['CoinName'])\n",
    "crypto_df.head()"
   ]
  },
  {
   "cell_type": "code",
   "execution_count": 239,
   "metadata": {},
   "outputs": [
    {
     "data": {
      "text/html": [
       "<div>\n",
       "<style scoped>\n",
       "    .dataframe tbody tr th:only-of-type {\n",
       "        vertical-align: middle;\n",
       "    }\n",
       "\n",
       "    .dataframe tbody tr th {\n",
       "        vertical-align: top;\n",
       "    }\n",
       "\n",
       "    .dataframe thead th {\n",
       "        text-align: right;\n",
       "    }\n",
       "</style>\n",
       "<table border=\"1\" class=\"dataframe\">\n",
       "  <thead>\n",
       "    <tr style=\"text-align: right;\">\n",
       "      <th></th>\n",
       "      <th>TotalCoinsMined</th>\n",
       "      <th>TotalCoinSupply</th>\n",
       "      <th>Algorithm_1GB AES Pattern Search</th>\n",
       "      <th>Algorithm_536</th>\n",
       "      <th>Algorithm_Argon2</th>\n",
       "      <th>Algorithm_Argon2d</th>\n",
       "      <th>Algorithm_BLAKE256</th>\n",
       "      <th>Algorithm_Blake</th>\n",
       "      <th>Algorithm_Blake2S</th>\n",
       "      <th>Algorithm_Blake2b</th>\n",
       "      <th>...</th>\n",
       "      <th>ProofType_PoW/PoS</th>\n",
       "      <th>ProofType_PoW/PoS</th>\n",
       "      <th>ProofType_PoW/PoW</th>\n",
       "      <th>ProofType_PoW/nPoS</th>\n",
       "      <th>ProofType_Pos</th>\n",
       "      <th>ProofType_Proof of Authority</th>\n",
       "      <th>ProofType_Proof of Trust</th>\n",
       "      <th>ProofType_TPoS</th>\n",
       "      <th>ProofType_Zero-Knowledge Proof</th>\n",
       "      <th>ProofType_dPoW/PoW</th>\n",
       "    </tr>\n",
       "    <tr>\n",
       "      <th>Unnamed: 0</th>\n",
       "      <th></th>\n",
       "      <th></th>\n",
       "      <th></th>\n",
       "      <th></th>\n",
       "      <th></th>\n",
       "      <th></th>\n",
       "      <th></th>\n",
       "      <th></th>\n",
       "      <th></th>\n",
       "      <th></th>\n",
       "      <th></th>\n",
       "      <th></th>\n",
       "      <th></th>\n",
       "      <th></th>\n",
       "      <th></th>\n",
       "      <th></th>\n",
       "      <th></th>\n",
       "      <th></th>\n",
       "      <th></th>\n",
       "      <th></th>\n",
       "      <th></th>\n",
       "    </tr>\n",
       "  </thead>\n",
       "  <tbody>\n",
       "    <tr>\n",
       "      <th>42</th>\n",
       "      <td>4.199995e+01</td>\n",
       "      <td>4.200000e+01</td>\n",
       "      <td>0</td>\n",
       "      <td>0</td>\n",
       "      <td>0</td>\n",
       "      <td>0</td>\n",
       "      <td>0</td>\n",
       "      <td>0</td>\n",
       "      <td>0</td>\n",
       "      <td>0</td>\n",
       "      <td>...</td>\n",
       "      <td>1</td>\n",
       "      <td>0</td>\n",
       "      <td>0</td>\n",
       "      <td>0</td>\n",
       "      <td>0</td>\n",
       "      <td>0</td>\n",
       "      <td>0</td>\n",
       "      <td>0</td>\n",
       "      <td>0</td>\n",
       "      <td>0</td>\n",
       "    </tr>\n",
       "    <tr>\n",
       "      <th>404</th>\n",
       "      <td>1.055185e+09</td>\n",
       "      <td>5.320000e+08</td>\n",
       "      <td>0</td>\n",
       "      <td>0</td>\n",
       "      <td>0</td>\n",
       "      <td>0</td>\n",
       "      <td>0</td>\n",
       "      <td>0</td>\n",
       "      <td>0</td>\n",
       "      <td>0</td>\n",
       "      <td>...</td>\n",
       "      <td>1</td>\n",
       "      <td>0</td>\n",
       "      <td>0</td>\n",
       "      <td>0</td>\n",
       "      <td>0</td>\n",
       "      <td>0</td>\n",
       "      <td>0</td>\n",
       "      <td>0</td>\n",
       "      <td>0</td>\n",
       "      <td>0</td>\n",
       "    </tr>\n",
       "    <tr>\n",
       "      <th>808</th>\n",
       "      <td>0.000000e+00</td>\n",
       "      <td>0.000000e+00</td>\n",
       "      <td>0</td>\n",
       "      <td>0</td>\n",
       "      <td>0</td>\n",
       "      <td>0</td>\n",
       "      <td>0</td>\n",
       "      <td>0</td>\n",
       "      <td>0</td>\n",
       "      <td>0</td>\n",
       "      <td>...</td>\n",
       "      <td>1</td>\n",
       "      <td>0</td>\n",
       "      <td>0</td>\n",
       "      <td>0</td>\n",
       "      <td>0</td>\n",
       "      <td>0</td>\n",
       "      <td>0</td>\n",
       "      <td>0</td>\n",
       "      <td>0</td>\n",
       "      <td>0</td>\n",
       "    </tr>\n",
       "    <tr>\n",
       "      <th>1337</th>\n",
       "      <td>2.927942e+10</td>\n",
       "      <td>3.141593e+11</td>\n",
       "      <td>0</td>\n",
       "      <td>0</td>\n",
       "      <td>0</td>\n",
       "      <td>0</td>\n",
       "      <td>0</td>\n",
       "      <td>0</td>\n",
       "      <td>0</td>\n",
       "      <td>0</td>\n",
       "      <td>...</td>\n",
       "      <td>1</td>\n",
       "      <td>0</td>\n",
       "      <td>0</td>\n",
       "      <td>0</td>\n",
       "      <td>0</td>\n",
       "      <td>0</td>\n",
       "      <td>0</td>\n",
       "      <td>0</td>\n",
       "      <td>0</td>\n",
       "      <td>0</td>\n",
       "    </tr>\n",
       "    <tr>\n",
       "      <th>BTC</th>\n",
       "      <td>1.792718e+07</td>\n",
       "      <td>2.100000e+07</td>\n",
       "      <td>0</td>\n",
       "      <td>0</td>\n",
       "      <td>0</td>\n",
       "      <td>0</td>\n",
       "      <td>0</td>\n",
       "      <td>0</td>\n",
       "      <td>0</td>\n",
       "      <td>0</td>\n",
       "      <td>...</td>\n",
       "      <td>0</td>\n",
       "      <td>0</td>\n",
       "      <td>0</td>\n",
       "      <td>0</td>\n",
       "      <td>0</td>\n",
       "      <td>0</td>\n",
       "      <td>0</td>\n",
       "      <td>0</td>\n",
       "      <td>0</td>\n",
       "      <td>0</td>\n",
       "    </tr>\n",
       "  </tbody>\n",
       "</table>\n",
       "<p>5 rows × 109 columns</p>\n",
       "</div>"
      ],
      "text/plain": [
       "            TotalCoinsMined  TotalCoinSupply  \\\n",
       "Unnamed: 0                                     \n",
       "42             4.199995e+01     4.200000e+01   \n",
       "404            1.055185e+09     5.320000e+08   \n",
       "808            0.000000e+00     0.000000e+00   \n",
       "1337           2.927942e+10     3.141593e+11   \n",
       "BTC            1.792718e+07     2.100000e+07   \n",
       "\n",
       "            Algorithm_1GB AES Pattern Search  Algorithm_536  Algorithm_Argon2  \\\n",
       "Unnamed: 0                                                                      \n",
       "42                                         0              0                 0   \n",
       "404                                        0              0                 0   \n",
       "808                                        0              0                 0   \n",
       "1337                                       0              0                 0   \n",
       "BTC                                        0              0                 0   \n",
       "\n",
       "            Algorithm_Argon2d  Algorithm_BLAKE256  Algorithm_Blake  \\\n",
       "Unnamed: 0                                                           \n",
       "42                          0                   0                0   \n",
       "404                         0                   0                0   \n",
       "808                         0                   0                0   \n",
       "1337                        0                   0                0   \n",
       "BTC                         0                   0                0   \n",
       "\n",
       "            Algorithm_Blake2S  Algorithm_Blake2b  ...  ProofType_PoW/PoS  \\\n",
       "Unnamed: 0                                        ...                      \n",
       "42                          0                  0  ...                  1   \n",
       "404                         0                  0  ...                  1   \n",
       "808                         0                  0  ...                  1   \n",
       "1337                        0                  0  ...                  1   \n",
       "BTC                         0                  0  ...                  0   \n",
       "\n",
       "            ProofType_PoW/PoS   ProofType_PoW/PoW  ProofType_PoW/nPoS  \\\n",
       "Unnamed: 0                                                              \n",
       "42                           0                  0                   0   \n",
       "404                          0                  0                   0   \n",
       "808                          0                  0                   0   \n",
       "1337                         0                  0                   0   \n",
       "BTC                          0                  0                   0   \n",
       "\n",
       "            ProofType_Pos  ProofType_Proof of Authority  \\\n",
       "Unnamed: 0                                                \n",
       "42                      0                             0   \n",
       "404                     0                             0   \n",
       "808                     0                             0   \n",
       "1337                    0                             0   \n",
       "BTC                     0                             0   \n",
       "\n",
       "            ProofType_Proof of Trust  ProofType_TPoS  \\\n",
       "Unnamed: 0                                             \n",
       "42                                 0               0   \n",
       "404                                0               0   \n",
       "808                                0               0   \n",
       "1337                               0               0   \n",
       "BTC                                0               0   \n",
       "\n",
       "            ProofType_Zero-Knowledge Proof  ProofType_dPoW/PoW  \n",
       "Unnamed: 0                                                      \n",
       "42                                       0                   0  \n",
       "404                                      0                   0  \n",
       "808                                      0                   0  \n",
       "1337                                     0                   0  \n",
       "BTC                                      0                   0  \n",
       "\n",
       "[5 rows x 109 columns]"
      ]
     },
     "execution_count": 239,
     "metadata": {},
     "output_type": "execute_result"
    }
   ],
   "source": [
    "# Use get_dummies() to create variables for text features.\n",
    "crypto_df = pd.get_dummies(crypto_df, columns=['Algorithm', 'ProofType'])\n",
    "crypto_df.head()"
   ]
  },
  {
   "cell_type": "code",
   "execution_count": 240,
   "metadata": {},
   "outputs": [],
   "source": [
    "# Standardize the data with StandardScaler().\n",
    "crypto_df = StandardScaler().fit_transform(crypto_df)"
   ]
  },
  {
   "cell_type": "markdown",
   "metadata": {},
   "source": [
    "### Deliverable 2: Reducing Data Dimensions Using PCA"
   ]
  },
  {
   "cell_type": "code",
   "execution_count": 241,
   "metadata": {},
   "outputs": [],
   "source": [
    "# Using PCA to reduce dimension to three principal components.\n",
    "# Initialize PCA model\n",
    "pca = PCA(n_components=3)\n",
    "\n",
    "# Get two principal components for the iris data.\n",
    "crypto_pca = pca.fit_transform(crypto_df)"
   ]
  },
  {
   "cell_type": "code",
   "execution_count": 242,
   "metadata": {},
   "outputs": [
    {
     "data": {
      "text/html": [
       "<div>\n",
       "<style scoped>\n",
       "    .dataframe tbody tr th:only-of-type {\n",
       "        vertical-align: middle;\n",
       "    }\n",
       "\n",
       "    .dataframe tbody tr th {\n",
       "        vertical-align: top;\n",
       "    }\n",
       "\n",
       "    .dataframe thead th {\n",
       "        text-align: right;\n",
       "    }\n",
       "</style>\n",
       "<table border=\"1\" class=\"dataframe\">\n",
       "  <thead>\n",
       "    <tr style=\"text-align: right;\">\n",
       "      <th></th>\n",
       "      <th>PC1</th>\n",
       "      <th>PC2</th>\n",
       "      <th>PC3</th>\n",
       "    </tr>\n",
       "  </thead>\n",
       "  <tbody>\n",
       "    <tr>\n",
       "      <th>0</th>\n",
       "      <td>-0.172805</td>\n",
       "      <td>1.225095</td>\n",
       "      <td>-0.495600</td>\n",
       "    </tr>\n",
       "    <tr>\n",
       "      <th>1</th>\n",
       "      <td>-0.158776</td>\n",
       "      <td>1.223542</td>\n",
       "      <td>-0.496102</td>\n",
       "    </tr>\n",
       "    <tr>\n",
       "      <th>2</th>\n",
       "      <td>-0.113730</td>\n",
       "      <td>0.820260</td>\n",
       "      <td>-0.298519</td>\n",
       "    </tr>\n",
       "    <tr>\n",
       "      <th>3</th>\n",
       "      <td>0.338229</td>\n",
       "      <td>1.953817</td>\n",
       "      <td>-0.544069</td>\n",
       "    </tr>\n",
       "    <tr>\n",
       "      <th>4</th>\n",
       "      <td>-0.242216</td>\n",
       "      <td>-1.408971</td>\n",
       "      <td>0.154315</td>\n",
       "    </tr>\n",
       "  </tbody>\n",
       "</table>\n",
       "</div>"
      ],
      "text/plain": [
       "        PC1       PC2       PC3\n",
       "0 -0.172805  1.225095 -0.495600\n",
       "1 -0.158776  1.223542 -0.496102\n",
       "2 -0.113730  0.820260 -0.298519\n",
       "3  0.338229  1.953817 -0.544069\n",
       "4 -0.242216 -1.408971  0.154315"
      ]
     },
     "execution_count": 242,
     "metadata": {},
     "output_type": "execute_result"
    }
   ],
   "source": [
    "# Create a DataFrame with the three principal components.\n",
    "df_crypto_pca = pd.DataFrame(\n",
    "    data=crypto_pca, columns=[\"PC1\", \"PC2\", \"PC3\"])\n",
    "    \n",
    "df_crypto_pca.head()"
   ]
  },
  {
   "cell_type": "markdown",
   "metadata": {},
   "source": [
    "### Deliverable 3: Clustering Crytocurrencies Using K-Means\n",
    "\n",
    "#### Finding the Best Value for `k` Using the Elbow Curve"
   ]
  },
  {
   "cell_type": "code",
   "execution_count": 243,
   "metadata": {},
   "outputs": [
    {
     "name": "stderr",
     "output_type": "stream",
     "text": [
      "C:\\Users\\Pangloss\\.conda\\envs\\mlenv\\lib\\site-packages\\sklearn\\cluster\\_kmeans.py:1036: UserWarning:\n",
      "\n",
      "KMeans is known to have a memory leak on Windows with MKL, when there are less chunks than available threads. You can avoid it by setting the environment variable OMP_NUM_THREADS=3.\n",
      "\n"
     ]
    },
    {
     "data": {
      "image/png": "[encoded data removed]",
      "text/plain": [
       "<Figure size 432x288 with 1 Axes>"
      ]
     },
     "metadata": {
      "needs_background": "light"
     },
     "output_type": "display_data"
    }
   ],
   "source": [
    "# Create an elbow curve to find the best value for K.\n",
    "from matplotlib import pyplot as plt\n",
    "\n",
    "sse = {}\n",
    "K = range(1, 10)\n",
    "for k in K:\n",
    "    kmeanmodel = KMeans(n_clusters=k).fit(df_crypto_pca)\n",
    "    sse[k]= kmeanmodel.inertia_\n",
    "    \n",
    "# Plot\n",
    "plt.plot(list(sse.keys()), list(sse.values()))\n",
    "plt.xlabel('k')\n",
    "plt.ylabel('SSE')\n",
    "plt.title('Elbow Method')\n",
    "plt.show()"
   ]
  },
  {
   "cell_type": "markdown",
   "metadata": {},
   "source": [
    "Running K-Means with `k=4`"
   ]
  },
  {
   "cell_type": "code",
   "execution_count": 244,
   "metadata": {},
   "outputs": [
    {
     "data": {
      "text/html": [
       "<div>\n",
       "<style scoped>\n",
       "    .dataframe tbody tr th:only-of-type {\n",
       "        vertical-align: middle;\n",
       "    }\n",
       "\n",
       "    .dataframe tbody tr th {\n",
       "        vertical-align: top;\n",
       "    }\n",
       "\n",
       "    .dataframe thead th {\n",
       "        text-align: right;\n",
       "    }\n",
       "</style>\n",
       "<table border=\"1\" class=\"dataframe\">\n",
       "  <thead>\n",
       "    <tr style=\"text-align: right;\">\n",
       "      <th></th>\n",
       "      <th>Class</th>\n",
       "    </tr>\n",
       "  </thead>\n",
       "  <tbody>\n",
       "    <tr>\n",
       "      <th>0</th>\n",
       "      <td>0</td>\n",
       "    </tr>\n",
       "    <tr>\n",
       "      <th>1</th>\n",
       "      <td>0</td>\n",
       "    </tr>\n",
       "    <tr>\n",
       "      <th>2</th>\n",
       "      <td>0</td>\n",
       "    </tr>\n",
       "    <tr>\n",
       "      <th>3</th>\n",
       "      <td>0</td>\n",
       "    </tr>\n",
       "    <tr>\n",
       "      <th>4</th>\n",
       "      <td>1</td>\n",
       "    </tr>\n",
       "    <tr>\n",
       "      <th>...</th>\n",
       "      <td>...</td>\n",
       "    </tr>\n",
       "    <tr>\n",
       "      <th>680</th>\n",
       "      <td>0</td>\n",
       "    </tr>\n",
       "    <tr>\n",
       "      <th>681</th>\n",
       "      <td>0</td>\n",
       "    </tr>\n",
       "    <tr>\n",
       "      <th>682</th>\n",
       "      <td>1</td>\n",
       "    </tr>\n",
       "    <tr>\n",
       "      <th>683</th>\n",
       "      <td>1</td>\n",
       "    </tr>\n",
       "    <tr>\n",
       "      <th>684</th>\n",
       "      <td>0</td>\n",
       "    </tr>\n",
       "  </tbody>\n",
       "</table>\n",
       "<p>685 rows × 1 columns</p>\n",
       "</div>"
      ],
      "text/plain": [
       "     Class\n",
       "0        0\n",
       "1        0\n",
       "2        0\n",
       "3        0\n",
       "4        1\n",
       "..     ...\n",
       "680      0\n",
       "681      0\n",
       "682      1\n",
       "683      1\n",
       "684      0\n",
       "\n",
       "[685 rows x 1 columns]"
      ]
     },
     "execution_count": 244,
     "metadata": {},
     "output_type": "execute_result"
    }
   ],
   "source": [
    "# Initialize the K-Means model.\n",
    "model = KMeans(n_clusters=4, random_state=42)\n",
    "\n",
    "# Fit the model\n",
    "model.fit(df_crypto_pca)\n",
    "\n",
    "# Predict clusters\n",
    "y_pred = model.predict(df_crypto_pca)\n",
    "df_y = pd.DataFrame(y_pred, columns=['Class'])\n",
    "df_y\n"
   ]
  },
  {
   "cell_type": "code",
   "execution_count": 245,
   "metadata": {},
   "outputs": [
    {
     "data": {
      "text/html": [
       "<div>\n",
       "<style scoped>\n",
       "    .dataframe tbody tr th:only-of-type {\n",
       "        vertical-align: middle;\n",
       "    }\n",
       "\n",
       "    .dataframe tbody tr th {\n",
       "        vertical-align: top;\n",
       "    }\n",
       "\n",
       "    .dataframe thead th {\n",
       "        text-align: right;\n",
       "    }\n",
       "</style>\n",
       "<table border=\"1\" class=\"dataframe\">\n",
       "  <thead>\n",
       "    <tr style=\"text-align: right;\">\n",
       "      <th></th>\n",
       "      <th>Unnamed: 0</th>\n",
       "      <th>CoinName</th>\n",
       "      <th>Algorithm</th>\n",
       "      <th>IsTrading</th>\n",
       "      <th>ProofType</th>\n",
       "      <th>TotalCoinsMined</th>\n",
       "      <th>TotalCoinSupply</th>\n",
       "    </tr>\n",
       "  </thead>\n",
       "  <tbody>\n",
       "    <tr>\n",
       "      <th>0</th>\n",
       "      <td>42</td>\n",
       "      <td>42 Coin</td>\n",
       "      <td>Scrypt</td>\n",
       "      <td>True</td>\n",
       "      <td>PoW/PoS</td>\n",
       "      <td>4.199995e+01</td>\n",
       "      <td>4.200000e+01</td>\n",
       "    </tr>\n",
       "    <tr>\n",
       "      <th>1</th>\n",
       "      <td>365</td>\n",
       "      <td>365Coin</td>\n",
       "      <td>X11</td>\n",
       "      <td>True</td>\n",
       "      <td>PoW/PoS</td>\n",
       "      <td>NaN</td>\n",
       "      <td>2.300000e+09</td>\n",
       "    </tr>\n",
       "    <tr>\n",
       "      <th>2</th>\n",
       "      <td>404</td>\n",
       "      <td>404Coin</td>\n",
       "      <td>Scrypt</td>\n",
       "      <td>True</td>\n",
       "      <td>PoW/PoS</td>\n",
       "      <td>1.055185e+09</td>\n",
       "      <td>5.320000e+08</td>\n",
       "    </tr>\n",
       "    <tr>\n",
       "      <th>3</th>\n",
       "      <td>611</td>\n",
       "      <td>SixEleven</td>\n",
       "      <td>SHA-256</td>\n",
       "      <td>True</td>\n",
       "      <td>PoW</td>\n",
       "      <td>NaN</td>\n",
       "      <td>6.110000e+05</td>\n",
       "    </tr>\n",
       "    <tr>\n",
       "      <th>4</th>\n",
       "      <td>808</td>\n",
       "      <td>808</td>\n",
       "      <td>SHA-256</td>\n",
       "      <td>True</td>\n",
       "      <td>PoW/PoS</td>\n",
       "      <td>0.000000e+00</td>\n",
       "      <td>0.000000e+00</td>\n",
       "    </tr>\n",
       "    <tr>\n",
       "      <th>...</th>\n",
       "      <td>...</td>\n",
       "      <td>...</td>\n",
       "      <td>...</td>\n",
       "      <td>...</td>\n",
       "      <td>...</td>\n",
       "      <td>...</td>\n",
       "      <td>...</td>\n",
       "    </tr>\n",
       "    <tr>\n",
       "      <th>1243</th>\n",
       "      <td>SERO</td>\n",
       "      <td>Super Zero</td>\n",
       "      <td>Ethash</td>\n",
       "      <td>True</td>\n",
       "      <td>PoW</td>\n",
       "      <td>NaN</td>\n",
       "      <td>1.000000e+09</td>\n",
       "    </tr>\n",
       "    <tr>\n",
       "      <th>1244</th>\n",
       "      <td>UOS</td>\n",
       "      <td>UOS</td>\n",
       "      <td>SHA-256</td>\n",
       "      <td>True</td>\n",
       "      <td>DPoI</td>\n",
       "      <td>NaN</td>\n",
       "      <td>1.000000e+09</td>\n",
       "    </tr>\n",
       "    <tr>\n",
       "      <th>1245</th>\n",
       "      <td>BDX</td>\n",
       "      <td>Beldex</td>\n",
       "      <td>CryptoNight</td>\n",
       "      <td>True</td>\n",
       "      <td>PoW</td>\n",
       "      <td>9.802226e+08</td>\n",
       "      <td>1.400223e+09</td>\n",
       "    </tr>\n",
       "    <tr>\n",
       "      <th>1246</th>\n",
       "      <td>ZEN</td>\n",
       "      <td>Horizen</td>\n",
       "      <td>Equihash</td>\n",
       "      <td>True</td>\n",
       "      <td>PoW</td>\n",
       "      <td>7.296538e+06</td>\n",
       "      <td>2.100000e+07</td>\n",
       "    </tr>\n",
       "    <tr>\n",
       "      <th>1247</th>\n",
       "      <td>XBC</td>\n",
       "      <td>BitcoinPlus</td>\n",
       "      <td>Scrypt</td>\n",
       "      <td>True</td>\n",
       "      <td>PoS</td>\n",
       "      <td>1.283270e+05</td>\n",
       "      <td>1.000000e+06</td>\n",
       "    </tr>\n",
       "  </tbody>\n",
       "</table>\n",
       "<p>1144 rows × 7 columns</p>\n",
       "</div>"
      ],
      "text/plain": [
       "     Unnamed: 0     CoinName    Algorithm  IsTrading ProofType  \\\n",
       "0            42      42 Coin       Scrypt       True   PoW/PoS   \n",
       "1           365      365Coin          X11       True   PoW/PoS   \n",
       "2           404      404Coin       Scrypt       True   PoW/PoS   \n",
       "3           611    SixEleven      SHA-256       True       PoW   \n",
       "4           808          808      SHA-256       True   PoW/PoS   \n",
       "...         ...          ...          ...        ...       ...   \n",
       "1243       SERO   Super Zero       Ethash       True       PoW   \n",
       "1244        UOS          UOS      SHA-256       True      DPoI   \n",
       "1245        BDX       Beldex  CryptoNight       True       PoW   \n",
       "1246        ZEN      Horizen     Equihash       True       PoW   \n",
       "1247        XBC  BitcoinPlus       Scrypt       True       PoS   \n",
       "\n",
       "      TotalCoinsMined  TotalCoinSupply  \n",
       "0        4.199995e+01     4.200000e+01  \n",
       "1                 NaN     2.300000e+09  \n",
       "2        1.055185e+09     5.320000e+08  \n",
       "3                 NaN     6.110000e+05  \n",
       "4        0.000000e+00     0.000000e+00  \n",
       "...               ...              ...  \n",
       "1243              NaN     1.000000e+09  \n",
       "1244              NaN     1.000000e+09  \n",
       "1245     9.802226e+08     1.400223e+09  \n",
       "1246     7.296538e+06     2.100000e+07  \n",
       "1247     1.283270e+05     1.000000e+06  \n",
       "\n",
       "[1144 rows x 7 columns]"
      ]
     },
     "execution_count": 245,
     "metadata": {},
     "output_type": "execute_result"
    }
   ],
   "source": [
    "crypto_df_initial"
   ]
  },
  {
   "cell_type": "code",
   "execution_count": 246,
   "metadata": {},
   "outputs": [
    {
     "name": "stdout",
     "output_type": "stream",
     "text": [
      "(667, 11)\n"
     ]
    },
    {
     "data": {
      "text/html": [
       "<div>\n",
       "<style scoped>\n",
       "    .dataframe tbody tr th:only-of-type {\n",
       "        vertical-align: middle;\n",
       "    }\n",
       "\n",
       "    .dataframe tbody tr th {\n",
       "        vertical-align: top;\n",
       "    }\n",
       "\n",
       "    .dataframe thead th {\n",
       "        text-align: right;\n",
       "    }\n",
       "</style>\n",
       "<table border=\"1\" class=\"dataframe\">\n",
       "  <thead>\n",
       "    <tr style=\"text-align: right;\">\n",
       "      <th></th>\n",
       "      <th>Unnamed: 0</th>\n",
       "      <th>CoinName</th>\n",
       "      <th>Algorithm</th>\n",
       "      <th>IsTrading</th>\n",
       "      <th>ProofType</th>\n",
       "      <th>TotalCoinsMined</th>\n",
       "      <th>TotalCoinSupply</th>\n",
       "      <th>Class</th>\n",
       "      <th>PC1</th>\n",
       "      <th>PC2</th>\n",
       "      <th>PC3</th>\n",
       "    </tr>\n",
       "  </thead>\n",
       "  <tbody>\n",
       "    <tr>\n",
       "      <th>0</th>\n",
       "      <td>42</td>\n",
       "      <td>42 Coin</td>\n",
       "      <td>Scrypt</td>\n",
       "      <td>True</td>\n",
       "      <td>PoW/PoS</td>\n",
       "      <td>4.199995e+01</td>\n",
       "      <td>4.200000e+01</td>\n",
       "      <td>0</td>\n",
       "      <td>-0.172805</td>\n",
       "      <td>1.225095</td>\n",
       "      <td>-0.495600</td>\n",
       "    </tr>\n",
       "    <tr>\n",
       "      <th>1</th>\n",
       "      <td>365</td>\n",
       "      <td>365Coin</td>\n",
       "      <td>X11</td>\n",
       "      <td>True</td>\n",
       "      <td>PoW/PoS</td>\n",
       "      <td>NaN</td>\n",
       "      <td>2.300000e+09</td>\n",
       "      <td>0</td>\n",
       "      <td>-0.158776</td>\n",
       "      <td>1.223542</td>\n",
       "      <td>-0.496102</td>\n",
       "    </tr>\n",
       "    <tr>\n",
       "      <th>2</th>\n",
       "      <td>404</td>\n",
       "      <td>404Coin</td>\n",
       "      <td>Scrypt</td>\n",
       "      <td>True</td>\n",
       "      <td>PoW/PoS</td>\n",
       "      <td>1.055185e+09</td>\n",
       "      <td>5.320000e+08</td>\n",
       "      <td>0</td>\n",
       "      <td>-0.113730</td>\n",
       "      <td>0.820260</td>\n",
       "      <td>-0.298519</td>\n",
       "    </tr>\n",
       "    <tr>\n",
       "      <th>3</th>\n",
       "      <td>611</td>\n",
       "      <td>SixEleven</td>\n",
       "      <td>SHA-256</td>\n",
       "      <td>True</td>\n",
       "      <td>PoW</td>\n",
       "      <td>NaN</td>\n",
       "      <td>6.110000e+05</td>\n",
       "      <td>0</td>\n",
       "      <td>0.338229</td>\n",
       "      <td>1.953817</td>\n",
       "      <td>-0.544069</td>\n",
       "    </tr>\n",
       "    <tr>\n",
       "      <th>4</th>\n",
       "      <td>808</td>\n",
       "      <td>808</td>\n",
       "      <td>SHA-256</td>\n",
       "      <td>True</td>\n",
       "      <td>PoW/PoS</td>\n",
       "      <td>0.000000e+00</td>\n",
       "      <td>0.000000e+00</td>\n",
       "      <td>1</td>\n",
       "      <td>-0.242216</td>\n",
       "      <td>-1.408971</td>\n",
       "      <td>0.154315</td>\n",
       "    </tr>\n",
       "    <tr>\n",
       "      <th>5</th>\n",
       "      <td>1337</td>\n",
       "      <td>EliteCoin</td>\n",
       "      <td>X13</td>\n",
       "      <td>True</td>\n",
       "      <td>PoW/PoS</td>\n",
       "      <td>2.927942e+10</td>\n",
       "      <td>3.141593e+11</td>\n",
       "      <td>1</td>\n",
       "      <td>-0.357066</td>\n",
       "      <td>-2.076112</td>\n",
       "      <td>0.322690</td>\n",
       "    </tr>\n",
       "    <tr>\n",
       "      <th>6</th>\n",
       "      <td>2015</td>\n",
       "      <td>2015 coin</td>\n",
       "      <td>X11</td>\n",
       "      <td>True</td>\n",
       "      <td>PoW/PoS</td>\n",
       "      <td>NaN</td>\n",
       "      <td>0.000000e+00</td>\n",
       "      <td>1</td>\n",
       "      <td>-0.300691</td>\n",
       "      <td>-1.004202</td>\n",
       "      <td>-0.042788</td>\n",
       "    </tr>\n",
       "    <tr>\n",
       "      <th>7</th>\n",
       "      <td>BTC</td>\n",
       "      <td>Bitcoin</td>\n",
       "      <td>SHA-256</td>\n",
       "      <td>True</td>\n",
       "      <td>PoW</td>\n",
       "      <td>1.792718e+07</td>\n",
       "      <td>2.100000e+07</td>\n",
       "      <td>0</td>\n",
       "      <td>-0.200150</td>\n",
       "      <td>1.380630</td>\n",
       "      <td>-0.451381</td>\n",
       "    </tr>\n",
       "    <tr>\n",
       "      <th>8</th>\n",
       "      <td>ETH</td>\n",
       "      <td>Ethereum</td>\n",
       "      <td>Ethash</td>\n",
       "      <td>True</td>\n",
       "      <td>PoW</td>\n",
       "      <td>1.076842e+08</td>\n",
       "      <td>0.000000e+00</td>\n",
       "      <td>1</td>\n",
       "      <td>-0.324322</td>\n",
       "      <td>-2.191057</td>\n",
       "      <td>0.342976</td>\n",
       "    </tr>\n",
       "    <tr>\n",
       "      <th>9</th>\n",
       "      <td>LTC</td>\n",
       "      <td>Litecoin</td>\n",
       "      <td>Scrypt</td>\n",
       "      <td>True</td>\n",
       "      <td>PoW</td>\n",
       "      <td>6.303924e+07</td>\n",
       "      <td>8.400000e+07</td>\n",
       "      <td>1</td>\n",
       "      <td>-0.356990</td>\n",
       "      <td>-2.076120</td>\n",
       "      <td>0.322688</td>\n",
       "    </tr>\n",
       "  </tbody>\n",
       "</table>\n",
       "</div>"
      ],
      "text/plain": [
       "  Unnamed: 0   CoinName Algorithm  IsTrading ProofType  TotalCoinsMined  \\\n",
       "0         42    42 Coin    Scrypt       True   PoW/PoS     4.199995e+01   \n",
       "1        365    365Coin       X11       True   PoW/PoS              NaN   \n",
       "2        404    404Coin    Scrypt       True   PoW/PoS     1.055185e+09   \n",
       "3        611  SixEleven   SHA-256       True       PoW              NaN   \n",
       "4        808        808   SHA-256       True   PoW/PoS     0.000000e+00   \n",
       "5       1337  EliteCoin       X13       True   PoW/PoS     2.927942e+10   \n",
       "6       2015  2015 coin       X11       True   PoW/PoS              NaN   \n",
       "7        BTC    Bitcoin   SHA-256       True       PoW     1.792718e+07   \n",
       "8        ETH   Ethereum    Ethash       True       PoW     1.076842e+08   \n",
       "9        LTC   Litecoin    Scrypt       True       PoW     6.303924e+07   \n",
       "\n",
       "   TotalCoinSupply  Class       PC1       PC2       PC3  \n",
       "0     4.200000e+01      0 -0.172805  1.225095 -0.495600  \n",
       "1     2.300000e+09      0 -0.158776  1.223542 -0.496102  \n",
       "2     5.320000e+08      0 -0.113730  0.820260 -0.298519  \n",
       "3     6.110000e+05      0  0.338229  1.953817 -0.544069  \n",
       "4     0.000000e+00      1 -0.242216 -1.408971  0.154315  \n",
       "5     3.141593e+11      1 -0.357066 -2.076112  0.322690  \n",
       "6     0.000000e+00      1 -0.300691 -1.004202 -0.042788  \n",
       "7     2.100000e+07      0 -0.200150  1.380630 -0.451381  \n",
       "8     0.000000e+00      1 -0.324322 -2.191057  0.342976  \n",
       "9     8.400000e+07      1 -0.356990 -2.076120  0.322688  "
      ]
     },
     "execution_count": 246,
     "metadata": {},
     "output_type": "execute_result"
    }
   ],
   "source": [
    "clustered_df = crypto_df_initial.join(df_y, how='inner').join(df_crypto_pca, how='inner')\n",
    "\n",
    "# Print the shape of the clustered_df\n",
    "print(clustered_df.shape)\n",
    "clustered_df.head(10)"
   ]
  },
  {
   "cell_type": "markdown",
   "metadata": {},
   "source": [
    "### Deliverable 4: Visualizing Cryptocurrencies Results\n",
    "\n",
    "#### 3D-Scatter with Clusters"
   ]
  },
  {
   "cell_type": "code",
   "execution_count": 247,
   "metadata": {},
   "outputs": [
    {
     "data": {
      "application/vnd.plotly.v1+json": {
       "config": {
        "plotlyServerURL": "https://plot.ly"
       },
       "data": [
        {
         "customdata": [
          [
           "Scrypt",
           "PoW/PoS",
           42
          ],
          [
           "X11",
           "PoW/PoS",
           2300000000
          ],
          [
           "Scrypt",
           "PoW/PoS",
           532000000
          ],
          [
           "SHA-256",
           "PoW",
           611000
          ],
          [
           "SHA-256",
           "PoW/PoS",
           0
          ],
          [
           "X13",
           "PoW/PoS",
           314159265359
          ],
          [
           "X11",
           "PoW/PoS",
           0
          ],
          [
           "SHA-256",
           "PoW",
           21000000
          ],
          [
           "Ethash",
           "PoW",
           0
          ],
          [
           "Scrypt",
           "PoW",
           84000000
          ],
          [
           "X11",
           "PoW/PoS",
           22000000
          ],
          [
           "CryptoNight-V7",
           "PoW",
           0
          ],
          [
           "Ethash",
           "PoW",
           210000000
          ],
          [
           "Equihash",
           "PoW",
           21000000
          ],
          [
           "SHA-512",
           "PoS",
           3600570502
          ],
          [
           "Multiple",
           "PoW",
           21000000000
          ],
          [
           "SHA-256",
           "PoW/PoS",
           22000000
          ],
          [
           "X11",
           "PoS",
           30000000
          ],
          [
           "X11",
           "PoW/PoS",
           1300000
          ],
          [
           "SHA-256",
           "PoS",
           12500000
          ],
          [
           "Scrypt",
           "PoW",
           21000000
          ],
          [
           "Multiple",
           "PoS",
           200000000
          ],
          [
           "X13",
           "PoW/PoS",
           3000000
          ],
          [
           "X11",
           "PoW",
           500000000
          ],
          [
           "X15",
           "PoW/PoS",
           350000000
          ],
          [
           "NIST5",
           "PoW/PoS",
           0
          ],
          [
           "Scrypt",
           "PoW/PoS",
           0
          ],
          [
           "X11",
           "PoW",
           20000000
          ],
          [
           "X11",
           "PoW",
           50000000
          ],
          [
           "SHA-256",
           "PoW",
           1600000
          ],
          [
           "X13",
           "PoS",
           7000000
          ],
          [
           "Scrypt",
           "PoW",
           210182000
          ],
          [
           "X13",
           "PoS",
           0
          ],
          [
           "Scrypt",
           "PoW",
           168000000
          ],
          [
           "Scrypt",
           "PoW",
           200000000
          ],
          [
           "X13",
           "PoW/PoS",
           6000000
          ],
          [
           "Scrypt",
           "PoS",
           16403135
          ],
          [
           "Scrypt",
           "PoW",
           64000000
          ],
          [
           "Scrypt",
           "PoW",
           322649400
          ],
          [
           "Scrypt",
           "PoW/PoS",
           16768584
          ],
          [
           "SHA-256",
           "PoW",
           32000000
          ],
          [
           "SHA-256",
           "PoW/PoS",
           50000000000
          ],
          [
           "Scrypt",
           "PoW/PoS",
           0
          ],
          [
           "Scrypt",
           "PoW",
           88000000
          ],
          [
           "Multiple",
           "PoW",
           2000000000
          ],
          [
           "Scrypt",
           "PoW",
           384000000000
          ],
          [
           "SHA-256",
           "PoW",
           169795588
          ],
          [
           "Scrypt",
           "PoW",
           250000000
          ],
          [
           "Scrypt",
           "PoW",
           100000000
          ],
          [
           "Scrypt",
           "PoW/PoS",
           0
          ],
          [
           "Quark",
           "PoW",
           247000000
          ],
          [
           "Groestl",
           "PoW",
           84000000
          ],
          [
           "Scrypt",
           "PoW",
           48166000
          ],
          [
           "X11",
           "PoW",
           21000000
          ],
          [
           "Scrypt",
           "PoW/PoS",
           500000
          ],
          [
           "Scrypt",
           "PoS",
           0
          ],
          [
           "Scrypt",
           "PoW",
           27580000
          ],
          [
           "Scrypt",
           "PoW/PoS",
           100000000
          ],
          [
           "Scrypt",
           "PoW",
           2000000000
          ],
          [
           "Scrypt",
           "PoW/PoS",
           47433600
          ],
          [
           "Scrypt",
           "PoW/PoS",
           47433600
          ],
          [
           "Scrypt",
           "PoW",
           21000000
          ],
          [
           "Scrypt",
           "PoW/PoS",
           1000000
          ],
          [
           "Scrypt",
           "PoW",
           13140000
          ],
          [
           "Multiple",
           "PoW/PoS",
           114000000
          ],
          [
           "Scrypt",
           "PoW",
           15000000
          ],
          [
           "SHA-256",
           "PoW",
           27200000
          ],
          [
           "Scrypt",
           "PoW/PoS",
           100000000
          ],
          [
           "Scrypt",
           "PoW",
           462500000
          ],
          [
           "X11",
           "PoW",
           8500000
          ],
          [
           "Scrypt",
           "PoW/PoS",
           1000000000
          ],
          [
           "Scrypt",
           "PoS",
           100000000
          ],
          [
           "X11",
           "PoW",
           6000000
          ],
          [
           "X11",
           "PoW",
           18000000
          ],
          [
           "Scrypt",
           "PoC",
           40000000000
          ],
          [
           "SHA-256",
           "PoW/PoS",
           0
          ],
          [
           "Groestl",
           "PoW/PoS",
           4380000
          ],
          [
           "Multiple",
           "PoW",
           16555000000
          ],
          [
           "X11",
           "PoW/PoS",
           3720000
          ],
          [
           "Scrypt",
           "PoW",
           2043962
          ],
          [
           "SHA-256",
           "PoW",
           21000000000
          ],
          [
           "Scrypt",
           "PoW",
           13500000000
          ],
          [
           "Scrypt",
           "PoW",
           21000000
          ],
          [
           "Scrypt",
           "PoW",
           75000000
          ],
          [
           "Scrypt",
           "PoW",
           299792458
          ],
          [
           "Scrypt",
           "PoW",
           32000000
          ],
          [
           "PoS",
           "PoS",
           0
          ],
          [
           "Scrypt",
           "PoW",
           21000000
          ],
          [
           "Scrypt",
           "PoW",
           84000000
          ],
          [
           "Scrypt",
           "PoW",
           100000000000
          ],
          [
           "X11",
           "PoS",
           100000000
          ],
          [
           "SHA-256",
           "PoW",
           700000000000
          ],
          [
           "NIST5",
           "PoW/PoS",
           624000
          ],
          [
           "SHA-256",
           "PoW",
           2602410
          ],
          [
           "Scrypt",
           "PoS/PoW/PoT",
           0
          ],
          [
           "Scrypt",
           "PoW",
           11235813
          ],
          [
           "X11",
           "PoW",
           1000000
          ],
          [
           "NeoScrypt",
           "PoW",
           336000000
          ],
          [
           "Scrypt",
           "PoW",
           1420609614
          ],
          [
           "Scrypt",
           "PoW",
           70000000
          ],
          [
           "Scrypt",
           "PoW",
           72245700
          ],
          [
           "Scrypt",
           "PoW/PoS",
           538214400
          ],
          [
           "X11",
           "PoW/PoS",
           7000000
          ],
          [
           "Scrypt",
           "PoW/PoS",
           500000000
          ],
          [
           "X11",
           "PoW/PoS",
           19500000
          ],
          [
           "X15",
           "PoW/PoS",
           0
          ],
          [
           "Scrypt",
           "PoW/PoS",
           120000000
          ],
          [
           "Multiple",
           "PoW",
           42000000
          ],
          [
           "Multiple",
           "PoW",
           128000000
          ],
          [
           "X11",
           "PoS",
           0
          ],
          [
           "NIST5",
           "PoW/PoS",
           8750000
          ],
          [
           "Scrypt",
           "PoW",
           90600000000
          ],
          [
           "X11",
           "PoW/PoS",
           22000000
          ],
          [
           "SHA-256",
           "PoW",
           21000000
          ],
          [
           "X11",
           "PoW/PoS",
           3293010
          ],
          [
           "Scrypt",
           "PoW",
           107000000
          ],
          [
           "X13",
           "PoW/PoS",
           21600000
          ],
          [
           "Scrypt",
           "PoW",
           20000000
          ],
          [
           "Scrypt",
           "PoW",
           265420800
          ],
          [
           "Scrypt",
           "PoW/PoS",
           99792000
          ],
          [
           "Scrypt",
           "PoW",
           20000000
          ],
          [
           "NIST5",
           "PoW/PoS",
           900000
          ],
          [
           "Scrypt",
           "PoW",
           1350000
          ],
          [
           "Scrypt",
           "PoW",
           82003200
          ],
          [
           "X11",
           "PoW",
           84000000
          ],
          [
           "X11",
           "PoW/PoS",
           1000000
          ],
          [
           "Scrypt",
           "PoW",
           4950000000
          ],
          [
           "SHA3",
           "PoW/PoS",
           100000000
          ],
          [
           "Scrypt",
           "PoW",
           42000000
          ],
          [
           "HybridScryptHash256",
           "PoW",
           200000000
          ],
          [
           "Scrypt",
           "PoS",
           0
          ],
          [
           "SHA-256",
           "PoW",
           0
          ],
          [
           "Scrypt",
           "PoW",
           10000000
          ],
          [
           "Scrypt",
           "PoW",
           58000000
          ],
          [
           "SHA-256",
           "PoW/PoS",
           2419200000
          ],
          [
           "Scrypt",
           "PoW",
           80000000
          ],
          [
           "Scrypt",
           "PoS",
           16180000
          ],
          [
           "X13",
           "PoW/PoS",
           0
          ],
          [
           "Scrypt",
           "PoW",
           210000000
          ],
          [
           "X15",
           "PoW/PoS",
           25000000
          ],
          [
           "SHA-256",
           "PoW",
           50000000
          ],
          [
           "Scrypt",
           "PoW",
           15000000000
          ],
          [
           "Scrypt",
           "PoW/PoS",
           5000000
          ],
          [
           "SHA-256",
           "PoW",
           21000000
          ],
          [
           "Scrypt",
           "PoW",
           337000000
          ],
          [
           "X13",
           "PoW/PoS",
           0
          ],
          [
           "NeoScrypt",
           "PoW/PoS",
           3770000
          ],
          [
           "Scrypt",
           "PoW",
           8891840
          ],
          [
           "Scrypt",
           "PoW/PoS",
           420000000
          ],
          [
           "X13",
           "PoW/PoS",
           2200000
          ],
          [
           "Scrypt",
           "PoW/PoS",
           98000000
          ],
          [
           "Scrypt",
           "PoW/PoS",
           30000000
          ],
          [
           "Scrypt",
           "PoW/PoS",
           0
          ],
          [
           "Scrypt",
           "PoW",
           12000000
          ],
          [
           "Scrypt",
           "PoW",
           21000000
          ],
          [
           "Scrypt-n",
           "PoW/PoS",
           288000
          ],
          [
           "Scrypt",
           "PoW",
           140000000
          ],
          [
           "Scrypt",
           "PoW",
           4000000
          ],
          [
           "Scrypt",
           "PoW",
           15000000000
          ],
          [
           "Scrypt",
           "PoW",
           250000000
          ],
          [
           "Multiple",
           "PoW",
           111000000
          ],
          [
           "Scrypt",
           "PoW/PoS",
           2000000
          ],
          [
           "X15",
           "PoW/PoS",
           1000000
          ],
          [
           "Scrypt",
           "PoW/PoS",
           1000000
          ],
          [
           "X13",
           "PoS",
           0
          ],
          [
           "Scrypt",
           "PoW",
           51200000
          ],
          [
           "X15",
           "PoW/PoS",
           1200000
          ],
          [
           "Scrypt-n",
           "PoW",
           50000000
          ],
          [
           "Scrypt",
           "PoW",
           100000000
          ],
          [
           "Scrypt",
           "PoW",
           21000000
          ],
          [
           "X13",
           "PoW",
           21000000
          ],
          [
           "X11",
           "PoS",
           0
          ],
          [
           "X11",
           "PoW/PoS",
           1000
          ],
          [
           "SHA-256",
           "PoW",
           888000000
          ],
          [
           "Scrypt",
           "PoW/PoS",
           1000000
          ],
          [
           "SHA-256",
           "PoW/PoS",
           7515187520
          ],
          [
           "Multiple",
           "PoS",
           100000000
          ],
          [
           "SHA-256",
           "PoW",
           47011968
          ],
          [
           "PHI1612",
           "PoS",
           2300000000
          ],
          [
           "X11",
           "PoW/PoS",
           10000000
          ],
          [
           "SHA-256",
           "PoW",
           42000000
          ],
          [
           "Scrypt",
           "PoW",
           1000000
          ],
          [
           "SHA-256",
           "PoW",
           2625000
          ],
          [
           "SHA-256",
           "PoW",
           80000000
          ],
          [
           "SHA-256",
           "PoW",
           250000
          ],
          [
           "X11",
           "PoW",
           0
          ],
          [
           "Scrypt",
           "PoW/PoS",
           1600000000
          ],
          [
           "Scrypt",
           "PoW/PoS",
           100000000
          ],
          [
           "X13",
           "PoW/PoS",
           0
          ],
          [
           "X11",
           "PoW/PoS",
           0
          ],
          [
           "Scrypt",
           "PoW",
           23000000
          ],
          [
           "X11",
           "PoW",
           0
          ],
          [
           "Scrypt",
           "PoST",
           0
          ],
          [
           "Lyra2REv2",
           "PoW",
           84000000
          ],
          [
           "Scrypt",
           "PoW",
           265420800
          ],
          [
           "X11",
           "PoB/PoS",
           0
          ],
          [
           "Scrypt",
           "PoW/PoS",
           2000000
          ],
          [
           "X11",
           "PoW/PoS",
           5500000
          ],
          [
           "Multiple",
           "PoS",
           0
          ],
          [
           "SHA-256",
           "PoW",
           45000000
          ],
          [
           "X11",
           "PoW/PoS",
           16500000
          ],
          [
           "X13",
           "PoW/PoS",
           0
          ],
          [
           "Scrypt",
           "PoW/PoS",
           50000000
          ],
          [
           "Scrypt",
           "PoW",
           2000000000
          ],
          [
           "Scrypt",
           "PoW/PoS",
           1000000000
          ],
          [
           "Scrypt",
           "PoW",
           120000000
          ],
          [
           "CryptoNight",
           "PoW",
           184467440735
          ],
          [
           "X13",
           "PoW/PoS",
           3000000
          ],
          [
           "CryptoNight",
           "PoW",
           10000000000
          ],
          [
           "SHA-256",
           "PoW",
           2100000
          ],
          [
           "Shabal256",
           "PoC",
           2158812800
          ],
          [
           "Counterparty",
           "PoS",
           500000000
          ],
          [
           "Blake",
           "PoW",
           164429865
          ],
          [
           "Scrypt",
           "PoW",
           989800
          ],
          [
           "Scrypt",
           "PoW",
           105120000
          ],
          [
           "SHA-256",
           "PoW/PoS",
           100000000
          ],
          [
           "SHA-256",
           "PoW/PoS",
           68000000
          ],
          [
           "SHA-256",
           "PoW",
           1000000
          ],
          [
           "Scrypt",
           "PoW/PoS",
           15000000
          ],
          [
           "Scrypt",
           "PoS",
           17000000
          ],
          [
           "Groestl",
           "PoW/PoS",
           0
          ],
          [
           "Scrypt",
           "PoW",
           1680000000
          ],
          [
           "Scrypt",
           "PoS",
           0
          ],
          [
           "Scrypt",
           "PoW",
           166386000
          ],
          [
           "X13",
           "PoW/PoS",
           12000000
          ],
          [
           "Scrypt",
           "PoW",
           2628000
          ],
          [
           "SHA-256",
           "PoW/PoS",
           0
          ],
          [
           "Scrypt",
           "PoS",
           500000000
          ],
          [
           "Scrypt",
           "PoW",
           160000000
          ],
          [
           "SHA-256",
           "PoS",
           2014
          ],
          [
           "Scrypt",
           "PoW/PoS",
           0
          ],
          [
           "X13",
           "PoW/PoS",
           10000000
          ],
          [
           "X13",
           "PoW/PoS",
           12000000
          ],
          [
           "X11",
           "PoW/PoS",
           0
          ],
          [
           "Scrypt",
           "PoW/PoS",
           750000000
          ],
          [
           "Scrypt",
           "PoW",
           1000000000
          ],
          [
           "X11",
           "PoW/PoS",
           10110000
          ],
          [
           "Momentum",
           "PoW",
           210000000
          ],
          [
           "CryptoNight",
           "PoW",
           0
          ],
          [
           "Blake",
           "PoW",
           2272800
          ],
          [
           "Stanford Folding",
           "PoW",
           1000000000
          ],
          [
           "X11",
           "PoW/PoS",
           0
          ],
          [
           "X11",
           "PoS",
           20000000
          ],
          [
           "Multiple",
           "PoW",
           0
          ],
          [
           "QuBit",
           "PoW",
           0
          ],
          [
           "X13",
           "PoS/PoB",
           0
          ],
          [
           "X15",
           "PoW/PoS",
           0
          ],
          [
           "Scrypt",
           "PoW",
           3371337
          ],
          [
           "X11",
           "PoW",
           0
          ],
          [
           "Scrypt",
           "PoW/PoS",
           0
          ],
          [
           "Scrypt",
           "PoW/PoS",
           20000000
          ],
          [
           "Scrypt",
           "PoW",
           0
          ],
          [
           "Scrypt",
           "PoW",
           10000000000
          ],
          [
           "XG Hash",
           "PoW/PoS",
           0
          ],
          [
           "X11",
           "PoW",
           2000000
          ],
          [
           "Scrypt",
           "PoW",
           21649485
          ],
          [
           "X11",
           "PoW/PoS",
           0
          ],
          [
           "SHA-256",
           "PoW",
           0
          ],
          [
           "X11",
           "PoS",
           24000000
          ],
          [
           "M7 POW",
           "PoW",
           1840000000
          ],
          [
           "Scrypt",
           "PoW",
           84000000
          ],
          [
           "Multiple",
           "PoW",
           10000000
          ],
          [
           "X11",
           "PoW",
           33000000
          ],
          [
           "Scrypt",
           "PoW",
           619478
          ],
          [
           "Scrypt",
           "PoW/PoS",
           3891
          ],
          [
           "Multiple",
           "PoW",
           1000000000
          ],
          [
           "X11",
           "PoW",
           1000000
          ],
          [
           "Curve25519",
           "PoA",
           1000000000
          ],
          [
           "SHA-256",
           "PoW",
           21000000
          ],
          [
           "Scrypt",
           "PoW",
           4832660000
          ],
          [
           "Scrypt",
           "PoW/PoS",
           0
          ],
          [
           "Scrypt",
           "PoW",
           92000000000
          ],
          [
           "Scrypt",
           "PoW/PoS",
           0
          ],
          [
           "Scrypt-n",
           "PoW",
           1000000
          ],
          [
           "SHA-256",
           "PoW/PoS",
           0
          ],
          [
           "X11",
           "PoW/PoS",
           0
          ],
          [
           "X11",
           "PoW",
           33000000
          ],
          [
           "X11",
           "PoS",
           0
          ],
          [
           "SHA-256",
           "PoS",
           0
          ],
          [
           "X11",
           "PoW/PoS",
           0
          ],
          [
           "SHA3",
           "PoW/nPoS",
           78000000
          ],
          [
           "X11",
           "PoW/PoS",
           20445500
          ],
          [
           "X11",
           "PoW/PoS",
           0
          ],
          [
           "X11",
           "PoW",
           33000000
          ],
          [
           "X11",
           "PoW/PoS",
           0
          ],
          [
           "Scrypt",
           "PoW/PoS",
           0
          ],
          [
           "X13",
           "PoW/PoS",
           0
          ],
          [
           "Scrypt",
           "PoW/PoS",
           0
          ],
          [
           "Lyra2RE",
           "PoW",
           65789100
          ],
          [
           "X13",
           "PoW/PoS",
           0
          ],
          [
           "Scrypt",
           "PoW/PoS/PoC",
           5300000
          ],
          [
           "X11",
           "PoW",
           3400000
          ],
          [
           "X11",
           "PoS",
           210000000
          ],
          [
           "Scrypt",
           "PoW/PoS",
           0
          ],
          [
           "SHA-256",
           "PoW",
           53760000
          ],
          [
           "QUAIT",
           "PoW/PoS",
           5060000
          ],
          [
           "X11",
           "PoW",
           21000000
          ],
          [
           "SHA-256",
           "PoW/PoS",
           1500000
          ],
          [
           "vDPOS",
           "PoS",
           0
          ],
          [
           "Scrypt",
           "PoW",
           100000
          ],
          [
           "X11",
           "PoS/PoW",
           0
          ],
          [
           "Scrypt",
           "PoW",
           500000
          ],
          [
           "X11",
           "PoW/PoS",
           0
          ],
          [
           "SHA-256",
           "PoW/PoS",
           0
          ],
          [
           "NIST5",
           "PoW/PoS",
           0
          ],
          [
           "X15",
           "PoW/PoS",
           0
          ],
          [
           "SHA-256",
           "PoW/PoS",
           0
          ],
          [
           "X13",
           "PoW",
           33000000
          ],
          [
           "Scrypt",
           "PoW",
           210240000
          ],
          [
           "SHA-256",
           "PoW/PoS",
           0
          ],
          [
           "X11",
           "PoW",
           0
          ],
          [
           "Scrypt",
           "PoW",
           3000000000
          ],
          [
           "SHA-256",
           "PoW/PoS",
           0
          ],
          [
           "Scrypt",
           "PoW",
           250000000
          ],
          [
           "Scrypt",
           "PoS",
           100000000
          ],
          [
           "Ethash",
           "PoW",
           16906397
          ],
          [
           "X11",
           "PoS",
           2228921.184
          ],
          [
           "X13",
           "PoW/PoS",
           50000000
          ],
          [
           "Blake2b",
           "PoW",
           0
          ],
          [
           "Lyra2RE",
           "PoW/PoS",
           0
          ],
          [
           "SHA-256",
           "PoW/PoS",
           1000000000
          ],
          [
           "X13",
           "PoS",
           3852156
          ],
          [
           "X15",
           "PoW/PoS",
           26298000
          ],
          [
           "X11",
           "PoW",
           16000000
          ],
          [
           "SHA-256",
           "PoW",
           21000000
          ],
          [
           "BLAKE256",
           "PoW/PoS",
           21000000
          ],
          [
           "Scrypt",
           "PoW",
           16500000000
          ],
          [
           "Scrypt",
           "PoW",
           210000000
          ],
          [
           "1GB AES Pattern Search",
           "PoW",
           81962100
          ],
          [
           "SHA-256",
           "PoW/PoS",
           22000000
          ],
          [
           "X11",
           "PoW/PoS",
           26550000000
          ],
          [
           "Scrypt",
           "PoW",
           84000000
          ],
          [
           "CryptoNight",
           "PoW",
           18446744
          ],
          [
           "SHA-256",
           "PoW/PoS",
           10500000
          ],
          [
           "Quark",
           "PoW/PoS",
           20190463.54969237
          ],
          [
           "SHA-256",
           "PoW",
           21626280000
          ],
          [
           "Scrypt",
           "PoW/PoS",
           3966666667
          ],
          [
           "NIST5",
           "PoW/PoS",
           0
          ],
          [
           "Blake",
           "PoS",
           12000000
          ],
          [
           "Scrypt",
           "PoW/PoS",
           42000000
          ],
          [
           "Scrypt",
           "PoW/PoS",
           4200000
          ],
          [
           "SHA-256",
           "PoW",
           15000000
          ],
          [
           "Scrypt",
           "PoW/PoS",
           1400000000
          ],
          [
           "X11",
           "PoW",
           2250000000
          ],
          [
           "Scrypt",
           "PoS",
           221052632
          ],
          [
           "X15",
           "PoW/PoS",
           30700000
          ],
          [
           "Scrypt-n",
           "PoW",
           5000000000
          ],
          [
           "X11",
           "PoW",
           84000000
          ],
          [
           "Scrypt",
           "PoW/PoS",
           250000000
          ],
          [
           "Scrypt",
           "PoW",
           21000000000
          ],
          [
           "Dagger",
           "PoW",
           30000000
          ],
          [
           "Scrypt",
           "PoW",
           168351300
          ],
          [
           "SHA-256",
           "PoW/PoS",
           210000000
          ],
          [
           "CryptoNight-Lite",
           "PoW",
           18400000
          ],
          [
           "X11GOST",
           "PoW",
           24000000
          ],
          [
           "X11",
           "PoW/PoS",
           384000000
          ],
          [
           "Scrypt",
           "PoW",
           314159265359
          ],
          [
           "X11",
           "PoW/PoS",
           21007600
          ],
          [
           "SHA-256",
           "PoW",
           42000000
          ],
          [
           "X11",
           "PoS",
           21000000000
          ],
          [
           "X13",
           "PoW/PoS",
           10000000
          ],
          [
           "Scrypt",
           "PoS",
           99000000000
          ],
          [
           "Scrypt",
           "PoW",
           10000000000
          ],
          [
           "SHA-256",
           "PoW/PoS",
           40000000
          ],
          [
           "Scrypt",
           "PoC",
           2147483647
          ],
          [
           "PoS",
           "PoS",
           20000000
          ],
          [
           "X11",
           "PoS",
           98000000
          ],
          [
           "Scrypt",
           "PoW",
           20000000
          ],
          [
           "Scrypt",
           "PoW",
           270967742
          ],
          [
           "X11",
           "PoW/PoS",
           25885320
          ],
          [
           "X11",
           "PoW",
           50000000
          ],
          [
           "Dagger",
           "PoW",
           25885320
          ],
          [
           "PoS",
           "PoW",
           250000
          ],
          [
           "SHA-256D",
           "PoW/PoS",
           100000000
          ],
          [
           "Scrypt",
           "PoW/PoS",
           88900000
          ],
          [
           "Scrypt",
           "PoW/PoS",
           1000000
          ],
          [
           "X11",
           "PoW",
           25000000
          ],
          [
           "Scrypt",
           "PoW",
           100200000
          ],
          [
           "SHA-256",
           "PoW/PoS",
           1700000
          ],
          [
           "X11",
           "PoW/PoS",
           100000
          ],
          [
           "Scrypt",
           "PoW",
           21000000
          ],
          [
           "X11",
           "PoW/PoS",
           21000000
          ],
          [
           "X11",
           "PoW/PoS",
           75000000
          ],
          [
           "Scrypt",
           "PoW",
           42000000
          ],
          [
           "PoS",
           "PoS",
           15000000
          ],
          [
           "X11",
           "PoS",
           1000000000
          ],
          [
           "Scrypt",
           "PoW",
           313333333
          ],
          [
           "Scrypt",
           "PoW/PoS",
           1246000000
          ],
          [
           "SHA-256",
           "PoW/PoS",
           222725000
          ],
          [
           "X11",
           "PoW/PoS",
           31500000000
          ],
          [
           "X11",
           "PoW/PoS",
           6562000
          ],
          [
           "Scrypt",
           "PoW/PoS",
           756000000
          ],
          [
           "Scrypt",
           "PoW/PoS",
           99000000
          ],
          [
           "SHA-256",
           "PoW",
           2421227
          ],
          [
           "SHA-256",
           "PoW/PoS",
           525000000
          ],
          [
           "NIST5",
           "PoW/PoS",
           90000000
          ],
          [
           "NIST5",
           "PoW/PoS",
           2200000
          ],
          [
           "Lyra2RE",
           "PoW",
           250000
          ],
          [
           "SHA-256",
           "PoS",
           22830000
          ],
          [
           "X15",
           "PoW/PoS",
           36000000
          ],
          [
           "SHA-256",
           "PoW",
           400000000
          ],
          [
           "X11",
           "PoW/PoS",
           21024000
          ],
          [
           "Scrypt",
           "PoW/PoS",
           1012941176
          ],
          [
           "X11",
           "PoW/PoS",
           139000000
          ],
          [
           "Scrypt",
           "PoW/PoS",
           212625
          ],
          [
           "NIST5",
           "PoW/PoS",
           16000000
          ],
          [
           "Scrypt",
           "PoW",
           2000000
          ],
          [
           "Scrypt",
           "PoW/PoS",
           74666667
          ],
          [
           "Scrypt",
           "PoW/PoS",
           350000000
          ],
          [
           "Scrypt",
           "PoW",
           400000000
          ],
          [
           "Scrypt",
           "PoW",
           616448
          ],
          [
           "POS 3.0",
           "PoS",
           33500000
          ],
          [
           "Scrypt",
           "PoW",
           34181818
          ],
          [
           "PoS",
           "PoS",
           9000000
          ],
          [
           "X13",
           "PoW/PoS",
           500000000
          ],
          [
           "Scrypt",
           "PoW/PoS",
           2000000000
          ],
          [
           "SHA-256",
           "PoW/PoS",
           20000000
          ],
          [
           "Scrypt",
           "PoW/PoS",
           44333333
          ],
          [
           "X13",
           "PoS",
           100000000
          ],
          [
           "Scrypt",
           "PoW/PoS",
           100000000
          ],
          [
           "SHA-256D",
           "PoW/PoS",
           4214600
          ],
          [
           "Scrypt",
           "PoW/PoS",
           21212121
          ],
          [
           "Scrypt",
           "PoW",
           335800000
          ],
          [
           "X13",
           "PoS",
           75000000
          ],
          [
           "X13",
           "PoS",
           200000000
          ],
          [
           "X11",
           "PoW",
           25000000
          ],
          [
           "X11",
           "PoS",
           657000000
          ],
          [
           "SHA-256",
           "PoW",
           500000000
          ],
          [
           "Equihash",
           "dPoW/PoW",
           200000000
          ],
          [
           "X11",
           "PoW/PoS",
           50000000
          ],
          [
           "SHA-256",
           "DPoS/LPoS",
           5352058721.53
          ],
          [
           "X11",
           "PoS",
           100000000
          ],
          [
           "Scrypt",
           "PoW/PoS",
           25000000
          ],
          [
           "X11",
           "PoW/PoS",
           150000000
          ],
          [
           "Scrypt",
           "PoW/PoS",
           90000000
          ],
          [
           "Scrypt",
           "PoW/PoS",
           1613150000
          ],
          [
           "Scrypt",
           "PoW/PoS",
           33000000
          ],
          [
           "X11",
           "PoS",
           360000000
          ],
          [
           "Quark",
           "PoW/PoS",
           1200000
          ],
          [
           "SHA-256",
           "PoW/PoS",
           33000
          ],
          [
           "CryptoNight",
           "PoW",
           10000000
          ],
          [
           "X11",
           "PoW/PoS",
           3652422000
          ],
          [
           "SHA-256",
           "PoW/PoS",
           21000000
          ],
          [
           "SHA-256",
           "PoW",
           9736000
          ],
          [
           "X11",
           "PoW/PoS",
           3000000
          ],
          [
           "Scrypt",
           "PoW",
           270875968
          ],
          [
           "Scrypt",
           "PoW/PoS",
           21000000
          ],
          [
           "Multiple",
           "PoW",
           1200000000
          ],
          [
           "X13",
           "PoW/PoS",
           1000000
          ],
          [
           "Scrypt",
           "PoW",
           39200000
          ],
          [
           "Scrypt",
           "PoW/PoS",
           0
          ],
          [
           "Scrypt",
           "PoW",
           200000000
          ],
          [
           "Scrypt",
           "PoW/PoS",
           987600000
          ],
          [
           "X11",
           "PoW/PoS",
           200000
          ],
          [
           "X11",
           "PoW/PoS",
           10000000000
          ],
          [
           "QuBit",
           "PoW/PoS",
           60000000
          ],
          [
           "Progressive-n",
           "PoS",
           500000000
          ],
          [
           "Scrypt",
           "PoW/PoS",
           1990000000
          ],
          [
           "Scrypt",
           "PoW/PoS",
           1900000000
          ],
          [
           "DPoS",
           "DPoS",
           10000000
          ],
          [
           "Scrypt",
           "PoS",
           0
          ],
          [
           "Scrypt",
           "PoW/PoS",
           420000000
          ],
          [
           "SHA-256",
           "PoW",
           10638298
          ],
          [
           "Scrypt",
           "PoW/PoW",
           3100000000
          ],
          [
           "Scrypt",
           "PoW",
           4502400
          ],
          [
           "Scrypt",
           "PoW",
           30000000
          ],
          [
           "SHA-256D",
           "PoW/PoS",
           20000000000
          ],
          [
           "SHA-256",
           "PoW/PoS",
           7500000000
          ],
          [
           "X11",
           "PoS",
           696969
          ],
          [
           "PoS",
           "PoS",
           74000000
          ],
          [
           "Scrypt",
           "PoW/PoS",
           0
          ],
          [
           "X11",
           "PoW/PoS",
           90000000
          ],
          [
           "Scrypt",
           "PoW/PoS",
           735000000
          ],
          [
           "Scrypt",
           "PoW",
           67000000
          ],
          [
           "X11",
           "PoS",
           20000000
          ],
          [
           "Scrypt",
           "PoW/PoS",
           130528084
          ],
          [
           "PoS",
           "PoS",
           60000000
          ],
          [
           "Scrypt",
           "PoW",
           87500000
          ],
          [
           "X11",
           "PoW/PoS",
           1500000000
          ],
          [
           "Scrypt",
           "PoW/PoS",
           19000000
          ],
          [
           "Quark",
           "PoW",
           411000000
          ],
          [
           "Scrypt",
           "PoW/PoS",
           49411760
          ],
          [
           "X11",
           "PoW/PoS",
           50000000
          ],
          [
           "X13",
           "PoW/PoS",
           90400000
          ],
          [
           "X11",
           "PoW/PoS",
           20000000000
          ],
          [
           "X11",
           "PoW/PoS",
           500000000
          ],
          [
           "NIST5",
           "PoS",
           9188302
          ],
          [
           "Scrypt-n",
           "PoW",
           10000000
          ],
          [
           "SHA-256",
           "PoW/PoS",
           2000000
          ],
          [
           "Lyra2Z",
           "PoW",
           21400000
          ],
          [
           "Scrypt",
           "PoW",
           20000000
          ],
          [
           "SHA-256",
           "PoW",
           135000000
          ],
          [
           "SHA-256",
           "PoW",
           2000000000
          ],
          [
           "SHA-256",
           "PoW",
           2520000
          ],
          [
           "PoS",
           "PoS",
           39999898
          ],
          [
           "X11",
           "PoW/PoS",
           2100000000
          ],
          [
           "SHA-256D",
           "PoW",
           5108400
          ],
          [
           "Scrypt",
           "PoW",
           184000000
          ],
          [
           "Scrypt",
           "PoW",
           100000000
          ],
          [
           "Scrypt",
           "PoW",
           100100400000
          ],
          [
           "X11",
           "PoW/PoS",
           22000000
          ],
          [
           "X13",
           "PoS",
           2500124
          ],
          [
           "X11",
           "PoW",
           9900000000
          ],
          [
           "Quark",
           "PoW",
           126000000
          ],
          [
           "X11",
           "PoW",
           700000000
          ],
          [
           "Scrypt",
           "PoW",
           84078950
          ],
          [
           "X11",
           "PoW/PoS",
           355000
          ],
          [
           "X14",
           "PoW/PoS",
           100000000
          ],
          [
           "PoS",
           "PoS",
           301000000
          ],
          [
           "Scrypt",
           "PoW/PoS",
           8842105
          ],
          [
           "SHA-256D",
           "PoW/PoS",
           7506000000
          ],
          [
           "Ethash",
           "PoW",
           26205539
          ],
          [
           "Scrypt",
           "PoW",
           39760000
          ],
          [
           "X13",
           "PoW/PoS",
           1000000000
          ],
          [
           "Scrypt",
           "PoW/PoS",
           81454545
          ],
          [
           "Scrypt",
           "PoW/PoS",
           24000000
          ],
          [
           "SHA-256",
           "PoW",
           36129032
          ],
          [
           "Scrypt",
           "PoW/PoS",
           40000000
          ],
          [
           "SHA-256",
           "PoW",
           100000000
          ],
          [
           "Equihash",
           "PoW",
           21000000
          ],
          [
           "X13",
           "PoS",
           2500124
          ],
          [
           "X11",
           "PoW/PoS",
           31500000000
          ],
          [
           "Scrypt",
           "PoW/PoS",
           null
          ],
          [
           "Scrypt",
           "PoW/PoS",
           1744000000
          ],
          [
           "DPoS",
           "DPoS",
           125000000
          ],
          [
           "Scrypt",
           "PoW",
           500000000
          ],
          [
           "X11",
           "PoW/PoS",
           170000000
          ],
          [
           "PoS",
           "PoS",
           20000000
          ],
          [
           "X11",
           "PoW/PoS",
           30000000
          ],
          [
           "Scrypt",
           "PoW/PoS",
           1000000000
          ],
          [
           "QuBit",
           "PoW/PoS",
           50000000
          ],
          [
           "Scrypt",
           "PoW/PoS",
           1572000000
          ],
          [
           "X11",
           "PoW/PoS",
           18100000
          ],
          [
           "Scrypt",
           "PoW",
           10000000000
          ],
          [
           "Equihash",
           "PoW",
           21000000
          ],
          [
           "PoS",
           "PoS",
           5000000000
          ],
          [
           "Scrypt",
           "PoW",
           88800000000
          ],
          [
           "Scrypt",
           "PoW",
           44775520
          ],
          [
           "X11",
           "PoW/PoS",
           5000000000
          ],
          [
           "X11",
           "PoW",
           500000000
          ],
          [
           "SHA-256",
           "PoW",
           21000000
          ],
          [
           "Scrypt",
           "PoW/PoS",
           21212121
          ],
          [
           "CryptoNight",
           "PoW",
           18446744
          ],
          [
           "Scrypt",
           "PoW",
           2100000000
          ],
          [
           "X13",
           "PoW/PoS",
           850000000
          ],
          [
           "PoS",
           "PoS",
           1210000
          ],
          [
           "X11",
           "PoW/PoS",
           1000000000
          ],
          [
           "X11",
           "PoW/PoS",
           3853326.77707314
          ],
          [
           "X11",
           "PoW/PoS",
           2142857142.86
          ],
          [
           "PoS",
           "PoS",
           50000000
          ],
          [
           "SHA-256D",
           "PoW/PoS",
           7000000000
          ],
          [
           "Scrypt",
           "PoW/PoS",
           38540000
          ],
          [
           "Scrypt",
           "PoW",
           50000000
          ],
          [
           "Scrypt",
           "PoW/PoS",
           200000000
          ],
          [
           "Scrypt",
           "PoW/PoS",
           42000000
          ],
          [
           "X11",
           "PoW",
           228000000
          ],
          [
           "PoS",
           "PoS",
           20000000
          ],
          [
           "X11",
           "PoW/PoS",
           60000000
          ],
          [
           "SHA-256D",
           "PoW/PoS",
           21000000
          ],
          [
           "SHA-256",
           "PoW/PoS",
           20000000
          ],
          [
           "Scrypt",
           "PoW/PoS",
           11052632
          ],
          [
           "Scrypt",
           "PoW/PoS",
           33000000
          ],
          [
           "SHA-256D",
           "PoW/PoS",
           7996400
          ],
          [
           "X11",
           "TPoS",
           76500000
          ],
          [
           "Scrypt",
           "PoW/PoS",
           28000000
          ],
          [
           "PoS",
           "PoS",
           100000000
          ],
          [
           "Scrypt",
           "PoW",
           28000000
          ],
          [
           "X13",
           "PoS",
           21000000
          ],
          [
           "Scrypt",
           "PoW/PoS",
           650659833
          ],
          [
           "Scrypt",
           "PoW",
           2900000
          ],
          [
           "Scrypt",
           "PoW/PoS",
           100000000
          ],
          [
           "DPoS",
           "DPoS",
           0
          ],
          [
           "PoS",
           "PoS",
           520000
          ],
          [
           "PoS",
           "PoS",
           47090909
          ],
          [
           "PoS",
           "PoS",
           1000000000
          ],
          [
           "X11",
           "PoW/PoS",
           5000000
          ],
          [
           "CryptoNight",
           "PoW",
           21000000
          ],
          [
           "X11",
           "PoW/PoS",
           1613150000
          ],
          [
           "X11",
           "PoW/PoS",
           25000000
          ],
          [
           "X11",
           "PoW/PoS",
           10000000
          ],
          [
           "X13",
           "PoW/PoS",
           30000000
          ],
          [
           "Scrypt",
           "PoW/PoS",
           2500000000
          ],
          [
           "Scrypt",
           "PoW/PoS",
           144000000
          ],
          [
           "Scrypt",
           "PoS",
           32514916898
          ],
          [
           "Scrypt",
           "PoW",
           100000000
          ],
          [
           "X11",
           "PoS",
           21000000
          ],
          [
           "PoS",
           "PoS",
           10000000
          ],
          [
           "PoS",
           "PoS",
           128
          ],
          [
           "Scrypt",
           "PoW/PoS",
           13000000
          ],
          [
           "Scrypt",
           "PoW/PoS",
           3315789
          ],
          [
           "Scrypt",
           "PoW/PoS",
           520000000
          ],
          [
           "Quark",
           "PoS",
           15000000
          ],
          [
           "QuBit",
           "PoW/PoS",
           78835200
          ],
          [
           "X15",
           "PoW/PoS",
           6000000
          ],
          [
           "X13",
           "PoW/PoS",
           37875500
          ],
          [
           "X13",
           "PoW",
           6750000
          ],
          [
           "PoS",
           "PoS",
           125000000
          ],
          [
           "PoS",
           "PoS",
           1300000
          ],
          [
           "SHA-256",
           "PoW/PoS",
           1311955
          ],
          [
           "SHA-256",
           "PoW",
           4500000000
          ],
          [
           "X11",
           "PoS",
           250000000
          ],
          [
           "X11",
           "PoW/PoS",
           3195000
          ],
          [
           "X11",
           "PoW/PoS",
           50000000000
          ],
          [
           "SHA-256D",
           "PoW",
           100000000
          ],
          [
           "X13",
           "PoW/PoS",
           2100000000
          ],
          [
           "Scrypt",
           "PoW",
           2714286
          ],
          [
           "CryptoNight",
           "PoW",
           25000000
          ],
          [
           "X11",
           "PoS",
           1593.15
          ],
          [
           "X11",
           "PoW/PoS",
           250000000
          ],
          [
           "Lyra2RE",
           "PoW",
           9999999
          ],
          [
           "SHA-256",
           "PoW/PoS",
           2270000
          ],
          [
           "Time Travel",
           "PoW",
           35000000
          ],
          [
           "PoS",
           "PoS",
           159680000
          ],
          [
           "PoS",
           "PoS",
           25000000
          ],
          [
           "SHA-256D",
           "PoW",
           23
          ],
          [
           "X13",
           "PoW/PoS",
           450000000
          ],
          [
           "Scrypt",
           "PoW",
           315000000
          ],
          [
           "Scrypt",
           "PoW/PoS",
           5000000000
          ],
          [
           "Scrypt",
           "PoW/PoS",
           5333000
          ],
          [
           "Multiple",
           "PoW",
           469521976
          ],
          [
           "Scrypt",
           "PoW/PoS",
           4516129032
          ],
          [
           "PoS",
           "PoS",
           100000000
          ],
          [
           "Scrypt",
           "PoW/PoS",
           500000000
          ],
          [
           "SHA-256",
           "PoW/PoS",
           21000000
          ],
          [
           "Scrypt",
           "PoW",
           18000000
          ],
          [
           "X11",
           "PoW/PoS",
           9354000
          ],
          [
           "X11",
           "PoW/PoS",
           100000000
          ],
          [
           "Argon2",
           "PoW",
           52000000
          ],
          [
           "PoS",
           "PoS",
           100000000
          ],
          [
           "Scrypt",
           "PoW/PoS",
           2500000000
          ],
          [
           "X13",
           "PoW/PoS",
           300000
          ],
          [
           "SHA-256D",
           "PoW/PoS",
           3125000000
          ],
          [
           "SHA-256",
           "PoS",
           1000000000
          ],
          [
           "X11",
           "PoW",
           100640000
          ],
          [
           "Scrypt",
           "PoW",
           25000000
          ],
          [
           "Scrypt",
           "PoW/PoS",
           20000000
          ],
          [
           "X11",
           "PoW",
           100000000000
          ],
          [
           "Scrypt",
           "PoW/PoS",
           21933333
          ],
          [
           "Scrypt",
           "PoW",
           81000000
          ],
          [
           "Scrypt",
           "PoW/PoS",
           53200000
          ],
          [
           "PoS",
           "PoS",
           2778196
          ],
          [
           "Scrypt",
           "PoW",
           20000000
          ],
          [
           "X11",
           "PoW/PoS",
           2100000000
          ],
          [
           "Scrypt",
           "PoW",
           72000000
          ],
          [
           "X11",
           "PoS",
           1500000000
          ],
          [
           "CryptoNight-V7",
           "PoW",
           185000000
          ],
          [
           "Scrypt",
           "PoS",
           55000000
          ],
          [
           "Scrypt",
           "PoW/PoS ",
           110000000
          ],
          [
           "Scrypt",
           "PoW",
           23529412
          ],
          [
           "SHA-256",
           "PoW/PoS",
           1268000
          ],
          [
           "SHA-256D",
           "PoS",
           9000000
          ],
          [
           "Scrypt",
           "PoW/PoS",
           2991837
          ],
          [
           "DPoS",
           "DPoS",
           600000000
          ],
          [
           "X13",
           "PoS",
           100000000
          ],
          [
           "SHA-256",
           "PoW",
           40000000
          ],
          [
           "Keccak",
           "PoW",
           115000000
          ],
          [
           "Scrypt",
           "PoW",
           3360000
          ],
          [
           "X13",
           "PoS",
           14524851.4827
          ],
          [
           "SHA-256D",
           "PoW/PoS",
           null
          ],
          [
           "X11",
           "PoW/PoS",
           3000000000
          ],
          [
           "Scrypt",
           "PoW/PoS",
           500000000
          ],
          [
           "X11",
           "PoW",
           1000000000
          ],
          [
           "SHA-256D",
           "PoW/PoS",
           60000000
          ],
          [
           "Equihash",
           "PoW",
           17000000
          ],
          [
           "Scrypt",
           "PoW/PoS",
           1000000000
          ],
          [
           "Scrypt",
           "PoW",
           100000000
          ],
          [
           "Lyra2RE",
           "PoW",
           21000000
          ]
         ],
         "hovertemplate": "<b>%{hovertext}</b><br><br>PC1=%{x}<br>PC2=%{y}<br>PC3=%{z}<br>Algorithm=%{customdata[0]}<br>ProofType=%{customdata[1]}<br>TotalCoinSupply=%{customdata[2]}<br>Class=%{marker.color}<extra></extra>",
         "hovertext": [
          "42 Coin",
          "365Coin",
          "404Coin",
          "SixEleven",
          "808",
          "EliteCoin",
          "2015 coin",
          "Bitcoin",
          "Ethereum",
          "Litecoin",
          "Dash",
          "Monero",
          "Ethereum Classic",
          "ZCash",
          "Bitshares",
          "DigiByte",
          "BitcoinDark",
          "CraigsCoin",
          "Bitstake",
          "PayCoin",
          "ProsperCoin",
          "YbCoin",
          "DarkKush",
          "GiveCoin",
          "KoboCoin",
          "DarkToken",
          "CETUS Coin",
          "Spreadcoin",
          "Insanity Coin",
          "ACoin",
          "Aero Coin",
          "AlphaCoin",
          "Aegis",
          "AmericanCoin",
          "AlienCoin",
          "ApexCoin",
          "ArchCoin",
          "Argentum",
          "AriCoin",
          "Aurora Coin",
          "BetaCoin",
          "BeanCash",
          "BlueCoin",
          "BQCoin",
          "MyriadCoin",
          "MoonCoin",
          "ZetaCoin",
          "SexCoin",
          "Quatloo",
          "EnergyCoin",
          "QuarkCoin",
          "Riecoin",
          "Digitalcoin ",
          "LimeCoinX",
          "BitBar",
          "CAIx",
          "BitMark",
          "CryptoBuk",
          "Cachecoin",
          "BottleCaps",
          "CashCoin",
          "Catcoin",
          "CryptoBullion",
          "CannaCoin",
          "CinderCoin",
          "CINNICOIN",
          "CopperLark",
          "CosmosCoin",
          "ChinaCoin",
          "ConcealCoin",
          "Community Coin",
          "CoolCoin",
          "CrackCoin",
          "CryptCoin",
          "CasinoCoin",
          "eMark",
          "Diamond",
          "Verge",
          "DarkCash",
          "DarkShibe",
          "DevCoin",
          "EarthCoin",
          "E-Gulden",
          "Elacoin",
          "Einsteinium",
          "Emerald",
          "Exclusive Coin",
          "ExeCoin",
          "EZCoin",
          "Flappy Coin",
          "Fuel2Coin",
          "FireflyCoin",
          "FIBRE",
          "FireRoosterCoin",
          "FlutterCoin",
          "Franko",
          "FractalCoin",
          "FeatherCoin",
          "GrandCoin",
          "GlobalCoin",
          "GoldCoin",
          "GalaxyCoin",
          "GlyphCoin",
          "GameLeagueCoin",
          "GuerillaCoin",
          "Halcyon",
          "HoboNickels",
          "HunterCoin",
          "HeavyCoin",
          "HyperStake",
          "IceBergCoin",
          "Infinite Coin",
          "IOCoin",
          "IXcoin",
          "JumBucks Coin",
          "JunkCoin",
          "JudgeCoin",
          "Klondike Coin",
          "KrugerCoin",
          "Lucky7Coin",
          "LuckyCoin",
          "LightSpeedCoin",
          "Litebar ",
          "LitecoinDark",
          "LitecoinX",
          "LibrexCoin",
          "LycanCoin",
          "MaxCoin",
          "MegaCoin",
          "MediterraneanCoin",
          "MintCoin",
          "Cryptsy Mining Contract",
          "MinCoin",
          "MurrayCoin",
          "MazaCoin",
          "NanoToken",
          "Nautilus Coin",
          "NavCoin",
          "Nybble",
          "Nimbus Coin",
          "NoirBits",
          "NobleCoin",
          "NoirShares",
          "Namecoin",
          "NyanCoin",
          "OpalCoin",
          "Orbitcoin",
          "PhilosophersStone",
          "PotCoin",
          "PseudoCash",
          "PhoenixCoin",
          "PayCoin",
          "Reddcoin",
          "RipOffCoin",
          "RonPaulCoin",
          "RotoCoin",
          "RoyalCoin",
          "RazorCoin",
          "Saturn2Coin",
          "StableCoin",
          "SaffronCoin",
          "ShadeCoin",
          "ShieldCoin",
          "SilkCoin",
          "SterlingCoin",
          "SmartCoin",
          "SoleCoin",
          "SpainCoin",
          "Spots",
          "SecureCoin",
          "SSVCoin",
          "SuperCoin",
          "SyncCoin",
          "SysCoin",
          "TagCoin",
          "TakCoin",
          "TeslaCoin",
          "TigerCoin",
          "TittieCoin",
          "TorCoin",
          "TerraCoin",
          "TitCoin",
          "Umbrella",
          "UnbreakableCoin",
          "Unobtanium",
          "UroCoin",
          "UnitaryStatus Dollar",
          "UltraCoin",
          "Utility Coin",
          "VidioCoin",
          "ViaCoin",
          "VootCoin",
          "VeriCoin",
          "Vertcoin",
          "WorldCoin",
          "SapienceCoin",
          "SocialXbotCoin",
          "X11 Coin",
          "Crypti",
          "JouleCoin",
          "LibertyCoin",
          "StealthCoin",
          "XXXCoin",
          "YAcCoin",
          "ZCC Coin",
          "ZedCoins",
          "ByteCoin",
          "Elektron",
          "DigitalNote ",
          "XauCoin",
          "BurstCoin",
          "StorjCoin",
          "BigCoin",
          "007 coin",
          "MonaCoin",
          "TekCoin",
          "Neutron",
          "Sling Coin",
          "Stability Shares",
          "KryptCoin",
          "FairCoin",
          "Gulden",
          "RubyCoin",
          "PesetaCoin",
          "Kore",
          "Wild Beast Coin",
          "Sonic Screw Driver Coin",
          "Dnotes",
          "Flo",
          "MaieutiCoin",
          "8BIT Coin",
          "Sativa Coin",
          "AeroMe",
          "NakomotoDark",
          "GhostCoin",
          "ArtByte",
          "MasterTraderCoin",
          "BitCredit",
          "Pebble Coin",
          "Dirac Coin",
          "Folding Coin",
          "Social Media Coin",
          "Ucoin",
          "Unitus",
          "CypherPunkCoin",
          "QuBuck Coin",
          "MaryJane Coin",
          "OmniCron",
          "GigCoin",
          "CyberCoin",
          "Vtorrent",
          "MetalCoin",
          "GreenCoin",
          "XG Sports",
          "ChildCoin",
          "Instamine Nuggets",
          "ROS Coin",
          "Unattanium",
          "GAIA Platform",
          "Cryptonite",
          "Gridmaster",
          "MemoryCoin",
          "ConSpiracy Coin ",
          "MasterCoin",
          "EggCoin",
          "Ribbit Rewards",
          "ICASH",
          "Node",
          "SoonCoin",
          "BitMiles",
          "Event Token",
          "1Credit",
          "ViorCoin",
          "VirtualMining Coin",
          "Equilibrium Coin",
          "IslaCoin",
          "Quicksilver coin",
          "DeOxyRibose",
          "SkullBuzz",
          "CryptoFocus",
          "Nexus",
          "EagsCoin",
          "MultiWallet Coin",
          "MarsCoin ",
          "Megastake",
          "Singular",
          "SupplyShock",
          "DarkBit",
          "Crypto",
          "FutCoin",
          "TamaGucci",
          "MorpheusCoin",
          "Forever Coin",
          "BananaBits",
          "Anarchists Prime",
          "Droidz",
          "BowsCoin",
          "DarkTron",
          "CryptoCircuits",
          "Empyrean",
          "Squall Coin",
          "Charity Coin",
          "Milllionaire Coin",
          "Quartz",
          "SpinCoin",
          "DubCoin",
          "Graviton",
          "Hedgecoin",
          "Song Coin",
          "BitSeeds",
          "Chip",
          "SpecCoin",
          "Sprouts",
          "BitZeny",
          "Diggits",
          "Expanse",
          "MapCoin",
          "Paycon",
          "Siacoin",
          "LyraBar",
          "Emercoin",
          "BlitzCoin",
          "EverGreenCoin",
          "MindCoin",
          "I0coin",
          "Decred",
          "DogeCoinDark",
          "Revolution VR",
          "HOdlcoin",
          "EDRCoin",
          "Hitcoin",
          "Gamecredits",
          "Dashcoin",
          "DubaiCoin",
          "BiosCrypto",
          "CarpeDiemCoin",
          "RedCrowCoin",
          "PWR Coin",
          "TrumpCoin",
          "BillaryCoin",
          "EthereumScrypt",
          "Phalanx",
          "SoulCoin",
          "SunShotCoin",
          "GPU Coin",
          "Think And Get Rich Coin",
          "HempCoin",
          "Adzcoin",
          "MayaCoin",
          "VirtaCoin",
          "SoilCoin",
          "YoCoin",
          "Universal Currency",
          "AEON",
          "SibCoin",
          "EuropeCoin",
          "AdvancedInternetBlock",
          "DragonSphere",
          "Anti Bitcoin",
          "ColossusCoinXT",
          "Mineum",
          "ZeitCoin",
          "Cryptographic Anomaly",
          "SwingCoin",
          "SafeExchangeCoin",
          "Nebuchadnezzar",
          "AcesCoin",
          "Francs",
          "Number7",
          "Cygnus",
          "LGBTQoin",
          "Uther",
          "MediumProject",
          "KATZcoin",
          "Supreme",
          "Flash",
          "BolivarCoin",
          "CludCoin",
          "High Voltage Coin",
          "GIZMOcoin",
          "Fuzzballs",
          "SecretCoin",
          "Ratecoin",
          "XanaxCoin",
          "Digital Bullion Gold",
          "WMCoin",
          "GothicCoin",
          "ShrekCoin",
          "Revenu",
          "PabyosiCoin",
          "Obscurebay",
          "ExitCoin",
          "EducoinV",
          "Clinton",
          "Clockcoin",
          "VIP Tokens",
          "NXEcoin",
          "ZoomCoin",
          "YobitVirtualCoin",
          "OrlyCoin",
          "SharkCoin",
          "EvilCoin",
          "CobraCoin",
          "BitSend",
          "Destiny",
          "16BitCoin",
          "CometCoin",
          "ChessCoin",
          "ReeCoin",
          "Marvelous",
          "Omni",
          "Let it Ride",
          "ScryptCoin",
          "Specie",
          "CryptoJacks",
          "PutinCoin",
          "Kraken",
          "iBankCoin",
          "BitMoon",
          "Frankywillcoin",
          "Psilocybin",
          "RustCoin",
          "NewZealandCoin",
          "PokeChain",
          "MudraCoin",
          "PizzaCoin",
          "Lutetium Coin",
          "ExaByte (EXB)",
          "Komodo",
          "GoldBlocks",
          "EDC Blockchain",
          "WayCoin",
          "MollyCoin",
          "Save The Ocean",
          "CarterCoin",
          "TotCoin",
          "MedicCoin",
          "FuturePoints",
          "Zeta2Coin",
          "CovenCoin",
          "Karbo",
          "Tellurion",
          "BitTokens",
          "ZayedCoin",
          "MustangCoin",
          "Goonies",
          "ZoneCoin",
          "Circuits of Value",
          "DarkGold",
          "TodayCoin",
          "RootCoin",
          "DopeCoin",
          "FCoin",
          "Pioneershares",
          "PROUD Money",
          "Samsara Coin",
          "Ubiqoin",
          "Armory Coin",
          "RingCoin",
          "Lazarus",
          "BitCurrency",
          "Dark Moon",
          "DollarCoin",
          "Swiscoin",
          "BitBronze",
          "Shilling",
          "BuzzCoin",
          "Mind Gene",
          "PSIcoin",
          "Opair",
          "PesoBit",
          "Fitcoin",
          "PantherCoin",
          "Unfed Coin",
          "SportsCoin",
          "NineElevenTruthCoin",
          "EGOcoin",
          "GBR Coin",
          "Halloween Coin",
          "BaseballCardCoin",
          "BighanCoin",
          "Craftcoin",
          "OlympCoin",
          "DelightPay",
          "JobsCoin",
          "DogeGoreCoin",
          "Resumeo Shares",
          "FujiCoin",
          "Vaporcoin",
          "ZCoin",
          "Premium",
          "CaliphCoin",
          "LeaCoin",
          "Californium",
          "CoffeeCoin",
          "BlackShadowCoin",
          "JiffyCoin",
          "Moneta",
          "Rublebit",
          "HappyCreatorCoin ",
          "BrainCoin",
          "RoyalCoin",
          "BigLifeCoin",
          "Zurcoin",
          "PeaceCoin",
          "Goldmaxcoin",
          "32Bitcoin",
          "GanjaCoin V2",
          "TeamUP",
          "ScryptToken",
          "LanaCoin",
          "Elementrem",
          "GuccioneCoin",
          "EqualCoin",
          "2BACCO Coin",
          "DarkKnightCoin",
          "Community Coin",
          "ChoofCoin",
          "CashOut",
          "ZClassic",
          "RoyalCoin 2.0",
          "Pabyosi Coin",
          "NetBit",
          "WineCoin",
          "ARK",
          "ZCashDarkCoin",
          "WashingtonCoin",
          "LuckyBlocks",
          "InsaneCoin",
          "LuckChain",
          "FameCoin",
          "LiviaCoin",
          "EtherDoge",
          "KiloCoin",
          "Hush",
          "BitLuckCoin",
          "Dream8Coin",
          "Free Game Zone",
          "BosonCoin",
          "ArtexCoin",
          "PlatiniumCoin",
          "BeardDollars",
          "BipCoin",
          "XenCoin",
          "EmberCoin",
          "Coin to the Future",
          "DollarOnline",
          "XenixCoin",
          "iWallet",
          "FreeCoin",
          "NPCcoin",
          "PLNCoin",
          "Digigems",
          "Icobid",
          "AquariusCoin",
          "Kurrent",
          "Creatio",
          "Eternity",
          "Old Dogs New Tricks",
          "Eurocoin",
          "CoolDarkCoin",
          "BitcoinFast",
          "SeedShares",
          "Stakenet",
          "BitConnect Coin",
          "ShortyCoin",
          "Procom",
          "CoralPay",
          "MoneyCoin",
          "Horse Power",
          "HazMatCoin",
          "CryptoSpots",
          "Iconic",
          "NewInvestCoin",
          "AvonCoin",
          "Enigma",
          "Cannabis Industry Coin",
          "LookCoin",
          "MIScoin",
          "WorldPay",
          "ConquestCoin",
          "TheChiefCoin",
          "Russiacoin",
          "PandaCoin",
          "Canada eCoin",
          "OptionCoin",
          "Avatar Coin",
          "Limited Coin",
          "GameUnits",
          "GAKHcoin",
          "S88 Coin",
          "Allsafe",
          "LiteCreed",
          "ProCoin",
          "Astral",
          "GiftNet",
          "PureVidz",
          "Incrementum",
          "PentaCoin",
          "AcidCoin",
          "ReturnCoin",
          "TwisterCoin",
          "PayPeer",
          "LeninCoin",
          "MrsaCoin",
          "OsmiumCoin",
          "Bikercoins",
          "CryptoPennies",
          "NeptuneClassic",
          "HexxCoin",
          "Ghost Coin",
          "MachineCoin",
          "SelenCoin",
          "Noocoin",
          "23 Skidoo",
          "GoldenBird",
          "YamahaCoin",
          "JokerCoin",
          "GravityBit",
          "TeCoin",
          "BombCoin",
          "Ride My Car",
          "Klingon Empire Darsek",
          "Internet of People",
          "Elysium",
          "KushCoin",
          "Eryllium",
          "Opes",
          "Ratio",
          "SmurfCoin",
          "TechCoin",
          "CircuitCoin",
          "LePenCoin",
          "MarxCoin",
          "HazeCoin",
          "Printerium",
          "PacCoin",
          "Impeach",
          "ErrorCoin",
          "TrueInvestmentCoin",
          "NukeCoin",
          "Solarflarecoin",
          "JaneCoin",
          "ParanoiaCoin",
          "MasterMint",
          "Citadel",
          "Zilbercoin",
          "FirstCoin",
          "OroCoin",
          "Alexandrite",
          "TrashBurn",
          "MasterCar",
          "TechShares",
          "AcesCoin",
          "EagleCoin",
          "CreativeChain",
          "BeaverCoin",
          "FindCoin",
          "MeLite",
          "StalinCoin",
          "TattooCoin",
          "VaultCoin",
          "BioBar",
          "Zero",
          "OpenChat",
          "Canada eCoin",
          "Zoin"
         ],
         "legendgroup": "",
         "marker": {
          "color": [
           0,
           0,
           0,
           0,
           1,
           1,
           1,
           0,
           1,
           1,
           1,
           0,
           1,
           0,
           0,
           0,
           1,
           0,
           1,
           1,
           0,
           0,
           0,
           1,
           0,
           1,
           0,
           1,
           1,
           1,
           1,
           1,
           0,
           1,
           1,
           1,
           1,
           0,
           1,
           0,
           1,
           0,
           1,
           0,
           0,
           1,
           0,
           0,
           0,
           1,
           0,
           1,
           1,
           1,
           1,
           1,
           1,
           1,
           0,
           1,
           0,
           0,
           1,
           0,
           1,
           1,
           1,
           1,
           1,
           0,
           0,
           0,
           1,
           0,
           1,
           0,
           1,
           0,
           0,
           1,
           1,
           1,
           1,
           0,
           0,
           1,
           1,
           0,
           1,
           0,
           0,
           0,
           1,
           1,
           1,
           1,
           0,
           0,
           0,
           0,
           1,
           1,
           1,
           0,
           0,
           1,
           1,
           1,
           0,
           0,
           1,
           0,
           1,
           0,
           0,
           1,
           1,
           1,
           1,
           0,
           0,
           0,
           1,
           1,
           0,
           1,
           1,
           0,
           0,
           0,
           0,
           0,
           0,
           1,
           1,
           0,
           0,
           1,
           0,
           1,
           0,
           0,
           1,
           0,
           1,
           0,
           1,
           0,
           1,
           0,
           0,
           0,
           0,
           1,
           0,
           1,
           1,
           0,
           1,
           1,
           0,
           1,
           0,
           0,
           1,
           1,
           1,
           1,
           1,
           1,
           1,
           1,
           0,
           0,
           1,
           1,
           1,
           0,
           1,
           1,
           0,
           1,
           0,
           0,
           0,
           1,
           1,
           0,
           1,
           0,
           0,
           1,
           0,
           0,
           0,
           1,
           1,
           0,
           1,
           1,
           0,
           0,
           1,
           1,
           0,
           0,
           1,
           0,
           0,
           0,
           0,
           1,
           1,
           0,
           1,
           1,
           1,
           1,
           1,
           0,
           1,
           1,
           0,
           1,
           0,
           0,
           0,
           0,
           1,
           1,
           0,
           0,
           0,
           0,
           0,
           1,
           0,
           0,
           0,
           0,
           0,
           0,
           0,
           1,
           0,
           0,
           0,
           0,
           0,
           1,
           0,
           1,
           0,
           0,
           0,
           1,
           0,
           1,
           0,
           0,
           1,
           0,
           1,
           0,
           0,
           0,
           1,
           0,
           0,
           0,
           1,
           0,
           1,
           1,
           0,
           0,
           1,
           0,
           0,
           0,
           1,
           1,
           1,
           0,
           0,
           0,
           1,
           1,
           1,
           0,
           0,
           0,
           0,
           0,
           0,
           1,
           0,
           0,
           0,
           0,
           0,
           0,
           0,
           0,
           1,
           0,
           0,
           0,
           0,
           0,
           0,
           1,
           1,
           0,
           1,
           0,
           0,
           0,
           0,
           0,
           0,
           1,
           1,
           0,
           1,
           1,
           0,
           0,
           1,
           1,
           0,
           1,
           1,
           0,
           1,
           1,
           1,
           1,
           0,
           1,
           0,
           0,
           0,
           1,
           0,
           0,
           0,
           1,
           0,
           0,
           0,
           0,
           0,
           1,
           0,
           0,
           1,
           1,
           0,
           1,
           0,
           0,
           0,
           0,
           0,
           1,
           0,
           1,
           1,
           1,
           1,
           1,
           0,
           1,
           0,
           0,
           1,
           0,
           1,
           0,
           1,
           1,
           0,
           1,
           0,
           1,
           1,
           1,
           0,
           1,
           0,
           1,
           0,
           1,
           0,
           0,
           1,
           0,
           1,
           1,
           1,
           1,
           1,
           0,
           0,
           1,
           0,
           0,
           0,
           1,
           0,
           0,
           1,
           0,
           1,
           0,
           0,
           0,
           1,
           0,
           0,
           1,
           0,
           0,
           0,
           0,
           0,
           0,
           1,
           1,
           1,
           1,
           1,
           1,
           0,
           0,
           0,
           0,
           0,
           1,
           0,
           1,
           1,
           1,
           0,
           0,
           1,
           1,
           1,
           0,
           0,
           1,
           0,
           0,
           1,
           1,
           0,
           1,
           0,
           1,
           1,
           0,
           0,
           1,
           1,
           1,
           0,
           0,
           0,
           1,
           0,
           1,
           1,
           0,
           1,
           1,
           1,
           1,
           1,
           1,
           2,
           2,
           1,
           1,
           1,
           1,
           1,
           0,
           2,
           0,
           0,
           0,
           0,
           1,
           1,
           1,
           1,
           1,
           1,
           0,
           1,
           0,
           0,
           1,
           1,
           0,
           1,
           0,
           0,
           0,
           0,
           0,
           0,
           0,
           1,
           0,
           0,
           1,
           0,
           0,
           1,
           1,
           1,
           1,
           0,
           1,
           1,
           1,
           1,
           0,
           0,
           1,
           0,
           1,
           0,
           0,
           0,
           0,
           0,
           1,
           1,
           1,
           0,
           0,
           0,
           0,
           0,
           0,
           0,
           1,
           0,
           1,
           1,
           0,
           1,
           1,
           0,
           0,
           0,
           1,
           0,
           1,
           0,
           0,
           0,
           1,
           0,
           0,
           0,
           1,
           2,
           0,
           1,
           0,
           1,
           1,
           1,
           1,
           1,
           1,
           1,
           0,
           1,
           0,
           1,
           0,
           1,
           1,
           1,
           1,
           1,
           1,
           1,
           0,
           1,
           0,
           1,
           0,
           0,
           1,
           0,
           0,
           1,
           0,
           0,
           0,
           1,
           1,
           1,
           1,
           0,
           0,
           0,
           0,
           1,
           1,
           0,
           1,
           0,
           0,
           1,
           0,
           0,
           0,
           0,
           1,
           1,
           0,
           0,
           0,
           1,
           0,
           1,
           1,
           0,
           0,
           1,
           0,
           0,
           0,
           1,
           1,
           0,
           0,
           0,
           0,
           0,
           1,
           0,
           0,
           2,
           1,
           0,
           1,
           1,
           0,
           1,
           0,
           2,
           0,
           3,
           0,
           0,
           0,
           1,
           1,
           0
          ],
          "coloraxis": "coloraxis",
          "symbol": "circle"
         },
         "mode": "markers",
         "name": "",
         "scene": "scene",
         "showlegend": false,
         "type": "scatter3d",
         "x": [
          -0.17280476980632695,
          -0.15877579443774692,
          -0.11372966983350853,
          0.33822880569016783,
          -0.24221609886267603,
          -0.35706565118442934,
          -0.30069142191095305,
          -0.20014964668151974,
          -0.32432234791145603,
          -0.356990193980668,
          -0.33882831517478124,
          0.16079476125854794,
          -0.1508453220835184,
          -0.11371253404349865,
          -0.200269720254332,
          -0.010252445270847906,
          -0.3014528548727977,
          -0.055804588926560886,
          -0.32884625724069816,
          -0.24245444563232926,
          0.05226830611002998,
          -0.05104943714531602,
          -0.0694870271005411,
          -0.301367266695557,
          -0.1725636591761955,
          -0.24245444561487836,
          -0.1643566335640185,
          -0.28004836867040045,
          -0.3015293245621102,
          -0.24019153101724855,
          -0.29981524035066637,
          -0.30143172218675035,
          -0.17116861632800706,
          -0.11407718895184978,
          -0.2795503306156373,
          -0.3010849123410876,
          -0.3289944960427618,
          -0.17280420425849966,
          -0.3015295461486355,
          -0.17280477033750005,
          -0.30143355482844325,
          -0.1727909550203768,
          -0.3014670067754755,
          -0.1737694019538881,
          -0.06948702705255282,
          -0.3289280597284162,
          0.6483237287383612,
          -0.113729669833509,
          -0.15144038294882134,
          -0.09070664464246843,
          -0.2002697202529427,
          -0.30152954616329436,
          0.007149203359204504,
          -0.13481985745315947,
          -0.3012515355432373,
          -0.3015295461214144,
          -0.29861958348787415,
          -0.3012703309703342,
          0.04154976034472548,
          -0.3015294887602037,
          -0.096951976942902,
          -0.11095463719895306,
          -0.2424544456317538,
          -0.06719721205813516,
          -0.30151435321749037,
          -0.34118994380455536,
          -0.28977484785595875,
          -0.3006564091103751,
          -0.3009756828559129,
          -0.2002697202510599,
          -0.05614418421492208,
          -0.17161794168025607,
          -0.3024941777949583,
          -0.07463558734361084,
          0.9029661426380458,
          -0.20003504645080739,
          -0.24217405688324709,
          -0.2002697202531879,
          -0.0510494371363608,
          -0.2995160075480078,
          -0.3012725973854309,
          -0.30151486360119395,
          -0.30152954611739435,
          -0.2002697202545041,
          0.23822198899821892,
          -0.3010223047300764,
          -0.35172625831464416,
          0.2136216113716765,
          -0.3014523776466319,
          -0.09227327036670654,
          -0.06927190951784686,
          -0.05017079089462266,
          -0.24245444560454552,
          -0.270072030477602,
          -0.24225852110033355,
          -0.29707949411044593,
          -0.05084792908576998,
          -0.16984421470893746,
          -0.17182146126121578,
          0.21695381730388383,
          -0.30152954615757926,
          -0.30151486607357403,
          -0.30120759847087764,
          -0.056144184214348296,
          -0.172804770364155,
          -0.30118927030887277,
          -0.38385578786137786,
          -0.3015295461524128,
          -0.09627780458831055,
          -0.20026970460653665,
          -0.2349647297291897,
          -0.06938457360489908,
          -0.24187561178797795,
          -0.009877751359528304,
          -0.2002506833935845,
          -0.24214951316484923,
          -0.24245444563174084,
          -0.24242415695189126,
          -0.32897844453386993,
          -0.15819389025241815,
          -0.17213687925705143,
          -0.051049437148760146,
          -0.30122174862571743,
          -0.32899449605481684,
          -0.26493526129081,
          -0.29735180057144256,
          -0.2999393385932737,
          -0.17280477036358097,
          -0.20017730702669198,
          -0.06912213105860987,
          -0.050609446900472775,
          -0.17280477033602684,
          -0.17083719857466714,
          2.2362943755037716,
          -0.11910021537305325,
          0.4814252716776108,
          0.07835797945859446,
          -0.3006228790077313,
          -0.11320953603370815,
          -0.24245444563267368,
          -0.06948702710019829,
          -0.1507770903104767,
          -0.2960115741875125,
          -0.06912560177847714,
          -0.29970121075295225,
          -0.051022547910856274,
          -0.301527127496213,
          -0.06716505835081438,
          -0.2995050653952684,
          -0.010411926578736077,
          -0.17278525501195474,
          -0.05095508276874467,
          -0.05104943714187162,
          -0.2909925432717224,
          -0.20026972024927467,
          -0.3352042224976233,
          -0.36206751263595804,
          -0.0969162151930475,
          -0.3016284784287206,
          -0.34715320338334643,
          -0.05614418421492208,
          -0.30139473146226686,
          -0.17280477036472905,
          -0.17265048235905997,
          -0.2402337842648624,
          -0.2424544456332476,
          -0.42924047370914564,
          -0.30152954611624805,
          -0.3289944960358733,
          -0.3015213100324697,
          -0.24228875163540595,
          -0.30152832053626966,
          -0.17280477036472905,
          -0.20024959514101215,
          -0.3289944960358733,
          0.7818152619061134,
          -0.32856610127133556,
          -0.17280477036472905,
          -0.32839480785969133,
          -0.24225837749253298,
          -0.1331662411696894,
          -0.32878358192797286,
          0.023704637175020995,
          0.06598638132800975,
          -0.20026972025507828,
          -0.30109658135775613,
          -0.30052423029374353,
          -0.0681574993466056,
          -0.35835780512145027,
          -0.09695197699902669,
          -0.05074307931570623,
          0.21834439292403296,
          -0.11315717735741276,
          0.05226830610822306,
          -0.0559642917034787,
          -0.3287835306443117,
          -0.24217527834872235,
          0.059397253377315246,
          -0.29873753786142937,
          -0.4022829721148048,
          -0.11368088025107861,
          -0.05407060925394854,
          -0.300601055817995,
          -0.2109252169184519,
          -0.1136614781653097,
          0.011196702297377372,
          0.046584516842370347,
          0.022921477516371958,
          -0.11917109487562852,
          -0.1726851295560406,
          -0.1728047703623181,
          -0.24245444562463692,
          -0.3289944947632208,
          -0.06894887349512561,
          -0.38385578501986684,
          -0.3283947417507746,
          -0.30152953410957223,
          -0.3939837544892113,
          -0.3015210841217558,
          -0.11372966971295996,
          -0.4043738155931412,
          -0.3939108704000827,
          -0.2001313524993792,
          -0.2424544456091379,
          0.4220558561937256,
          -0.1136714752978365,
          0.14506405059720415,
          0.041740152645804676,
          -0.3014421854446854,
          -0.3288129612306511,
          -0.20026972025502096,
          -0.20026972024302334,
          -0.19848077498969896,
          0.04147424710174522,
          -0.11371377486954874,
          -0.24245444563185775,
          -0.11350813272364448,
          -0.10984514091903787,
          -0.0561441841942564,
          -0.19994547862119438,
          -0.11095463719012665,
          -0.1728047703218671,
          -0.1728047701638142,
          -0.301521350317161,
          0.07591193932434272,
          -0.1619944813003457,
          -0.17274459160763883,
          -0.17147524260137742,
          0.052334782606117444,
          -0.3289761762521858,
          -0.08821697959508674,
          -0.21043487024087404,
          -0.20006279422272244,
          -0.096951976942902,
          -0.17223087303115442,
          -0.21082121551295052,
          -0.11372175342792976,
          -0.2423714320449436,
          -0.20026097679593818,
          -0.1727704423461648,
          -0.2891989000707441,
          -0.17277897900300931,
          -0.2999760563703218,
          -0.2002697145146517,
          -0.06723216652133404,
          -0.193434901368535,
          -0.30138171330256674,
          0.13625444438967732,
          0.04245854710872012,
          -0.17235907336356118,
          -0.3015295461142388,
          -0.19675074595939307,
          -0.38385578788433966,
          -0.3355086674063654,
          0.04345147838821856,
          0.05230154594870998,
          -0.11752807344162204,
          -0.17967134942962415,
          0.041711151582144966,
          -0.1096500165393567,
          -0.35814893284344035,
          -0.2424544455758433,
          -0.3388518412506335,
          7.358680270564058,
          -0.2000258474569718,
          -0.17280476979068635,
          -0.2989197045133839,
          -0.33892647495317074,
          -0.3180391874707902,
          -0.2002184892057643,
          0.04213901097481013,
          -0.1240376688926935,
          -0.17257755937576977,
          -0.1728047702499205,
          -0.17277220253020376,
          -0.3281786337333973,
          0.041740152645804676,
          -0.20018902477481157,
          -0.11356458829647423,
          -0.17253562044268356,
          -0.2846403534621793,
          -0.17265744907463504,
          -0.17265965977996955,
          -0.20025888897555064,
          -0.21091221220820683,
          -0.17269338413936267,
          0.380068106918063,
          -0.17275859608605848,
          -0.17276068602939976,
          0.11465428225178545,
          -0.2181111694548561,
          -0.30151765983954115,
          -0.21080081183726024,
          -0.20026972011156743,
          -0.3285525775142106,
          -0.05104943689044128,
          0.041474247150538664,
          -0.17248614381713429,
          -0.1136960849082516,
          -0.20019448098775489,
          -0.2002697201976739,
          -0.328994495997045,
          -0.32185511320075266,
          -0.17280067302694938,
          -0.3015295461529867,
          -0.3244052016401932,
          -0.06944817011599215,
          -0.29142795359424384,
          -0.38549816533318204,
          -0.301488127944317,
          0.05246141803905992,
          -0.3285905113078723,
          -0.33883444964915904,
          -0.1595094927312138,
          -0.30020210033094213,
          -0.3283309504104275,
          -0.3584973424988504,
          -0.32899449593426766,
          -0.06900772749942485,
          -0.452628641288642,
          -0.2000947178017138,
          -0.15158691579601877,
          -0.19879885853426452,
          -0.30067736909853865,
          -0.0694870270456644,
          0.0429518288991208,
          -0.19998358825886606,
          -0.2395448222226227,
          0.046811256066647954,
          -0.1986521440798857,
          -0.17273338888750825,
          -0.17278950306257732,
          -0.17279812215215656,
          -0.3015295461524128,
          -0.00907509998861324,
          -0.20004142195093233,
          -0.3012599697882391,
          -0.3015295461638935,
          -0.06556311816651417,
          -0.22493462609121379,
          0.041625683320453744,
          -0.17252079961942673,
          -0.2002697190533198,
          0.48442880331555116,
          -0.010274411910888005,
          -0.3013477543962692,
          0.0767284048705798,
          -0.32363318884414227,
          -0.30904982444453594,
          -0.21993505641724145,
          -0.4354562318185027,
          -0.1868678487847586,
          -0.11089917751416004,
          -0.32852731358920156,
          -0.11011780480460316,
          -0.17228946764636988,
          -0.3012884603019033,
          -0.05076667195587228,
          -0.30146083912100835,
          -0.20026972025054002,
          -0.32864825557074406,
          -0.32895962404790197,
          -0.05254987878839252,
          -0.21073693180349604,
          -0.05075804431062916,
          -0.3924542192872952,
          1.8663332658658685,
          -0.35570332499725693,
          0.12280727726928085,
          -0.3273661478779425,
          -0.17175064409671134,
          -0.2422151892709886,
          -0.20010260842177224,
          -0.3015295455846846,
          -0.06923889339086732,
          6.9520050415481185,
          -0.3015230890824568,
          0.04152742823673321,
          1.59978374940375,
          -0.30152954559042483,
          -0.3012974936821918,
          -0.3010954987724942,
          -0.3010812755524105,
          -0.1725449861009423,
          -0.1727489301986683,
          -0.21080626864762506,
          0.12467720844267696,
          0.7084521730169036,
          -0.20017316459230483,
          -0.2696374184348223,
          -0.21281125324366576,
          -0.17278960396892706,
          -0.3439088696940906,
          -0.06567056373825436,
          -0.33869776479641533,
          0.47147735641814525,
          -0.11250582888655854,
          -0.10350179319120982,
          -0.3936076984091575,
          -0.17277618965512262,
          0.011605020973810175,
          -0.30020015133403055,
          -0.04931060296041561,
          -0.1725872257871732,
          -0.245607066624277,
          -0.20026972025296164,
          0.114514445583612,
          0.10924557198994675,
          -0.3266649524632833,
          -0.34387949654162586,
          -0.3015295459922549,
          -0.35832774316571203,
          -0.3015295461041358,
          -0.34388671524866665,
          4.314276099448017,
          -0.1997618592708125,
          7.361071938007183,
          0.26661995029090546,
          -0.04860930131746094,
          -0.2960894360896856,
          -0.1713293005838418,
          0.04543198976823561,
          -0.21086538817509784,
          -0.35157193648645285,
          -0.00746076901515341,
          0.11473987714416797,
          -0.32792666951466237,
          -0.24245444562119284,
          -0.31868449719625824,
          -0.10750498480311708,
          -0.17269283199208973,
          -0.2488243893710042,
          -0.19966911653386804,
          -0.11372961816967149,
          0.3305852426855388,
          -0.32893826977825513,
          -0.17280477036208836,
          -0.3438599238030145,
          0.11487740241867901,
          -0.3399783602687012,
          -0.3009248363852463,
          -0.17277147252414374,
          -0.09689338135184052,
          -0.32888177729547824,
          -0.24218633306449017,
          -0.27164987693774095,
          -0.17280476921664364,
          -0.11985868240044087,
          0.07567071051539909,
          -0.12643331150751555,
          -0.149544663832156,
          0.49558418917538544,
          -0.374267781265525,
          -0.1696824240615947,
          -0.20914454746984698,
          -0.33892647495317074,
          -0.3011047093717569,
          -0.16857676982931596,
          -0.3926326456096739,
          -0.289472723810841,
          -0.3802990911459393,
          0.057050089001633233,
          -0.30136407179365904,
          -0.10886748399806927,
          -0.3439642573846381,
          -0.33892647495317074,
          -0.3261852351219192,
          -0.14293394576874657,
          0.30274877189535065,
          -0.20024089837881565,
          0.13820538415351516,
          -0.06914706662973429,
          0.10846180653367711,
          -0.35520526286269344,
          -0.32899449604218783,
          -0.20986094161941013,
          -0.3439642573453161,
          -0.301475431554197,
          -0.36713204160459084,
          -0.11077132382327701,
          -0.338926474916951,
          -0.17279352737398468,
          -0.17278905330354946,
          -0.33797778408861706,
          -0.33892647495242456,
          -0.06593323015900793,
          -0.3352457900981126,
          -0.21020169904493805,
          0.1513604679576787,
          0.041765102426976945,
          -0.17267340633098796,
          -0.17280477030732475,
          7.7927048381144415,
          -0.1728047700777077,
          -0.3285716867600381,
          0.013054579052331232,
          0.041621495710728415,
          -0.21071226827397482,
          -0.04871732565644985,
          -0.15413610403519193,
          -0.23939929019110928,
          -0.32850974619456896,
          0.40459651903208427,
          -0.42509970704600486,
          -0.06897240933908619,
          -0.33551640368898245,
          -0.21092409579275925,
          0.10396669507542752,
          0.3380969733587547,
          -0.03719293850287417,
          -0.06938558412053075,
          -0.4758122771431541,
          -0.12359576199204222,
          -0.20347871844066012,
          -0.1725176011112578,
          0.04757619587276467,
          1.7270353333880322,
          -0.00964331324579011,
          3.157721946653933,
          -0.28071035883843265,
          -0.4971740035630669,
          -0.32892811231627395,
          -0.15160271551223167,
          0.11460860791978753,
          0.011275403545262236,
          -0.06947316357586501,
          -0.05099076799532354,
          -0.16913013277663472,
          0.11539265020184818,
          -0.30151071122381584,
          -0.17273292473932847,
          -0.3243438978042812,
          -0.3987863602031135,
          -0.17280477030732475,
          0.009671088248518053,
          1.4272983346515495,
          -0.09669578349528132,
          -0.19986060958109206,
          0.04159825401243667,
          -0.29803216935551186,
          -0.06948702662776124,
          -0.21453436260286585,
          -0.06948702706977408,
          -0.2567112670232342,
          -0.09689208651934401,
          -0.3289278085079121,
          0.011196702429297515,
          -0.15871237686226777,
          0.25282745592152245,
          -0.2806887155638191,
          0.8993218893785135,
          -0.2152394814583229,
          -0.28261948977906204,
          0.2416077934525902,
          -0.11752807349713189,
          -0.32646070068771865,
          -0.33542801065809286,
          -0.358497342752136,
          -0.2422152301539653,
          0.7090790719857905,
          -0.3584973427025768,
          0.13185872714018657,
          -0.18610220046522766,
          -0.07929887663996628,
          -0.3743318424233841,
          0.011666187609823915,
          -0.3278281720749043,
          -0.35119263018934466,
          -0.35100292737306515,
          -0.24245444562119298,
          -0.10670478976040929,
          -0.3478812710878322,
          -0.3010604260047899,
          -0.17260829873921976,
          -0.3384519993484018,
          0.011439540681759165,
          -0.33859208825941944,
          0.11454016794303368,
          0.2370316275790074,
          -0.3470659795886973,
          -0.09694246209843078,
          -0.17253159853140032,
          -0.34431374606635323,
          0.1408447477707614,
          -0.11212029996686625,
          -0.20006470372346308,
          -0.2424544455729733,
          -0.24175918455003967,
          -0.17975865358426515,
          -0.24132949092944764,
          -0.19995361225803754,
          7.3705369714406235,
          -0.09695197698595517,
          0.030864097711627077,
          -0.3289944960442256,
          -0.3007907367654976,
          -0.19704463031867359,
          -0.2931140082067976,
          -0.21851305581124525,
          -0.17275774286066944,
          -0.35090307492247275,
          -0.17253119963972055,
          -0.01035353027637856,
          -0.1726767208924056,
          -0.19446827763455318,
          -0.21092521691847863,
          -0.2911564281691599,
          -0.1597656536432586,
          0.12478394512403335,
          -0.19369865309212742,
          -0.24214882801820076,
          -0.17200705373255018,
          -0.2109252169184519,
          0.09179781711038063,
          -0.11372966981915794,
          -0.16742927057302553,
          -0.2792345728422964,
          -0.19759252561263435,
          -0.17142708871981882,
          0.041525051619146436,
          -0.30146237103078505,
          -0.30060307191819585,
          -0.29696633205294204,
          -0.11273683080002825,
          7.358837288550708,
          0.06346900228808124,
          -0.16945428639604723,
          -0.3015295456535697,
          -0.21522458573938746,
          -0.17280477019251625,
          -1.02252424643175,
          -0.3024498656894053,
          -0.05104756546945653,
          -0.4033401509761134,
          -0.35817176874455325,
          7.372164077231156,
          -0.3584973421859385,
          0.002883351054777932,
          -0.03830944791600971,
          0.04159766898387727,
          31.402029030357365,
          0.037073903093087744,
          4.215940282504634,
          -0.1726062578258045,
          -0.19789288514477357,
          -0.3388294654655335,
          -0.06948532096641258
         ],
         "y": [
          1.2250954040805992,
          1.223541621116561,
          0.82026024098701,
          1.9538170347268173,
          -1.4089712079186874,
          -2.0761116252997014,
          -1.0042024728084569,
          1.3806302119982734,
          -2.1910570038890302,
          -2.076119980152661,
          -2.056900989939887,
          1.6121083184220721,
          -1.717024145980693,
          0.8202583433584265,
          1.3806435105899038,
          0.39030701344348134,
          -1.0041181404950223,
          2.04629593934828,
          -0.8485779583715055,
          -1.4089448098792612,
          1.5669925753244278,
          1.9969281395365683,
          0.7951598401100276,
          -1.0041276193703756,
          1.2250686998969553,
          -1.4089448095245536,
          1.2241597247060994,
          -1.7027143930063418,
          -1.0041051663527014,
          -1.409195438633458,
          -1.004299512976664,
          -1.0041204801339905,
          1.2249141907313725,
          -0.5521714477164958,
          -1.2096092887789416,
          -1.0041588919146986,
          -0.8485615400651805,
          1.2250953414488093,
          -1.0041096464206973,
          1.2250954046959,
          -1.0041202780852447,
          1.2250938740258264,
          -1.0041165731831254,
          0.5289766373987018,
          0.7951598410854372,
          -0.8485688983019082,
          0.17970941743035004,
          0.8202602409870149,
          1.0196638569017298,
          -1.723684900379271,
          1.3806435106181407,
          -1.0041096467186525,
          -1.4365895942799878,
          -1.0225735392266413,
          -1.0041404377614198,
          -1.0041096458673997,
          -1.004431938223898,
          -1.004138355931395,
          1.3422566341959292,
          -1.0041084799405788,
          0.9507079475177295,
          1.7416907819697223,
          -1.4089448098675652,
          0.4689781226123362,
          -1.0041113293164008,
          -1.5135946756587901,
          -1.0054115300985993,
          -1.0042063508404802,
          -1.004170989421994,
          1.380643510656412,
          2.0463335473613777,
          1.2249639574900633,
          -1.700228414326341,
          0.9482362786462261,
          -1.1375133657381866,
          1.3806175193677204,
          -1.408975864308202,
          1.3806435106131583,
          1.9969281397185887,
          -1.0043326545389248,
          -1.0041381050537486,
          -1.004111272904465,
          -1.0041096457856862,
          1.3806435105864034,
          0.9775696198017823,
          -1.0041658261377913,
          -2.1741490786471886,
          0.7638039400879827,
          -1.0041181934795953,
          0.8178838504922338,
          0.7951360146056132,
          1.9968308243719757,
          -1.408944809314529,
          -1.007593570427552,
          -1.4089665094134007,
          -1.004602511488387,
          1.9969058212968556,
          1.2247675106096607,
          1.2249864981887837,
          1.1819274128772583,
          -1.0041096466024848,
          -1.0041112724001087,
          -1.0041453013567718,
          2.0463335473730453,
          1.2250954041541118,
          -1.004147333637711,
          -2.1466194624048063,
          -1.0041096464974728,
          0.9506332779030392,
          1.3806435088415823,
          -1.4097743283244184,
          0.09892288723749862,
          -1.4090089185031163,
          1.5724191616204268,
          1.3806414022508353,
          -1.4089785824189318,
          -1.4089448098673012,
          -1.4089481636039791,
          -0.8485633181078969,
          1.2234771844314887,
          1.2250214325580702,
          1.9969281394665601,
          -1.00414373680932,
          -0.8485615403102088,
          0.4717663336415114,
          -1.4078039767986599,
          -1.0042857682060962,
          1.2250954041657798,
          1.380633275346024,
          0.09889381905233649,
          1.99687940803178,
          1.2250954047258447,
          1.2248774960525564,
          -2.524832070463886,
          -2.263960703953574,
          -0.016866321191414905,
          1.1426667016966292,
          -1.0042100640789766,
          0.8202026339935903,
          -1.4089448098862623,
          0.7951598401169916,
          1.0195903933995731,
          -1.0047207739680553,
          0.7951198099974329,
          -1.0043121433872775,
          1.9969251614705543,
          -1.0041099145930035,
          0.7949026744730537,
          -1.0043338676816356,
          0.39032467676323057,
          1.2250932427055836,
          1.996917689297003,
          1.9969281396065761,
          -1.0052766683059389,
          1.3806435106926989,
          -2.124223921867627,
          -2.1621180482359,
          0.9507039857610075,
          -1.7003242959718181,
          -1.1818288625643283,
          2.0463335473613777,
          -1.0041245782017576,
          1.225095404142444,
          1.2250783160986083,
          -1.0108983853952977,
          -1.4089448098979298,
          -2.155859464004464,
          -1.0041096457623873,
          -0.8485615399251644,
          -1.0041105589339263,
          -1.4089631612088582,
          -1.0041087031808382,
          1.225095404142444,
          1.380641281603327,
          -0.8485615399251644,
          -0.5902614599175232,
          -0.8486089870938441,
          1.225095404142444,
          -2.140259398932148,
          -1.408966524934459,
          2.0374936454078276,
          -0.8485849000088813,
          1.260061184130814,
          0.20921547683287026,
          1.3806435105747354,
          -1.004157597603021,
          -1.0042209882882076,
          0.7950125882930347,
          -2.07596851166748,
          0.9507079463769345,
          1.9968942091721287,
          -2.216648478613506,
          0.8201968459047815,
          1.5669925752876985,
          2.0463136235460695,
          -0.848584905747498,
          -1.4089757290239198,
          1.0329959941713285,
          -1.0044188751562626,
          -2.057656663780121,
          0.8202548375199972,
          1.3644514348983805,
          -1.0042124813697428,
          -2.2537906773024985,
          0.8202526884931917,
          1.677415805695249,
          -1.440957273295104,
          1.7268632370833605,
          0.11277723488178307,
          1.2250821537317966,
          1.2250954041914495,
          -1.4089448097229096,
          -0.8485615140571658,
          0.7951002389232547,
          -2.146619404648111,
          -0.848627965541847,
          -1.0041094017140975,
          -2.1312772236535538,
          -1.004110581987067,
          0.8202602434372994,
          -2.1260639949330065,
          -2.158730797611501,
          1.3806281900598791,
          -1.4089448094078736,
          0.7407198175878051,
          0.8202537960788401,
          0.23544785911492336,
          1.3422355473950218,
          -1.0041193222068987,
          -0.848581646036265,
          1.3806435105759027,
          1.3806435108197643,
          1.3804453755416761,
          1.3422649978951624,
          0.8202584831418283,
          -1.4089448098696795,
          0.8202357106449821,
          1.7415678999638746,
          2.046333547781426,
          1.3806076005912589,
          1.7416907821491296,
          1.2250954050136562,
          1.2250954082262504,
          -1.004110554472202,
          1.276513404603067,
          1.2238981263051165,
          1.2250887395212429,
          1.2249481525168429,
          1.5669852149367358,
          -0.8485635690397679,
          0.94974050317073,
          -1.8087655177773871,
          1.3806205929205377,
          0.9507079475177295,
          1.225031842788461,
          -2.2538021961516757,
          0.8202593644462146,
          -1.4089540040130837,
          1.380642542221857,
          1.225091602364548,
          -1.7017009287388019,
          1.2250925476017216,
          -1.0042817022699166,
          1.3806436272549278,
          0.7949101012206989,
          0.398731263621027,
          -1.0041260197249533,
          2.1562969128454124,
          1.342155981735748,
          1.2250460406521657,
          -1.0041096457215495,
          1.3802537816560463,
          -2.1466194628715267,
          -2.1906262295564285,
          1.3420460085225292,
          1.5669888937695196,
          -0.551789243955108,
          2.16750117215159,
          1.3422387627251577,
          2.1835320907955587,
          -2.0759916453569933,
          -1.4089448087311283,
          -2.056898384292522,
          -0.2369813524977505,
          1.3806165006204285,
          1.2250954158104632,
          -1.0043985843060366,
          -2.0568901181833947,
          -0.849774897485598,
          1.3806378364884169,
          1.3421913719073415,
          2.1851255995907075,
          1.2250702396789188,
          1.2250954064760475,
          1.2250917975613547,
          -0.8486518990505955,
          1.3422355473950218,
          1.3806345737929733,
          0.8202419574978902,
          1.2250655946373827,
          0.5959645086685555,
          1.2250790877960303,
          1.225079339949076,
          1.3806423110072787,
          -2.2537921176185334,
          1.2250830691707024,
          0.7453694208265048,
          1.225090290229681,
          1.22509052158924,
          1.2474647536968217,
          1.0473410510944194,
          -1.0041109631890808,
          -2.253804455799403,
          1.3806435134917399,
          -2.140241925695666,
          1.9969281447171687,
          1.3422649988869437,
          1.225060120296974,
          0.8202565215109505,
          1.380635177505584,
          1.380643511741537,
          -0.8485615391359395,
          -0.8493510946069537,
          1.2250949505961795,
          -1.0041096465091408,
          -2.191047825194675,
          0.795155536929703,
          0.4806946974509594,
          -1.4562073683509924,
          -1.0041142340076918,
          1.5669711871628274,
          -0.8486062721983263,
          -2.0569003105587145,
          1.2236228878864357,
          -1.0042566677824742,
          -2.1402664720350812,
          -2.0759530519670557,
          -0.8485615378599249,
          0.7951067551511899,
          -2.1220237858749633,
          1.3806241292259513,
          2.0235975516692823,
          1.3804806055228624,
          -1.004203983296814,
          0.7951598412254536,
          1.3421013483838293,
          1.3806118209939164,
          -0.48752917505417837,
          1.341673898165075,
          1.3804643606338103,
          1.2250874984847104,
          1.2250937135369935,
          1.225094679546501,
          -1.0041096464974728,
          0.3901774954474943,
          1.3806182257019672,
          -1.0041395034502318,
          -1.004109646730833,
          0.7947252680390855,
          -1.4108852007184494,
          1.3422482256443744,
          1.2250639539911732,
          1.3806435350017339,
          1.9864630551695173,
          0.39030944857507943,
          -1.0041297803751923,
          1.276422977157431,
          -2.1911333309628356,
          -2.1575648374516905,
          -2.1681065206030805,
          -2.1519257649881887,
          -2.256455145077375,
          1.7416846396026455,
          -0.8486132822653161,
          1.7415980993995699,
          1.3565285760305967,
          -1.0041363481535681,
          1.9968968219572396,
          -1.0041172555603926,
          1.3806435106669783,
          -0.8485998877188756,
          -0.8485654023625598,
          1.211777074158581,
          -2.253811530538034,
          1.9968958662659753,
          -2.1791864137572317,
          -1.244210497362422,
          -1.4595072599029502,
          1.1484143041016948,
          -0.8487418762729297,
          1.3564688982428041,
          -1.4089713086611662,
          1.3806250020955975,
          -1.0041096349578018,
          0.7951323578952267,
          4.5519400022686405,
          -1.0041102387194634,
          1.3422591083271955,
          -1.2146909612593046,
          -1.004109635074482,
          -1.0041353468957643,
          -1.0041577187988178,
          -1.0041592941017354,
          1.2250666321164956,
          1.2250892195741685,
          -2.253803850676948,
          1.6161085026594495,
          1.139434868532895,
          1.3806328167999684,
          -2.064564031100003,
          0.7156487068952443,
          1.2250937245620017,
          -1.5132935427014569,
          0.39150552322951515,
          -2.0569154491404573,
          1.1537377694707702,
          0.820124694780388,
          1.7408653509694318,
          -2.1313188725320042,
          1.2250922389118644,
          1.6773705841775255,
          -1.0042568836450216,
          1.3070398291516094,
          1.2250713100105852,
          0.8110154458595384,
          1.3806435106177541,
          1.2474802421109599,
          0.3770720304738582,
          -0.848819546471512,
          -1.513296795734808,
          -1.004109643242095,
          -2.07597183811439,
          -1.0041096455161926,
          -1.513295996376601,
          0.44563700290575264,
          1.3805872637573786,
          -0.23724623893739927,
          1.6998725903030885,
          1.9966578829401846,
          -1.7009377688266318,
          1.2249319898947395,
          -2.2821827061935793,
          -2.2537973037475436,
          -2.076719968286072,
          1.311735711221209,
          1.247455273631927,
          -0.8486798017503576,
          -1.4089448096529023,
          -2.191681416353587,
          1.217863666247831,
          1.2250830080876258,
          -1.0099469854378322,
          1.3805769908664167,
          0.8202612911087456,
          -1.2405006255693873,
          -0.8485677674594159,
          1.2250954041961168,
          -1.5132989638090353,
          1.2474400430949035,
          -1.5137288635362585,
          -1.004176621055971,
          1.2250917162632102,
          0.9507014567943177,
          -0.8485740242872276,
          -1.4089745046607487,
          -1.0652235337676317,
          1.225095427478482,
          2.301280222293229,
          1.2765401219726924,
          -0.27668595319357653,
          0.6255223374230536,
          -2.3320289007290036,
          -1.4181967000287672,
          1.2247495891652067,
          -2.253987892896012,
          -2.0568901181833947,
          -0.872666456209743,
          -1.0188348093025832,
          -2.131426865863068,
          -1.408676617663774,
          6.048251681191719,
          4.447632488424829,
          -1.0041279735055797,
          -1.025447855351913,
          -1.5132874081453664,
          -2.0568901181833947,
          -0.8488726761491722,
          1.1639824966677899,
          1.4254589299409006,
          1.3806403186804967,
          0.9532867959642021,
          0.7951221888071109,
          1.3052379606858893,
          -2.076317597684073,
          -0.8485615400535125,
          -2.2539085403595873,
          -1.513287407346107,
          -1.0041156399985196,
          -2.2174551355088337,
          1.7416704795448907,
          -2.0568901174471894,
          1.2250941589521542,
          1.2250936634467449,
          -2.056995190544076,
          -2.056890118168227,
          0.7947662424602474,
          -2.1906553414523806,
          0.17231493490680622,
          1.1052546178356104,
          1.342232784861905,
          1.2250808551768382,
          1.2250954053092458,
          -0.3317530606993847,
          1.2250954099764533,
          -0.8486083676830295,
          1.6772100373353216,
          1.3422486900326664,
          -2.2538142625825395,
          0.5422035991156693,
          1.2230278027336055,
          -0.487545293878172,
          -2.14024666931813,
          -0.218156193944459,
          -2.145694212654381,
          0.7951028433642144,
          -2.190625372846786,
          -2.253790794651022,
          -2.2362902796538227,
          -2.3145958644365408,
          1.2100757383311602,
          0.7951486050439452,
          -2.126228077757115,
          2.1850765749276997,
          -2.254615408054488,
          1.225063599491749,
          1.6163533898628804,
          0.26444174654656677,
          0.39023954961977836,
          0.5649944232070252,
          -1.257071368657627,
          -2.138928923792167,
          -0.8485688924423078,
          0.9720912781698874,
          1.247469812460534,
          1.6774070889057884,
          0.7951585024823669,
          2.089788243946249,
          0.8214567958038195,
          1.2473829762233664,
          -1.0041117325605,
          1.225087458560392,
          -2.1910545965849364,
          -2.0965967958301976,
          1.2250954053092458,
          -1.2759393498980418,
          -2.3828546599240017,
          0.9506795721011999,
          1.380598199815883,
          1.3422512657086985,
          -1.4077286209995743,
          0.7951598497197716,
          -1.4120370940355476,
          0.7951598407353968,
          0.7729908050555143,
          0.9507013143110141,
          -0.8485689260438937,
          1.6774158083766708,
          1.2235348021851635,
          2.2661069111792864,
          -1.257073764859817,
          0.29364379854934886,
          0.7159176453123773,
          -2.0631263497024865,
          0.5233418543747589,
          -0.5517892450834054,
          -2.15237709258337,
          -2.1906351620178985,
          -2.0759530571153606,
          -1.408971304133142,
          -0.6693429725634396,
          -2.0759530561080166,
          0.9253658530905842,
          -2.2565398736767417,
          1.6146104381701103,
          -1.4181896050125722,
          1.6773638079101734,
          -2.2445712327989233,
          -1.6864945747561342,
          -1.6865155863645425,
          -1.4089448096529045,
          -0.2576404742106463,
          -2.194078104129633,
          -1.004161603073669,
          1.225073644033341,
          -2.0569426662318073,
          1.6773889099426822,
          -2.05692715330495,
          1.247477392489618,
          1.179704558157266,
          -1.181838521924957,
          0.9507068927522744,
          1.2250651497860325,
          -2.1865491382247417,
          0.9529944765201063,
          2.1838056594047752,
          1.3806208087493501,
          -1.4089448086727883,
          -1.4090218132858658,
          -0.23227863468226745,
          -1.4090694030901914,
          1.3806085001592827,
          -0.23829453962213154,
          0.950707946642628,
          1.2025383235312996,
          -0.848561540094934,
          -1.004190323236395,
          1.3802863134311474,
          -1.5189193173216111,
          1.0473855613805239,
          1.2250901979239015,
          -1.686526563768946,
          1.2250651052575559,
          0.39031820928531796,
          1.2250812219315124,
          1.3800009735119323,
          -2.2537906773030443,
          -1.005258517116857,
          1.223651370621721,
          0.7938434971253099,
          1.3799157390608379,
          -1.4089786583028392,
          1.2250070526420223,
          -2.2537906773024985,
          -1.0476723137236708,
          0.8202602412787153,
          1.2245000415092662,
          -1.209644260510702,
          1.3803469984066434,
          1.224942819903131,
          1.3422593709340949,
          -1.0041170867138405,
          -1.0042122569254255,
          0.7185351860151383,
          0.8201502796212637,
          -0.2369987427275644,
          0.7804343171669018,
          1.2247243224125663,
          -1.004109636357964,
          0.7159159932758742,
          1.22509540764285,
          4.783687744103528,
          -1.700233322605177,
          1.9969279321687865,
          -2.0983735153758944,
          -2.0759891161705757,
          -0.23847476261981954,
          -2.075953045606799,
          0.38885216050719884,
          0.774210647597333,
          1.3422513281416117,
          -2.9065451522470083,
          1.5938966652065871,
          -0.4144635946554048,
          1.225073420677051,
          -2.255234066322811,
          -2.0569008625386123,
          0.7951596509652182
         ],
         "z": [
          -0.4956000730703093,
          -0.49610233152841343,
          -0.29851862932117135,
          -0.5440686294737884,
          0.15431515535602755,
          0.32269025696918957,
          -0.04278776150550569,
          -0.45138147917721466,
          0.34297579935731426,
          0.32268755448561975,
          0.20608222125075626,
          0.05854621660594268,
          0.22636420019718387,
          -0.29851924291156107,
          -0.4513771802842687,
          -0.026932484756484812,
          -0.04276050089301723,
          -0.6075960879981877,
          0.0014598303881907773,
          0.1543236885796649,
          -0.25853857930876895,
          -0.5301304335709601,
          -0.22400821886295066,
          -0.04276356527103306,
          -0.49560870523107586,
          0.1543236884319891,
          -0.49590252752839237,
          0.23098993216441863,
          -0.042759620560618494,
          0.15424267242801518,
          -0.04281913076791473,
          -0.04276125785328446,
          -0.4956586495301848,
          0.032866110495063654,
          0.09684813830331498,
          -0.04277367385401005,
          0.0014651375286527139,
          -0.4956000933200881,
          -0.042757755275674714,
          -0.49560007328073763,
          -0.04276119186014761,
          -0.49560056766276583,
          -0.04275999419815174,
          -0.22104878695035718,
          -0.22400821926904324,
          0.0014627590351860768,
          -0.19597349689137086,
          -0.2985186293211821,
          -0.3559721675593191,
          0.22421117745616606,
          -0.45137718029602436,
          -0.04275775515162687,
          0.1453874460365947,
          -0.04872624793020585,
          -0.04276770839144977,
          -0.042757755506029255,
          -0.04286193710684011,
          -0.04276703554349431,
          -0.01707591958952532,
          -0.04275824091696695,
          -0.17978532649667991,
          -0.49359529550906217,
          0.15432368857479553,
          -0.318661052533553,
          -0.042758299123656425,
          0.21516820084459165,
          -0.0431785957695659,
          -0.04278901494238366,
          -0.04277758453061648,
          -0.45137718031195756,
          -0.6075839283444098,
          -0.49564256366838294,
          0.23179353130802055,
          -0.18058428229503828,
          -0.08588073313016334,
          -0.45138558201714174,
          0.15431365019752818,
          -0.45137718029395024,
          -0.530130433646741,
          -0.042829843772860456,
          -0.04276695434478788,
          -0.04275828080342469,
          -0.04275775554004908,
          -0.4513771802828113,
          -0.3891767519264275,
          -0.04277591525951552,
          0.2970260044304772,
          -0.23414388271847314,
          -0.042760517925136264,
          -0.2992868085205281,
          -0.22401592035602697,
          -0.5301618902405479,
          0.1543236883445497,
          -0.04388404839346971,
          0.154316674128283,
          -0.04291707452474973,
          -0.5301376477971523,
          -0.4957060668925392,
          -0.4956352772916199,
          -0.5095539463113248,
          -0.04275775519999081,
          -0.042758280809961184,
          -0.04276928250450745,
          -0.6075839283492677,
          -0.49560007305517473,
          -0.04276993771532778,
          0.3198660802713807,
          -0.04275775524371067,
          -0.17980946227548159,
          -0.451377180838197,
          0.15405554255044068,
          0.05050486432581561,
          0.15430296534231788,
          -0.19930082585753905,
          -0.45137786187116136,
          0.15431277139834598,
          0.15432368857468573,
          0.15432260382558352,
          0.0014645629649724507,
          -0.49612316963449665,
          -0.49562398491960646,
          -0.5301304335418133,
          -0.04276877481219263,
          0.0014651376306654663,
          -0.34401372310173856,
          0.16497556112651066,
          -0.04281468796118612,
          -0.4956000730600323,
          -0.4513804888204378,
          0.05049546901905118,
          -0.530146185775003,
          -0.4956000732932046,
          -0.49567051956156727,
          0.21053367739310913,
          0.2948607649062417,
          0.09196126181725318,
          -0.021990933018726254,
          -0.04279021553431598,
          -0.2985372511285108,
          0.15432368858257953,
          -0.22400821886584982,
          -0.3559959142924134,
          -0.04295531396768085,
          -0.22402115828846028,
          -0.04282321277396654,
          -0.5301313962701631,
          -0.04275784174593459,
          -0.22409135075643458,
          -0.04283023500646812,
          -0.026926775054143263,
          -0.49560077172577366,
          -0.5301338116018621,
          -0.5301304336001063,
          -0.043134998627560296,
          -0.4513771803270654,
          0.3068694219874374,
          0.27704553966874745,
          -0.17978660642767721,
          0.2317625383281696,
          0.11603137737990014,
          -0.6075839283444098,
          -0.042762581702763716,
          -0.495600073050317,
          -0.49560559686185485,
          -0.04495227291103648,
          0.15432368858743728,
          0.496865517808503,
          -0.042757755549749005,
          0.0014651374703598518,
          -0.04275805000911998,
          0.15431775642144696,
          -0.04275824404332033,
          -0.495600073050317,
          -0.4513779007836715,
          0.0014651374703598518,
          -0.03274455591974004,
          0.0014498003708339092,
          -0.495600073050317,
          0.30960728786567976,
          0.15431666882846723,
          -0.4363645179240868,
          0.0014575865242108517,
          -0.02242623903797064,
          0.029397106694720194,
          -0.4513771802779538,
          -0.04277325687175462,
          -0.04279374798964632,
          -0.22405581812046776,
          0.322736517708444,
          -0.17978532602173236,
          -0.5301414017995435,
          0.33541965883154085,
          -0.2985391301466874,
          -0.2585385792934774,
          -0.6075903688616052,
          0.0014575847123740715,
          0.1543136939276087,
          -0.42070006472098553,
          -0.042857713749816964,
          0.2846931563897828,
          -0.2985203761592216,
          -0.45661143036537444,
          -0.042790996731228645,
          0.2981482697693138,
          -0.2985210707239418,
          -0.4198526600824817,
          0.1439756065941467,
          -0.4983882375899834,
          0.04058812294267102,
          -0.49560435655276797,
          -0.49560007307071957,
          0.15432368851457104,
          0.0014651267007219826,
          -0.22402748646416973,
          0.31986605622550485,
          0.0014436652265164842,
          -0.04275785715450444,
          0.3596421823070928,
          -0.042758058908374905,
          -0.2985186303413101,
          0.19422261961595275,
          0.26779532036140663,
          -0.45138213588421444,
          0.15432368838341168,
          -0.2416065834164344,
          -0.29852071295606425,
          -0.17795595127921907,
          -0.01708273598262049,
          -0.04276088286782679,
          0.0014586383227798644,
          -0.45137718027843915,
          -0.4513771803799664,
          -0.45144122724880753,
          -0.01707321618804688,
          -0.29851919945929345,
          0.15432368857567558,
          -0.29852656318243703,
          -0.4936350173765659,
          -0.6075839285192886,
          -0.4513887892299322,
          -0.4935952955837548,
          -0.4956000734130293,
          -0.49560007475053036,
          -0.04275804856685991,
          -0.048050862948191594,
          -0.4959871053800034,
          -0.49560222774391316,
          -0.4956476723875164,
          -0.25854096018888645,
          0.0014644816365561174,
          -0.180098053656306,
          -0.0284149764637157,
          -0.45138458874562637,
          -0.17978532649667991,
          -0.4956206197697261,
          0.2981445464222158,
          -0.2985189128405597,
          0.15432071654401752,
          -0.45137749331987387,
          -0.49560130214039383,
          0.23131753716849987,
          -0.49560099641519983,
          -0.042813373099720456,
          -0.4513772288554808,
          -0.2240889457765157,
          -0.2358166580970196,
          -0.04276304789891799,
          -0.5499812732964209,
          -0.01710845571635452,
          -0.49561602959281237,
          -0.04275775556675111,
          -0.4515031714706955,
          0.31986608046569065,
          0.3215362036591705,
          -0.017144003805781047,
          -0.2585397693172176,
          0.03298965731214073,
          -0.6045984124941605,
          -0.017081699065413396,
          -0.5411775077191389,
          0.32272903975947953,
          0.15432368810166208,
          0.20608306351540712,
          0.08373784068243192,
          -0.4513859113919931,
          -0.49560007790806954,
          -0.04285123929878986,
          0.20608573550073114,
          0.0010729206660527921,
          -0.45137901443595957,
          -0.017097015783780634,
          -0.540662408276057,
          -0.4956082076908477,
          -0.49560007402186745,
          -0.4956012392250571,
          0.0014359275769310897,
          -0.01708273598262049,
          -0.45138006957317484,
          -0.2985245395554274,
          -0.49560970913335783,
          -0.2572181765321709,
          -0.49560534748291485,
          -0.4956052713486691,
          -0.4513775680762811,
          0.2981478041711258,
          -0.4956040615211552,
          -0.2401030448223352,
          -0.4956017262134858,
          -0.49560165134390377,
          -0.1482658121292383,
          -0.33682229917094264,
          -0.04275818070099051,
          0.29814381587106514,
          -0.45137718149239187,
          0.30961293649797333,
          -0.5301304357278022,
          -0.017073216600956034,
          -0.4956114827210049,
          -0.2985198318075352,
          -0.4513798739885459,
          -0.45137718076372874,
          0.0014651371417813194,
          0.0012090545558178976,
          -0.49560021984652786,
          -0.04275775523885273,
          0.34297876473557193,
          -0.22400961018112306,
          -0.23004913032131064,
          0.15627821997654395,
          -0.042759237985046834,
          -0.25854549300779955,
          0.001450669604873785,
          0.20608244089240627,
          -0.49607606642231294,
          -0.0428052799430543,
          0.30960500190113865,
          0.3227415112125692,
          0.0014651366105374868,
          -0.22402537851017743,
          0.28341481888757436,
          -0.4513834460811094,
          -0.6672699215118897,
          -0.4514298396062494,
          -0.04278828355726887,
          -0.2240082193273365,
          -0.017126116032822578,
          -0.4513874246658168,
          -0.040757796358735235,
          -0.01726429003452962,
          -0.4514350940643925,
          -0.4956026287042778,
          -0.4956006197782832,
          -0.49560031590232667,
          -0.04275775524371067,
          -0.026974998005361416,
          -0.45138535385286943,
          -0.04276740650455442,
          -0.0427577551465556,
          -0.2241487095909077,
          0.15369644376838318,
          -0.017078637877651796,
          -0.49561024008672344,
          -0.4513771904476588,
          -0.6269375920625314,
          -0.026931699229082465,
          -0.04276426387586852,
          -0.04808009381696487,
          0.3429511260427365,
          0.10999471395130146,
          0.35111064150890997,
          0.34039806929216787,
          0.29728697456645004,
          -0.493597281084529,
          0.0014484113963879038,
          -0.4936252557937239,
          -0.5175700735957199,
          -0.04276638642788634,
          -0.5301405570550577,
          -0.04276021530757344,
          -0.4513771803163569,
          0.0014527414728748892,
          0.001463889075243819,
          -0.49990559917905697,
          0.2981415287410359,
          -0.5301408658824739,
          0.266272479299888,
          -0.12037108029102157,
          0.15521150163107866,
          -0.011164323252971666,
          0.0014068352899894504,
          -0.5175893641918988,
          0.15431512279144557,
          -0.451383163148737,
          -0.04275776004802794,
          -0.2240171023829976,
          1.9056494619544355,
          -0.04275803710439196,
          -0.017075120368475315,
          -0.11082728739889432,
          -0.042757759999450494,
          -0.04276606333399601,
          -0.04277329509648674,
          -0.0427738043065892,
          -0.4956093739041744,
          -0.4956020722224794,
          0.29814401092305465,
          0.059839289770815506,
          -0.1372319022349909,
          -0.4513806372290709,
          0.20360499409775637,
          -0.23766172706403438,
          -0.49560061610346356,
          0.21526554348446986,
          -0.01626196784316888,
          0.20607754737443512,
          -0.5186663467885165,
          -0.2985624449304841,
          -0.4938621229895611,
          0.3596287183907678,
          -0.49560109637912697,
          -0.4198672793012586,
          -0.04280534971972323,
          -0.2522661439551999,
          -0.49560786150563474,
          -0.3515240321571348,
          -0.45137718029586354,
          -0.14826080608168415,
          -0.031210715397335404,
          0.0013817351940547478,
          0.2152644917996684,
          -0.04275775659902368,
          0.32273544017800687,
          -0.042757755652247625,
          0.21526475030278505,
          -0.07287921136713832,
          -0.45139536306987116,
          0.08365221400878654,
          -0.5071131105518835,
          -0.5302177946497619,
          0.23156423008928406,
          -0.49565289783698213,
          0.2889699314234365,
          0.2981461278498878,
          0.32249352634038225,
          -0.2220097468786133,
          -0.14826887656385124,
          0.0014269053668619074,
          0.1543236884854245,
          0.3427739520056539,
          -0.49793813365389267,
          -0.4956040813177816,
          -0.044644693693072,
          -0.4513986829278966,
          -0.29851906651892435,
          0.01782441168931564,
          0.0014631245597759267,
          -0.4956000730726625,
          0.21526379118581548,
          -0.14827380063440543,
          0.21512482375724784,
          -0.04277940486167244,
          -0.4956012651764264,
          -0.17978742391424912,
          0.0014611020386488863,
          0.15431408970509752,
          0.14564695020271093,
          -0.49560008276582246,
          -0.9436486746663033,
          -0.048042226596463095,
          0.14149027960779878,
          -0.3202712852395578,
          0.272849460895708,
          0.10131599222111794,
          -0.49571185830244074,
          0.29808451791037416,
          0.20608573550073114,
          -0.06472451648574833,
          -0.047517688861655624,
          0.3595938104824884,
          0.16469347483639185,
          10.412077077614216,
          14.737428820841714,
          -0.04276367953665639,
          -0.049655400982380575,
          0.21526752641532645,
          0.20608573550073114,
          0.001364559952776193,
          -0.30719505103872113,
          15.75187789951283,
          -0.45137821226019775,
          -0.22440229120540675,
          -0.22402039041819063,
          -0.10416950305742544,
          0.32262362116334886,
          0.0014651375237949595,
          0.2981101625571322,
          0.2152675260825703,
          -0.04275969261794419,
          0.33312942546242696,
          -0.4936018586093575,
          0.20608573519422657,
          -0.4956004755787767,
          -0.49560063576609387,
          0.2060517708752209,
          0.2060857354944161,
          -0.2241354518359532,
          0.32152679095598796,
          -0.2467565833260034,
          -0.3368774689346511,
          -0.017083629546735882,
          -0.4956047762016932,
          -0.49560007353609237,
          0.2301267030619574,
          -0.4956000754791932,
          0.001450000014629216,
          -0.419919175398874,
          -0.017078488197541507,
          0.29814064592624295,
          -0.02560358966341556,
          -0.49626846078770015,
          -0.04076300646624319,
          0.30961140300129586,
          0.256367161585231,
          0.3757560919124368,
          -0.2240266429062989,
          0.3215364806810522,
          0.29814822681843756,
          0.32812229056968695,
          0.2784916588031562,
          -0.5004552054446737,
          -0.22401185078938035,
          0.18841359649537065,
          -0.54067819575125,
          0.29788167052083747,
          -0.49561035449596763,
          -0.3360064894441931,
          -0.3706292133198035,
          -0.026954292913655625,
          0.00839908897735874,
          0.15564510242931634,
          0.24622374420846738,
          0.0014627609033895411,
          -0.2972109229359626,
          -0.14826417695672872,
          -0.4198554776185634,
          -0.22400879676809268,
          -0.717680111846491,
          -0.28784874469732646,
          -0.14829224709019911,
          -0.04275842956442776,
          -0.49560265005599097,
          0.3429765624068946,
          0.22711754622948535,
          -0.49560007353609237,
          0.22843320654531138,
          0.2807443749286656,
          -0.17979449834348768,
          -0.4513918272233762,
          -0.01707765674282001,
          0.16499991878922293,
          -0.22400822286378028,
          0.15332410250624628,
          -0.2240082191233108,
          -0.29656632321429366,
          -0.17978747065310485,
          0.0014627500072991219,
          -0.41985266119883957,
          -0.49610468645777744,
          0.3327863538506307,
          0.15564432719450605,
          20.119480456984903,
          -0.23757479256442748,
          0.2040698342513811,
          0.047186531953577755,
          0.032989657781885395,
          0.3427238007551932,
          0.3215333157380288,
          0.3227415133559659,
          0.1543151242551101,
          0.35748597405321486,
          0.3227415129365775,
          -0.18797705203658752,
          0.29725953393313714,
          -0.23661418282893631,
          0.10131828574614121,
          -0.41986946844154693,
          0.2979543039027941,
          0.2218378348881102,
          0.22183104366267667,
          0.1543236884854256,
          0.024828857067970632,
          0.295853450754187,
          -0.04277455084473118,
          -0.49560710709610994,
          0.20606874747650478,
          -0.41986135401244057,
          0.20607376396673321,
          -0.14826172667807677,
          -0.51027312031362,
          0.1160282541688959,
          -0.17978566675227703,
          -0.49560985336980184,
          0.2202800698338105,
          -0.2244967860443147,
          -0.5410890561811332,
          -0.45138452217273733,
          0.15432368807737318,
          0.1542987970109406,
          -0.07728867268918377,
          0.15428341290758035,
          -0.4513884975077138,
          0.08331335086685333,
          -0.1797853261323486,
          -0.5028918573732107,
          0.0014651375410400377,
          -0.04278468002538994,
          -0.4514926427658928,
          0.21344700100102534,
          -0.3368079107261693,
          -0.49560175766464054,
          0.22182743507442507,
          -0.49560986750677477,
          -0.026928865820623087,
          -0.49560465739089204,
          -0.45158488202023567,
          0.2981482697695409,
          -0.04312913133133998,
          -0.49606694147605906,
          -0.3070577333144129,
          -0.4516124380160075,
          0.15431274686918908,
          -0.4956286324340378,
          0.2981482697693138,
          -0.05683963715253295,
          -0.29851862944262575,
          -0.49579252499189685,
          0.09683683365556157,
          -0.4514730283953999,
          -0.4956493966504371,
          -0.01707503502798346,
          -0.04276016012457206,
          -0.04279092502621892,
          -0.17636058875690094,
          -0.29855417478045077,
          0.08373221906179744,
          -0.22876826900992214,
          -0.4957200262617239,
          -0.0427577594650978,
          -0.2375753249229497,
          -0.49560007450764265,
          12.935582928816634,
          0.23179194506561554,
          -0.53013050055099,
          0.3191377159512459,
          0.3227298573232697,
          0.08325510316337675,
          0.32274150856460027,
          -0.027402768426129258,
          12.603433742514374,
          -0.017077634823976416,
          -0.890291115747541,
          0.2814259020503985,
          0.04750283279721089,
          -0.4956071812712303,
          0.2976816883603667,
          0.20608226243268732,
          -0.22400827987030228
         ]
        }
       ],
       "layout": {
        "coloraxis": {
         "colorbar": {
          "title": {
           "text": "Class"
          }
         },
         "colorscale": [
          [
           0,
           "#0d0887"
          ],
          [
           0.1111111111111111,
           "#46039f"
          ],
          [
           0.2222222222222222,
           "#7201a8"
          ],
          [
           0.3333333333333333,
           "#9c179e"
          ],
          [
           0.4444444444444444,
           "#bd3786"
          ],
          [
           0.5555555555555556,
           "#d8576b"
          ],
          [
           0.6666666666666666,
           "#ed7953"
          ],
          [
           0.7777777777777778,
           "#fb9f3a"
          ],
          [
           0.8888888888888888,
           "#fdca26"
          ],
          [
           1,
           "#f0f921"
          ]
         ]
        },
        "legend": {
         "tracegroupgap": 0
        },
        "margin": {
         "t": 60
        },
        "scene": {
         "domain": {
          "x": [
           0,
           1
          ],
          "y": [
           0,
           1
          ]
         },
         "xaxis": {
          "title": {
           "text": "PC1"
          }
         },
         "yaxis": {
          "title": {
           "text": "PC2"
          }
         },
         "zaxis": {
          "title": {
           "text": "PC3"
          }
         }
        },
        "template": {
         "data": {
          "bar": [
           {
            "error_x": {
             "color": "#2a3f5f"
            },
            "error_y": {
             "color": "#2a3f5f"
            },
            "marker": {
             "line": {
              "color": "#E5ECF6",
              "width": 0.5
             },
             "pattern": {
              "fillmode": "overlay",
              "size": 10,
              "solidity": 0.2
             }
            },
            "type": "bar"
           }
          ],
          "barpolar": [
           {
            "marker": {
             "line": {
              "color": "#E5ECF6",
              "width": 0.5
             },
             "pattern": {
              "fillmode": "overlay",
              "size": 10,
              "solidity": 0.2
             }
            },
            "type": "barpolar"
           }
          ],
          "carpet": [
           {
            "aaxis": {
             "endlinecolor": "#2a3f5f",
             "gridcolor": "white",
             "linecolor": "white",
             "minorgridcolor": "white",
             "startlinecolor": "#2a3f5f"
            },
            "baxis": {
             "endlinecolor": "#2a3f5f",
             "gridcolor": "white",
             "linecolor": "white",
             "minorgridcolor": "white",
             "startlinecolor": "#2a3f5f"
            },
            "type": "carpet"
           }
          ],
          "choropleth": [
           {
            "colorbar": {
             "outlinewidth": 0,
             "ticks": ""
            },
            "type": "choropleth"
           }
          ],
          "contour": [
           {
            "colorbar": {
             "outlinewidth": 0,
             "ticks": ""
            },
            "colorscale": [
             [
              0,
              "#0d0887"
             ],
             [
              0.1111111111111111,
              "#46039f"
             ],
             [
              0.2222222222222222,
              "#7201a8"
             ],
             [
              0.3333333333333333,
              "#9c179e"
             ],
             [
              0.4444444444444444,
              "#bd3786"
             ],
             [
              0.5555555555555556,
              "#d8576b"
             ],
             [
              0.6666666666666666,
              "#ed7953"
             ],
             [
              0.7777777777777778,
              "#fb9f3a"
             ],
             [
              0.8888888888888888,
              "#fdca26"
             ],
             [
              1,
              "#f0f921"
             ]
            ],
            "type": "contour"
           }
          ],
          "contourcarpet": [
           {
            "colorbar": {
             "outlinewidth": 0,
             "ticks": ""
            },
            "type": "contourcarpet"
           }
          ],
          "heatmap": [
           {
            "colorbar": {
             "outlinewidth": 0,
             "ticks": ""
            },
            "colorscale": [
             [
              0,
              "#0d0887"
             ],
             [
              0.1111111111111111,
              "#46039f"
             ],
             [
              0.2222222222222222,
              "#7201a8"
             ],
             [
              0.3333333333333333,
              "#9c179e"
             ],
             [
              0.4444444444444444,
              "#bd3786"
             ],
             [
              0.5555555555555556,
              "#d8576b"
             ],
             [
              0.6666666666666666,
              "#ed7953"
             ],
             [
              0.7777777777777778,
              "#fb9f3a"
             ],
             [
              0.8888888888888888,
              "#fdca26"
             ],
             [
              1,
              "#f0f921"
             ]
            ],
            "type": "heatmap"
           }
          ],
          "heatmapgl": [
           {
            "colorbar": {
             "outlinewidth": 0,
             "ticks": ""
            },
            "colorscale": [
             [
              0,
              "#0d0887"
             ],
             [
              0.1111111111111111,
              "#46039f"
             ],
             [
              0.2222222222222222,
              "#7201a8"
             ],
             [
              0.3333333333333333,
              "#9c179e"
             ],
             [
              0.4444444444444444,
              "#bd3786"
             ],
             [
              0.5555555555555556,
              "#d8576b"
             ],
             [
              0.6666666666666666,
              "#ed7953"
             ],
             [
              0.7777777777777778,
              "#fb9f3a"
             ],
             [
              0.8888888888888888,
              "#fdca26"
             ],
             [
              1,
              "#f0f921"
             ]
            ],
            "type": "heatmapgl"
           }
          ],
          "histogram": [
           {
            "marker": {
             "pattern": {
              "fillmode": "overlay",
              "size": 10,
              "solidity": 0.2
             }
            },
            "type": "histogram"
           }
          ],
          "histogram2d": [
           {
            "colorbar": {
             "outlinewidth": 0,
             "ticks": ""
            },
            "colorscale": [
             [
              0,
              "#0d0887"
             ],
             [
              0.1111111111111111,
              "#46039f"
             ],
             [
              0.2222222222222222,
              "#7201a8"
             ],
             [
              0.3333333333333333,
              "#9c179e"
             ],
             [
              0.4444444444444444,
              "#bd3786"
             ],
             [
              0.5555555555555556,
              "#d8576b"
             ],
             [
              0.6666666666666666,
              "#ed7953"
             ],
             [
              0.7777777777777778,
              "#fb9f3a"
             ],
             [
              0.8888888888888888,
              "#fdca26"
             ],
             [
              1,
              "#f0f921"
             ]
            ],
            "type": "histogram2d"
           }
          ],
          "histogram2dcontour": [
           {
            "colorbar": {
             "outlinewidth": 0,
             "ticks": ""
            },
            "colorscale": [
             [
              0,
              "#0d0887"
             ],
             [
              0.1111111111111111,
              "#46039f"
             ],
             [
              0.2222222222222222,
              "#7201a8"
             ],
             [
              0.3333333333333333,
              "#9c179e"
             ],
             [
              0.4444444444444444,
              "#bd3786"
             ],
             [
              0.5555555555555556,
              "#d8576b"
             ],
             [
              0.6666666666666666,
              "#ed7953"
             ],
             [
              0.7777777777777778,
              "#fb9f3a"
             ],
             [
              0.8888888888888888,
              "#fdca26"
             ],
             [
              1,
              "#f0f921"
             ]
            ],
            "type": "histogram2dcontour"
           }
          ],
          "mesh3d": [
           {
            "colorbar": {
             "outlinewidth": 0,
             "ticks": ""
            },
            "type": "mesh3d"
           }
          ],
          "parcoords": [
           {
            "line": {
             "colorbar": {
              "outlinewidth": 0,
              "ticks": ""
             }
            },
            "type": "parcoords"
           }
          ],
          "pie": [
           {
            "automargin": true,
            "type": "pie"
           }
          ],
          "scatter": [
           {
            "fillpattern": {
             "fillmode": "overlay",
             "size": 10,
             "solidity": 0.2
            },
            "type": "scatter"
           }
          ],
          "scatter3d": [
           {
            "line": {
             "colorbar": {
              "outlinewidth": 0,
              "ticks": ""
             }
            },
            "marker": {
             "colorbar": {
              "outlinewidth": 0,
              "ticks": ""
             }
            },
            "type": "scatter3d"
           }
          ],
          "scattercarpet": [
           {
            "marker": {
             "colorbar": {
              "outlinewidth": 0,
              "ticks": ""
             }
            },
            "type": "scattercarpet"
           }
          ],
          "scattergeo": [
           {
            "marker": {
             "colorbar": {
              "outlinewidth": 0,
              "ticks": ""
             }
            },
            "type": "scattergeo"
           }
          ],
          "scattergl": [
           {
            "marker": {
             "colorbar": {
              "outlinewidth": 0,
              "ticks": ""
             }
            },
            "type": "scattergl"
           }
          ],
          "scattermapbox": [
           {
            "marker": {
             "colorbar": {
              "outlinewidth": 0,
              "ticks": ""
             }
            },
            "type": "scattermapbox"
           }
          ],
          "scatterpolar": [
           {
            "marker": {
             "colorbar": {
              "outlinewidth": 0,
              "ticks": ""
             }
            },
            "type": "scatterpolar"
           }
          ],
          "scatterpolargl": [
           {
            "marker": {
             "colorbar": {
              "outlinewidth": 0,
              "ticks": ""
             }
            },
            "type": "scatterpolargl"
           }
          ],
          "scatterternary": [
           {
            "marker": {
             "colorbar": {
              "outlinewidth": 0,
              "ticks": ""
             }
            },
            "type": "scatterternary"
           }
          ],
          "surface": [
           {
            "colorbar": {
             "outlinewidth": 0,
             "ticks": ""
            },
            "colorscale": [
             [
              0,
              "#0d0887"
             ],
             [
              0.1111111111111111,
              "#46039f"
             ],
             [
              0.2222222222222222,
              "#7201a8"
             ],
             [
              0.3333333333333333,
              "#9c179e"
             ],
             [
              0.4444444444444444,
              "#bd3786"
             ],
             [
              0.5555555555555556,
              "#d8576b"
             ],
             [
              0.6666666666666666,
              "#ed7953"
             ],
             [
              0.7777777777777778,
              "#fb9f3a"
             ],
             [
              0.8888888888888888,
              "#fdca26"
             ],
             [
              1,
              "#f0f921"
             ]
            ],
            "type": "surface"
           }
          ],
          "table": [
           {
            "cells": {
             "fill": {
              "color": "#EBF0F8"
             },
             "line": {
              "color": "white"
             }
            },
            "header": {
             "fill": {
              "color": "#C8D4E3"
             },
             "line": {
              "color": "white"
             }
            },
            "type": "table"
           }
          ]
         },
         "layout": {
          "annotationdefaults": {
           "arrowcolor": "#2a3f5f",
           "arrowhead": 0,
           "arrowwidth": 1
          },
          "autotypenumbers": "strict",
          "coloraxis": {
           "colorbar": {
            "outlinewidth": 0,
            "ticks": ""
           }
          },
          "colorscale": {
           "diverging": [
            [
             0,
             "#8e0152"
            ],
            [
             0.1,
             "#c51b7d"
            ],
            [
             0.2,
             "#de77ae"
            ],
            [
             0.3,
             "#f1b6da"
            ],
            [
             0.4,
             "#fde0ef"
            ],
            [
             0.5,
             "#f7f7f7"
            ],
            [
             0.6,
             "#e6f5d0"
            ],
            [
             0.7,
             "#b8e186"
            ],
            [
             0.8,
             "#7fbc41"
            ],
            [
             0.9,
             "#4d9221"
            ],
            [
             1,
             "#276419"
            ]
           ],
           "sequential": [
            [
             0,
             "#0d0887"
            ],
            [
             0.1111111111111111,
             "#46039f"
            ],
            [
             0.2222222222222222,
             "#7201a8"
            ],
            [
             0.3333333333333333,
             "#9c179e"
            ],
            [
             0.4444444444444444,
             "#bd3786"
            ],
            [
             0.5555555555555556,
             "#d8576b"
            ],
            [
             0.6666666666666666,
             "#ed7953"
            ],
            [
             0.7777777777777778,
             "#fb9f3a"
            ],
            [
             0.8888888888888888,
             "#fdca26"
            ],
            [
             1,
             "#f0f921"
            ]
           ],
           "sequentialminus": [
            [
             0,
             "#0d0887"
            ],
            [
             0.1111111111111111,
             "#46039f"
            ],
            [
             0.2222222222222222,
             "#7201a8"
            ],
            [
             0.3333333333333333,
             "#9c179e"
            ],
            [
             0.4444444444444444,
             "#bd3786"
            ],
            [
             0.5555555555555556,
             "#d8576b"
            ],
            [
             0.6666666666666666,
             "#ed7953"
            ],
            [
             0.7777777777777778,
             "#fb9f3a"
            ],
            [
             0.8888888888888888,
             "#fdca26"
            ],
            [
             1,
             "#f0f921"
            ]
           ]
          },
          "colorway": [
           "#636efa",
           "#EF553B",
           "#00cc96",
           "#ab63fa",
           "#FFA15A",
           "#19d3f3",
           "#FF6692",
           "#B6E880",
           "#FF97FF",
           "#FECB52"
          ],
          "font": {
           "color": "#2a3f5f"
          },
          "geo": {
           "bgcolor": "white",
           "lakecolor": "white",
           "landcolor": "#E5ECF6",
           "showlakes": true,
           "showland": true,
           "subunitcolor": "white"
          },
          "hoverlabel": {
           "align": "left"
          },
          "hovermode": "closest",
          "mapbox": {
           "style": "light"
          },
          "paper_bgcolor": "white",
          "plot_bgcolor": "#E5ECF6",
          "polar": {
           "angularaxis": {
            "gridcolor": "white",
            "linecolor": "white",
            "ticks": ""
           },
           "bgcolor": "#E5ECF6",
           "radialaxis": {
            "gridcolor": "white",
            "linecolor": "white",
            "ticks": ""
           }
          },
          "scene": {
           "xaxis": {
            "backgroundcolor": "#E5ECF6",
            "gridcolor": "white",
            "gridwidth": 2,
            "linecolor": "white",
            "showbackground": true,
            "ticks": "",
            "zerolinecolor": "white"
           },
           "yaxis": {
            "backgroundcolor": "#E5ECF6",
            "gridcolor": "white",
            "gridwidth": 2,
            "linecolor": "white",
            "showbackground": true,
            "ticks": "",
            "zerolinecolor": "white"
           },
           "zaxis": {
            "backgroundcolor": "#E5ECF6",
            "gridcolor": "white",
            "gridwidth": 2,
            "linecolor": "white",
            "showbackground": true,
            "ticks": "",
            "zerolinecolor": "white"
           }
          },
          "shapedefaults": {
           "line": {
            "color": "#2a3f5f"
           }
          },
          "ternary": {
           "aaxis": {
            "gridcolor": "white",
            "linecolor": "white",
            "ticks": ""
           },
           "baxis": {
            "gridcolor": "white",
            "linecolor": "white",
            "ticks": ""
           },
           "bgcolor": "#E5ECF6",
           "caxis": {
            "gridcolor": "white",
            "linecolor": "white",
            "ticks": ""
           }
          },
          "title": {
           "x": 0.05
          },
          "xaxis": {
           "automargin": true,
           "gridcolor": "white",
           "linecolor": "white",
           "ticks": "",
           "title": {
            "standoff": 15
           },
           "zerolinecolor": "white",
           "zerolinewidth": 2
          },
          "yaxis": {
           "automargin": true,
           "gridcolor": "white",
           "linecolor": "white",
           "ticks": "",
           "title": {
            "standoff": 15
           },
           "zerolinecolor": "white",
           "zerolinewidth": 2
          }
         }
        },
        "width": 800
       }
      }
     },
     "metadata": {},
     "output_type": "display_data"
    }
   ],
   "source": [
    "# Creating a 3D-Scatter with the PCA data and the clusters\n",
    "import plotly.express as px\n",
    "\n",
    "fig = px.scatter_3d(clustered_df, x='PC1', y='PC2', z='PC3', color='Class', width=800, hover_name='CoinName', hover_data=['Algorithm', 'ProofType', 'TotalCoinSupply'])\n",
    "# fig.update_layout(legend=dict(x=0, y=1))\n",
    "fig.show()\n"
   ]
  },
  {
   "cell_type": "code",
   "execution_count": 248,
   "metadata": {},
   "outputs": [
    {
     "data": {},
     "metadata": {},
     "output_type": "display_data"
    },
    {
     "data": {
      "application/vnd.holoviews_exec.v0+json": "",
      "text/html": [
       "<div id='1774'>\n",
       "\n",
       "\n",
       "\n",
       "\n",
       "\n",
       "  <div class=\"bk-root\" id=\"b8eb7a9a-0a31-409d-aa02-3da2d5ec8526\" data-root-id=\"1774\"></div>\n",
       "</div>\n",
       "<script type=\"application/javascript\">(function(root) {\n",
       "  function embed_document(root) {\n",
       "    var docs_json = {\"3efce370-9568-44f3-8eb5-74223af1e226\":{\"defs\":[{\"extends\":null,\"module\":null,\"name\":\"ReactiveHTML1\",\"overrides\":[],\"properties\":[]},{\"extends\":null,\"module\":null,\"name\":\"FlexBox1\",\"overrides\":[],\"properties\":[{\"default\":\"flex-start\",\"kind\":null,\"name\":\"align_content\"},{\"default\":\"flex-start\",\"kind\":null,\"name\":\"align_items\"},{\"default\":\"row\",\"kind\":null,\"name\":\"flex_direction\"},{\"default\":\"wrap\",\"kind\":null,\"name\":\"flex_wrap\"},{\"default\":\"flex-start\",\"kind\":null,\"name\":\"justify_content\"}]},{\"extends\":null,\"module\":null,\"name\":\"GridStack1\",\"overrides\":[],\"properties\":[{\"default\":\"warn\",\"kind\":null,\"name\":\"mode\"},{\"default\":null,\"kind\":null,\"name\":\"ncols\"},{\"default\":null,\"kind\":null,\"name\":\"nrows\"},{\"default\":true,\"kind\":null,\"name\":\"allow_resize\"},{\"default\":true,\"kind\":null,\"name\":\"allow_drag\"},{\"default\":[],\"kind\":null,\"name\":\"state\"}]},{\"extends\":null,\"module\":null,\"name\":\"click1\",\"overrides\":[],\"properties\":[{\"default\":\"\",\"kind\":null,\"name\":\"terminal_output\"},{\"default\":\"\",\"kind\":null,\"name\":\"debug_name\"},{\"default\":0,\"kind\":null,\"name\":\"clears\"}]},{\"extends\":null,\"module\":null,\"name\":\"TemplateActions1\",\"overrides\":[],\"properties\":[{\"default\":0,\"kind\":null,\"name\":\"open_modal\"},{\"default\":0,\"kind\":null,\"name\":\"close_modal\"}]},{\"extends\":null,\"module\":null,\"name\":\"MaterialTemplateActions1\",\"overrides\":[],\"properties\":[{\"default\":0,\"kind\":null,\"name\":\"open_modal\"},{\"default\":0,\"kind\":null,\"name\":\"close_modal\"}]}],\"roots\":{\"references\":[{\"attributes\":{\"columns\":[{\"id\":\"1780\"},{\"id\":\"1785\"},{\"id\":\"1790\"},{\"id\":\"1795\"},{\"id\":\"1800\"},{\"id\":\"1805\"},{\"id\":\"1810\"},{\"id\":\"1815\"},{\"id\":\"1820\"},{\"id\":\"1825\"},{\"id\":\"1830\"}],\"height\":300,\"reorderable\":false,\"source\":{\"id\":\"1776\"},\"view\":{\"id\":\"1835\"},\"width\":700},\"id\":\"1833\",\"type\":\"DataTable\"},{\"attributes\":{\"editor\":{\"id\":\"1809\"},\"field\":\"TotalCoinSupply\",\"formatter\":{\"id\":\"1808\"},\"title\":\"TotalCoinSupply\"},\"id\":\"1810\",\"type\":\"TableColumn\"},{\"attributes\":{},\"id\":\"1793\",\"type\":\"StringFormatter\"},{\"attributes\":{\"editor\":{\"id\":\"1829\"},\"field\":\"PC3\",\"formatter\":{\"id\":\"1828\"},\"title\":\"PC3\"},\"id\":\"1830\",\"type\":\"TableColumn\"},{\"attributes\":{},\"id\":\"1784\",\"type\":\"StringEditor\"},{\"attributes\":{},\"id\":\"1836\",\"type\":\"UnionRenderers\"},{\"attributes\":{},\"id\":\"1789\",\"type\":\"StringEditor\"},{\"attributes\":{\"editor\":{\"id\":\"1799\"},\"field\":\"ProofType\",\"formatter\":{\"id\":\"1798\"},\"title\":\"ProofType\"},\"id\":\"1800\",\"type\":\"TableColumn\"},{\"attributes\":{},\"id\":\"1788\",\"type\":\"StringFormatter\"},{\"attributes\":{},\"id\":\"1804\",\"type\":\"NumberEditor\"},{\"attributes\":{\"editor\":{\"id\":\"1779\"},\"field\":\"Unnamed_colon_0\",\"formatter\":{\"id\":\"1778\"},\"title\":\"Unnamed: 0\"},\"id\":\"1780\",\"type\":\"TableColumn\"},{\"attributes\":{\"source\":{\"id\":\"1776\"}},\"id\":\"1835\",\"type\":\"CDSView\"},{\"attributes\":{},\"id\":\"1777\",\"type\":\"Selection\"},{\"attributes\":{},\"id\":\"1779\",\"type\":\"StringEditor\"},{\"attributes\":{\"format\":\"0,0.0[00000]\"},\"id\":\"1823\",\"type\":\"NumberFormatter\"},{\"attributes\":{},\"id\":\"1809\",\"type\":\"NumberEditor\"},{\"attributes\":{},\"id\":\"1819\",\"type\":\"NumberEditor\"},{\"attributes\":{},\"id\":\"1794\",\"type\":\"StringEditor\"},{\"attributes\":{\"children\":[{\"id\":\"1775\"},{\"id\":\"1833\"},{\"id\":\"1840\"}],\"margin\":[0,0,0,0],\"name\":\"Row03112\",\"tags\":[\"embedded\"]},\"id\":\"1774\",\"type\":\"Row\"},{\"attributes\":{\"editor\":{\"id\":\"1794\"},\"field\":\"IsTrading\",\"formatter\":{\"id\":\"1793\"},\"title\":\"IsTrading\"},\"id\":\"1795\",\"type\":\"TableColumn\"},{\"attributes\":{\"margin\":[5,5,5,5],\"name\":\"HSpacer03117\",\"sizing_mode\":\"stretch_width\"},\"id\":\"1840\",\"type\":\"Spacer\"},{\"attributes\":{\"format\":\"0,0.0[00000]\"},\"id\":\"1818\",\"type\":\"NumberFormatter\"},{\"attributes\":{\"editor\":{\"id\":\"1789\"},\"field\":\"Algorithm\",\"formatter\":{\"id\":\"1788\"},\"title\":\"Algorithm\"},\"id\":\"1790\",\"type\":\"TableColumn\"},{\"attributes\":{},\"id\":\"1799\",\"type\":\"StringEditor\"},{\"attributes\":{},\"id\":\"1813\",\"type\":\"NumberFormatter\"},{\"attributes\":{\"format\":\"0,0.0[00000]\"},\"id\":\"1828\",\"type\":\"NumberFormatter\"},{\"attributes\":{\"editor\":{\"id\":\"1814\"},\"field\":\"Class\",\"formatter\":{\"id\":\"1813\"},\"title\":\"Class\"},\"id\":\"1815\",\"type\":\"TableColumn\"},{\"attributes\":{\"editor\":{\"id\":\"1819\"},\"field\":\"PC1\",\"formatter\":{\"id\":\"1818\"},\"title\":\"PC1\"},\"id\":\"1820\",\"type\":\"TableColumn\"},{\"attributes\":{},\"id\":\"1783\",\"type\":\"StringFormatter\"},{\"attributes\":{\"margin\":[5,5,5,5],\"name\":\"HSpacer03116\",\"sizing_mode\":\"stretch_width\"},\"id\":\"1775\",\"type\":\"Spacer\"},{\"attributes\":{},\"id\":\"1798\",\"type\":\"StringFormatter\"},{\"attributes\":{},\"id\":\"1814\",\"type\":\"IntEditor\"},{\"attributes\":{},\"id\":\"1829\",\"type\":\"NumberEditor\"},{\"attributes\":{\"format\":\"0,0.0[00000]\"},\"id\":\"1803\",\"type\":\"NumberFormatter\"},{\"attributes\":{},\"id\":\"1824\",\"type\":\"NumberEditor\"},{\"attributes\":{\"editor\":{\"id\":\"1804\"},\"field\":\"TotalCoinsMined\",\"formatter\":{\"id\":\"1803\"},\"title\":\"TotalCoinsMined\"},\"id\":\"1805\",\"type\":\"TableColumn\"},{\"attributes\":{\"editor\":{\"id\":\"1824\"},\"field\":\"PC2\",\"formatter\":{\"id\":\"1823\"},\"title\":\"PC2\"},\"id\":\"1825\",\"type\":\"TableColumn\"},{\"attributes\":{\"format\":\"0,0.0[00000]\"},\"id\":\"1808\",\"type\":\"NumberFormatter\"},{\"attributes\":{},\"id\":\"1778\",\"type\":\"StringFormatter\"},{\"attributes\":{\"data\":{\"Algorithm\":[\"Scrypt\",\"X11\",\"Scrypt\",\"SHA-256\",\"SHA-256\",\"X13\",\"X11\",\"SHA-256\",\"Ethash\",\"Scrypt\",\"X11\",\"CryptoNight-V7\",\"Ethash\",\"Equihash\",\"SHA-512\",\"Multiple\",\"SHA-256\",\"X11\",\"X11\",\"SHA-256\",\"Scrypt\",\"Multiple\",\"X13\",\"X11\",\"X15\",\"NIST5\",\"Scrypt\",\"X11\",\"X11\",\"SHA-256\",\"X13\",\"Scrypt\",\"X13\",\"Scrypt\",\"Scrypt\",\"X13\",\"Scrypt\",\"Scrypt\",\"Scrypt\",\"Scrypt\",\"SHA-256\",\"SHA-256\",\"Scrypt\",\"Scrypt\",\"Multiple\",\"Scrypt\",\"SHA-256\",\"Scrypt\",\"Scrypt\",\"Scrypt\",\"Quark\",\"Groestl\",\"Scrypt\",\"X11\",\"Scrypt\",\"Scrypt\",\"Scrypt\",\"Scrypt\",\"Scrypt\",\"Scrypt\",\"Scrypt\",\"Scrypt\",\"Scrypt\",\"Scrypt\",\"Multiple\",\"Scrypt\",\"SHA-256\",\"Scrypt\",\"Scrypt\",\"X11\",\"Scrypt\",\"Scrypt\",\"X11\",\"X11\",\"Scrypt\",\"SHA-256\",\"Groestl\",\"Multiple\",\"X11\",\"Scrypt\",\"SHA-256\",\"Scrypt\",\"Scrypt\",\"Scrypt\",\"Scrypt\",\"Scrypt\",\"PoS\",\"Scrypt\",\"Scrypt\",\"Scrypt\",\"X11\",\"SHA-256\",\"NIST5\",\"SHA-256\",\"Scrypt\",\"Scrypt\",\"X11\",\"NeoScrypt\",\"Scrypt\",\"Scrypt\",\"Scrypt\",\"Scrypt\",\"X11\",\"Scrypt\",\"X11\",\"X15\",\"Scrypt\",\"Multiple\",\"Multiple\",\"X11\",\"NIST5\",\"Scrypt\",\"X11\",\"SHA-256\",\"X11\",\"Scrypt\",\"X13\",\"Scrypt\",\"Scrypt\",\"Scrypt\",\"Scrypt\",\"NIST5\",\"Scrypt\",\"Scrypt\",\"X11\",\"X11\",\"Scrypt\",\"SHA3\",\"Scrypt\",\"HybridScryptHash256\",\"Scrypt\",\"SHA-256\",\"Scrypt\",\"Scrypt\",\"SHA-256\",\"Scrypt\",\"Scrypt\",\"X13\",\"Scrypt\",\"X15\",\"SHA-256\",\"Scrypt\",\"Scrypt\",\"SHA-256\",\"Scrypt\",\"X13\",\"NeoScrypt\",\"Scrypt\",\"Scrypt\",\"X13\",\"Scrypt\",\"Scrypt\",\"Scrypt\",\"Scrypt\",\"Scrypt\",\"Scrypt-n\",\"Scrypt\",\"Scrypt\",\"Scrypt\",\"Scrypt\",\"Multiple\",\"Scrypt\",\"X15\",\"Scrypt\",\"X13\",\"Scrypt\",\"X15\",\"Scrypt-n\",\"Scrypt\",\"Scrypt\",\"X13\",\"X11\",\"X11\",\"SHA-256\",\"Scrypt\",\"SHA-256\",\"Multiple\",\"SHA-256\",\"PHI1612\",\"X11\",\"SHA-256\",\"Scrypt\",\"SHA-256\",\"SHA-256\",\"SHA-256\",\"X11\",\"Scrypt\",\"Scrypt\",\"X13\",\"X11\",\"Scrypt\",\"X11\",\"Scrypt\",\"Lyra2REv2\",\"Scrypt\",\"X11\",\"Scrypt\",\"X11\",\"Multiple\",\"SHA-256\",\"X11\",\"X13\",\"Scrypt\",\"Scrypt\",\"Scrypt\",\"Scrypt\",\"CryptoNight\",\"X13\",\"CryptoNight\",\"SHA-256\",\"Shabal256\",\"Counterparty\",\"Blake\",\"Scrypt\",\"Scrypt\",\"SHA-256\",\"SHA-256\",\"SHA-256\",\"Scrypt\",\"Scrypt\",\"Groestl\",\"Scrypt\",\"Scrypt\",\"Scrypt\",\"X13\",\"Scrypt\",\"SHA-256\",\"Scrypt\",\"Scrypt\",\"SHA-256\",\"Scrypt\",\"X13\",\"X13\",\"X11\",\"Scrypt\",\"Scrypt\",\"X11\",\"Momentum\",\"CryptoNight\",\"Blake\",\"Stanford Folding\",\"X11\",\"X11\",\"Multiple\",\"QuBit\",\"X13\",\"X15\",\"Scrypt\",\"X11\",\"Scrypt\",\"Scrypt\",\"Scrypt\",\"Scrypt\",\"XG Hash\",\"X11\",\"Scrypt\",\"X11\",\"SHA-256\",\"X11\",\"M7 POW\",\"Scrypt\",\"Multiple\",\"X11\",\"Scrypt\",\"Scrypt\",\"Multiple\",\"X11\",\"Curve25519\",\"SHA-256\",\"Scrypt\",\"Scrypt\",\"Scrypt\",\"Scrypt\",\"Scrypt-n\",\"SHA-256\",\"X11\",\"X11\",\"X11\",\"SHA-256\",\"X11\",\"SHA3\",\"X11\",\"X11\",\"X11\",\"X11\",\"Scrypt\",\"X13\",\"Scrypt\",\"Lyra2RE\",\"X13\",\"Scrypt\",\"X11\",\"X11\",\"Scrypt\",\"SHA-256\",\"QUAIT\",\"X11\",\"SHA-256\",\"vDPOS\",\"Scrypt\",\"X11\",\"Scrypt\",\"X11\",\"SHA-256\",\"NIST5\",\"X15\",\"SHA-256\",\"X13\",\"Scrypt\",\"SHA-256\",\"X11\",\"Scrypt\",\"SHA-256\",\"Scrypt\",\"Scrypt\",\"Ethash\",\"X11\",\"X13\",\"Blake2b\",\"Lyra2RE\",\"SHA-256\",\"X13\",\"X15\",\"X11\",\"SHA-256\",\"BLAKE256\",\"Scrypt\",\"Scrypt\",\"1GB AES Pattern Search\",\"SHA-256\",\"X11\",\"Scrypt\",\"CryptoNight\",\"SHA-256\",\"Quark\",\"SHA-256\",\"Scrypt\",\"NIST5\",\"Blake\",\"Scrypt\",\"Scrypt\",\"SHA-256\",\"Scrypt\",\"X11\",\"Scrypt\",\"X15\",\"Scrypt-n\",\"X11\",\"Scrypt\",\"Scrypt\",\"Dagger\",\"Scrypt\",\"SHA-256\",\"CryptoNight-Lite\",\"X11GOST\",\"X11\",\"Scrypt\",\"X11\",\"SHA-256\",\"X11\",\"X13\",\"Scrypt\",\"Scrypt\",\"SHA-256\",\"Scrypt\",\"PoS\",\"X11\",\"Scrypt\",\"Scrypt\",\"X11\",\"X11\",\"Dagger\",\"PoS\",\"SHA-256D\",\"Scrypt\",\"Scrypt\",\"X11\",\"Scrypt\",\"SHA-256\",\"X11\",\"Scrypt\",\"X11\",\"X11\",\"Scrypt\",\"PoS\",\"X11\",\"Scrypt\",\"Scrypt\",\"SHA-256\",\"X11\",\"X11\",\"Scrypt\",\"Scrypt\",\"SHA-256\",\"SHA-256\",\"NIST5\",\"NIST5\",\"Lyra2RE\",\"SHA-256\",\"X15\",\"SHA-256\",\"X11\",\"Scrypt\",\"X11\",\"Scrypt\",\"NIST5\",\"Scrypt\",\"Scrypt\",\"Scrypt\",\"Scrypt\",\"Scrypt\",\"POS 3.0\",\"Scrypt\",\"PoS\",\"X13\",\"Scrypt\",\"SHA-256\",\"Scrypt\",\"X13\",\"Scrypt\",\"SHA-256D\",\"Scrypt\",\"Scrypt\",\"X13\",\"X13\",\"X11\",\"X11\",\"SHA-256\",\"Equihash\",\"X11\",\"SHA-256\",\"X11\",\"Scrypt\",\"X11\",\"Scrypt\",\"Scrypt\",\"Scrypt\",\"X11\",\"Quark\",\"SHA-256\",\"CryptoNight\",\"X11\",\"SHA-256\",\"SHA-256\",\"X11\",\"Scrypt\",\"Scrypt\",\"Multiple\",\"X13\",\"Scrypt\",\"Scrypt\",\"Scrypt\",\"Scrypt\",\"X11\",\"X11\",\"QuBit\",\"Progressive-n\",\"Scrypt\",\"Scrypt\",\"DPoS\",\"Scrypt\",\"Scrypt\",\"SHA-256\",\"Scrypt\",\"Scrypt\",\"Scrypt\",\"SHA-256D\",\"SHA-256\",\"X11\",\"PoS\",\"Scrypt\",\"X11\",\"Scrypt\",\"Scrypt\",\"X11\",\"Scrypt\",\"PoS\",\"Scrypt\",\"X11\",\"Scrypt\",\"Quark\",\"Scrypt\",\"X11\",\"X13\",\"X11\",\"X11\",\"NIST5\",\"Scrypt-n\",\"SHA-256\",\"Lyra2Z\",\"Scrypt\",\"SHA-256\",\"SHA-256\",\"SHA-256\",\"PoS\",\"X11\",\"SHA-256D\",\"Scrypt\",\"Scrypt\",\"Scrypt\",\"X11\",\"X13\",\"X11\",\"Quark\",\"X11\",\"Scrypt\",\"X11\",\"X14\",\"PoS\",\"Scrypt\",\"SHA-256D\",\"Ethash\",\"Scrypt\",\"X13\",\"Scrypt\",\"Scrypt\",\"SHA-256\",\"Scrypt\",\"SHA-256\",\"Equihash\",\"X13\",\"X11\",\"Scrypt\",\"Scrypt\",\"DPoS\",\"Scrypt\",\"X11\",\"PoS\",\"X11\",\"Scrypt\",\"QuBit\",\"Scrypt\",\"X11\",\"Scrypt\",\"Equihash\",\"PoS\",\"Scrypt\",\"Scrypt\",\"X11\",\"X11\",\"SHA-256\",\"Scrypt\",\"CryptoNight\",\"Scrypt\",\"X13\",\"PoS\",\"X11\",\"X11\",\"X11\",\"PoS\",\"SHA-256D\",\"Scrypt\",\"Scrypt\",\"Scrypt\",\"Scrypt\",\"X11\",\"PoS\",\"X11\",\"SHA-256D\",\"SHA-256\",\"Scrypt\",\"Scrypt\",\"SHA-256D\",\"X11\",\"Scrypt\",\"PoS\",\"Scrypt\",\"X13\",\"Scrypt\",\"Scrypt\",\"Scrypt\",\"DPoS\",\"PoS\",\"PoS\",\"PoS\",\"X11\",\"CryptoNight\",\"X11\",\"X11\",\"X11\",\"X13\",\"Scrypt\",\"Scrypt\",\"Scrypt\",\"Scrypt\",\"X11\",\"PoS\",\"PoS\",\"Scrypt\",\"Scrypt\",\"Scrypt\",\"Quark\",\"QuBit\",\"X15\",\"X13\",\"X13\",\"PoS\",\"PoS\",\"SHA-256\",\"SHA-256\",\"X11\",\"X11\",\"X11\",\"SHA-256D\",\"X13\",\"Scrypt\",\"CryptoNight\",\"X11\",\"X11\",\"Lyra2RE\",\"SHA-256\",\"Time Travel\",\"PoS\",\"PoS\",\"SHA-256D\",\"X13\",\"Scrypt\",\"Scrypt\",\"Scrypt\",\"Multiple\",\"Scrypt\",\"PoS\",\"Scrypt\",\"SHA-256\",\"Scrypt\",\"X11\",\"X11\",\"Argon2\",\"PoS\",\"Scrypt\",\"X13\",\"SHA-256D\",\"SHA-256\",\"X11\",\"Scrypt\",\"Scrypt\",\"X11\",\"Scrypt\",\"Scrypt\",\"Scrypt\",\"PoS\",\"Scrypt\",\"X11\",\"Scrypt\",\"X11\",\"CryptoNight-V7\",\"Scrypt\",\"Scrypt\",\"Scrypt\",\"SHA-256\",\"SHA-256D\",\"Scrypt\",\"DPoS\",\"X13\",\"SHA-256\",\"Keccak\",\"Scrypt\",\"X13\",\"SHA-256D\",\"X11\",\"Scrypt\",\"X11\",\"SHA-256D\",\"Equihash\",\"Scrypt\",\"Scrypt\",\"Lyra2RE\"],\"Class\":{\"__ndarray__\":\"AAAAAAAAAAAAAAAAAAAAAAEAAAABAAAAAQAAAAAAAAABAAAAAQAAAAEAAAAAAAAAAQAAAAAAAAAAAAAAAAAAAAEAAAAAAAAAAQAAAAEAAAAAAAAAAAAAAAAAAAABAAAAAAAAAAEAAAAAAAAAAQAAAAEAAAABAAAAAQAAAAEAAAAAAAAAAQAAAAEAAAABAAAAAQAAAAAAAAABAAAAAAAAAAEAAAAAAAAAAQAAAAAAAAAAAAAAAQAAAAAAAAAAAAAAAAAAAAEAAAAAAAAAAQAAAAEAAAABAAAAAQAAAAEAAAABAAAAAQAAAAAAAAABAAAAAAAAAAAAAAABAAAAAAAAAAEAAAABAAAAAQAAAAEAAAABAAAAAAAAAAAAAAAAAAAAAQAAAAAAAAABAAAAAAAAAAEAAAAAAAAAAAAAAAEAAAABAAAAAQAAAAEAAAAAAAAAAAAAAAEAAAABAAAAAAAAAAEAAAAAAAAAAAAAAAAAAAABAAAAAQAAAAEAAAABAAAAAAAAAAAAAAAAAAAAAAAAAAEAAAABAAAAAQAAAAAAAAAAAAAAAQAAAAEAAAABAAAAAAAAAAAAAAABAAAAAAAAAAEAAAAAAAAAAAAAAAEAAAABAAAAAQAAAAEAAAAAAAAAAAAAAAAAAAABAAAAAQAAAAAAAAABAAAAAQAAAAAAAAAAAAAAAAAAAAAAAAAAAAAAAAAAAAEAAAABAAAAAAAAAAAAAAABAAAAAAAAAAEAAAAAAAAAAAAAAAEAAAAAAAAAAQAAAAAAAAABAAAAAAAAAAEAAAAAAAAAAAAAAAAAAAAAAAAAAQAAAAAAAAABAAAAAQAAAAAAAAABAAAAAQAAAAAAAAABAAAAAAAAAAAAAAABAAAAAQAAAAEAAAABAAAAAQAAAAEAAAABAAAAAQAAAAAAAAAAAAAAAQAAAAEAAAABAAAAAAAAAAEAAAABAAAAAAAAAAEAAAAAAAAAAAAAAAAAAAABAAAAAQAAAAAAAAABAAAAAAAAAAAAAAABAAAAAAAAAAAAAAAAAAAAAQAAAAEAAAAAAAAAAQAAAAEAAAAAAAAAAAAAAAEAAAABAAAAAAAAAAAAAAABAAAAAAAAAAAAAAAAAAAAAAAAAAEAAAABAAAAAAAAAAEAAAABAAAAAQAAAAEAAAABAAAAAAAAAAEAAAABAAAAAAAAAAEAAAAAAAAAAAAAAAAAAAAAAAAAAQAAAAEAAAAAAAAAAAAAAAAAAAAAAAAAAAAAAAEAAAAAAAAAAAAAAAAAAAAAAAAAAAAAAAAAAAAAAAAAAQAAAAAAAAAAAAAAAAAAAAAAAAAAAAAAAQAAAAAAAAABAAAAAAAAAAAAAAAAAAAAAQAAAAAAAAABAAAAAAAAAAAAAAABAAAAAAAAAAEAAAAAAAAAAAAAAAAAAAABAAAAAAAAAAAAAAAAAAAAAQAAAAAAAAABAAAAAQAAAAAAAAAAAAAAAQAAAAAAAAAAAAAAAAAAAAEAAAABAAAAAQAAAAAAAAAAAAAAAAAAAAEAAAABAAAAAQAAAAAAAAAAAAAAAAAAAAAAAAAAAAAAAAAAAAEAAAAAAAAAAAAAAAAAAAAAAAAAAAAAAAAAAAAAAAAAAAAAAAEAAAAAAAAAAAAAAAAAAAAAAAAAAAAAAAAAAAABAAAAAQAAAAAAAAABAAAAAAAAAAAAAAAAAAAAAAAAAAAAAAAAAAAAAQAAAAEAAAAAAAAAAQAAAAEAAAAAAAAAAAAAAAEAAAABAAAAAAAAAAEAAAABAAAAAAAAAAEAAAABAAAAAQAAAAEAAAAAAAAAAQAAAAAAAAAAAAAAAAAAAAEAAAAAAAAAAAAAAAAAAAABAAAAAAAAAAAAAAAAAAAAAAAAAAAAAAABAAAAAAAAAAAAAAABAAAAAQAAAAAAAAABAAAAAAAAAAAAAAAAAAAAAAAAAAAAAAABAAAAAAAAAAEAAAABAAAAAQAAAAEAAAABAAAAAAAAAAEAAAAAAAAAAAAAAAEAAAAAAAAAAQAAAAAAAAABAAAAAQAAAAAAAAABAAAAAAAAAAEAAAABAAAAAQAAAAAAAAABAAAAAAAAAAEAAAAAAAAAAQAAAAAAAAAAAAAAAQAAAAAAAAABAAAAAQAAAAEAAAABAAAAAQAAAAAAAAAAAAAAAQAAAAAAAAAAAAAAAAAAAAEAAAAAAAAAAAAAAAEAAAAAAAAAAQAAAAAAAAAAAAAAAAAAAAEAAAAAAAAAAAAAAAEAAAAAAAAAAAAAAAAAAAAAAAAAAAAAAAAAAAABAAAAAQAAAAEAAAABAAAAAQAAAAEAAAAAAAAAAAAAAAAAAAAAAAAAAAAAAAEAAAAAAAAAAQAAAAEAAAABAAAAAAAAAAAAAAABAAAAAQAAAAEAAAAAAAAAAAAAAAEAAAAAAAAAAAAAAAEAAAABAAAAAAAAAAEAAAAAAAAAAQAAAAEAAAAAAAAAAAAAAAEAAAABAAAAAQAAAAAAAAAAAAAAAAAAAAEAAAAAAAAAAQAAAAEAAAAAAAAAAQAAAAEAAAABAAAAAQAAAAEAAAABAAAAAgAAAAIAAAABAAAAAQAAAAEAAAABAAAAAQAAAAAAAAACAAAAAAAAAAAAAAAAAAAAAAAAAAEAAAABAAAAAQAAAAEAAAABAAAAAQAAAAAAAAABAAAAAAAAAAAAAAABAAAAAQAAAAAAAAABAAAAAAAAAAAAAAAAAAAAAAAAAAAAAAAAAAAAAAAAAAEAAAAAAAAAAAAAAAEAAAAAAAAAAAAAAAEAAAABAAAAAQAAAAEAAAAAAAAAAQAAAAEAAAABAAAAAQAAAAAAAAAAAAAAAQAAAAAAAAABAAAAAAAAAAAAAAAAAAAAAAAAAAAAAAABAAAAAQAAAAEAAAAAAAAAAAAAAAAAAAAAAAAAAAAAAAAAAAAAAAAAAQAAAAAAAAABAAAAAQAAAAAAAAABAAAAAQAAAAAAAAAAAAAAAAAAAAEAAAAAAAAAAQAAAAAAAAAAAAAAAAAAAAEAAAAAAAAAAAAAAAAAAAABAAAAAgAAAAAAAAABAAAAAAAAAAEAAAABAAAAAQAAAAEAAAABAAAAAQAAAAEAAAAAAAAAAQAAAAAAAAABAAAAAAAAAAEAAAABAAAAAQAAAAEAAAABAAAAAQAAAAEAAAAAAAAAAQAAAAAAAAABAAAAAAAAAAAAAAABAAAAAAAAAAAAAAABAAAAAAAAAAAAAAAAAAAAAQAAAAEAAAABAAAAAQAAAAAAAAAAAAAAAAAAAAAAAAABAAAAAQAAAAAAAAABAAAAAAAAAAAAAAABAAAAAAAAAAAAAAAAAAAAAAAAAAEAAAABAAAAAAAAAAAAAAAAAAAAAQAAAAAAAAABAAAAAQAAAAAAAAAAAAAAAQAAAAAAAAAAAAAAAAAAAAEAAAABAAAAAAAAAAAAAAAAAAAAAAAAAAAAAAABAAAAAAAAAAAAAAACAAAAAQAAAAAAAAABAAAAAQAAAAAAAAABAAAAAAAAAAIAAAAAAAAAAwAAAAAAAAAAAAAAAAAAAAEAAAABAAAAAAAAAA==\",\"dtype\":\"int32\",\"order\":\"little\",\"shape\":[667]},\"CoinName\":[\"42 Coin\",\"365Coin\",\"404Coin\",\"SixEleven\",\"808\",\"EliteCoin\",\"2015 coin\",\"Bitcoin\",\"Ethereum\",\"Litecoin\",\"Dash\",\"Monero\",\"Ethereum Classic\",\"ZCash\",\"Bitshares\",\"DigiByte\",\"BitcoinDark\",\"CraigsCoin\",\"Bitstake\",\"PayCoin\",\"ProsperCoin\",\"YbCoin\",\"DarkKush\",\"GiveCoin\",\"KoboCoin\",\"DarkToken\",\"CETUS Coin\",\"Spreadcoin\",\"Insanity Coin\",\"ACoin\",\"Aero Coin\",\"AlphaCoin\",\"Aegis\",\"AmericanCoin\",\"AlienCoin\",\"ApexCoin\",\"ArchCoin\",\"Argentum\",\"AriCoin\",\"Aurora Coin\",\"BetaCoin\",\"BeanCash\",\"BlueCoin\",\"BQCoin\",\"MyriadCoin\",\"MoonCoin\",\"ZetaCoin\",\"SexCoin\",\"Quatloo\",\"EnergyCoin\",\"QuarkCoin\",\"Riecoin\",\"Digitalcoin \",\"LimeCoinX\",\"BitBar\",\"CAIx\",\"BitMark\",\"CryptoBuk\",\"Cachecoin\",\"BottleCaps\",\"CashCoin\",\"Catcoin\",\"CryptoBullion\",\"CannaCoin\",\"CinderCoin\",\"CINNICOIN\",\"CopperLark\",\"CosmosCoin\",\"ChinaCoin\",\"ConcealCoin\",\"Community Coin\",\"CoolCoin\",\"CrackCoin\",\"CryptCoin\",\"CasinoCoin\",\"eMark\",\"Diamond\",\"Verge\",\"DarkCash\",\"DarkShibe\",\"DevCoin\",\"EarthCoin\",\"E-Gulden\",\"Elacoin\",\"Einsteinium\",\"Emerald\",\"Exclusive Coin\",\"ExeCoin\",\"EZCoin\",\"Flappy Coin\",\"Fuel2Coin\",\"FireflyCoin\",\"FIBRE\",\"FireRoosterCoin\",\"FlutterCoin\",\"Franko\",\"FractalCoin\",\"FeatherCoin\",\"GrandCoin\",\"GlobalCoin\",\"GoldCoin\",\"GalaxyCoin\",\"GlyphCoin\",\"GameLeagueCoin\",\"GuerillaCoin\",\"Halcyon\",\"HoboNickels\",\"HunterCoin\",\"HeavyCoin\",\"HyperStake\",\"IceBergCoin\",\"Infinite Coin\",\"IOCoin\",\"IXcoin\",\"JumBucks Coin\",\"JunkCoin\",\"JudgeCoin\",\"Klondike Coin\",\"KrugerCoin\",\"Lucky7Coin\",\"LuckyCoin\",\"LightSpeedCoin\",\"Litebar \",\"LitecoinDark\",\"LitecoinX\",\"LibrexCoin\",\"LycanCoin\",\"MaxCoin\",\"MegaCoin\",\"MediterraneanCoin\",\"MintCoin\",\"Cryptsy Mining Contract\",\"MinCoin\",\"MurrayCoin\",\"MazaCoin\",\"NanoToken\",\"Nautilus Coin\",\"NavCoin\",\"Nybble\",\"Nimbus Coin\",\"NoirBits\",\"NobleCoin\",\"NoirShares\",\"Namecoin\",\"NyanCoin\",\"OpalCoin\",\"Orbitcoin\",\"PhilosophersStone\",\"PotCoin\",\"PseudoCash\",\"PhoenixCoin\",\"PayCoin\",\"Reddcoin\",\"RipOffCoin\",\"RonPaulCoin\",\"RotoCoin\",\"RoyalCoin\",\"RazorCoin\",\"Saturn2Coin\",\"StableCoin\",\"SaffronCoin\",\"ShadeCoin\",\"ShieldCoin\",\"SilkCoin\",\"SterlingCoin\",\"SmartCoin\",\"SoleCoin\",\"SpainCoin\",\"Spots\",\"SecureCoin\",\"SSVCoin\",\"SuperCoin\",\"SyncCoin\",\"SysCoin\",\"TagCoin\",\"TakCoin\",\"TeslaCoin\",\"TigerCoin\",\"TittieCoin\",\"TorCoin\",\"TerraCoin\",\"TitCoin\",\"Umbrella\",\"UnbreakableCoin\",\"Unobtanium\",\"UroCoin\",\"UnitaryStatus Dollar\",\"UltraCoin\",\"Utility Coin\",\"VidioCoin\",\"ViaCoin\",\"VootCoin\",\"VeriCoin\",\"Vertcoin\",\"WorldCoin\",\"SapienceCoin\",\"SocialXbotCoin\",\"X11 Coin\",\"Crypti\",\"JouleCoin\",\"LibertyCoin\",\"StealthCoin\",\"XXXCoin\",\"YAcCoin\",\"ZCC Coin\",\"ZedCoins\",\"ByteCoin\",\"Elektron\",\"DigitalNote \",\"XauCoin\",\"BurstCoin\",\"StorjCoin\",\"BigCoin\",\"007 coin\",\"MonaCoin\",\"TekCoin\",\"Neutron\",\"Sling Coin\",\"Stability Shares\",\"KryptCoin\",\"FairCoin\",\"Gulden\",\"RubyCoin\",\"PesetaCoin\",\"Kore\",\"Wild Beast Coin\",\"Sonic Screw Driver Coin\",\"Dnotes\",\"Flo\",\"MaieutiCoin\",\"8BIT Coin\",\"Sativa Coin\",\"AeroMe\",\"NakomotoDark\",\"GhostCoin\",\"ArtByte\",\"MasterTraderCoin\",\"BitCredit\",\"Pebble Coin\",\"Dirac Coin\",\"Folding Coin\",\"Social Media Coin\",\"Ucoin\",\"Unitus\",\"CypherPunkCoin\",\"QuBuck Coin\",\"MaryJane Coin\",\"OmniCron\",\"GigCoin\",\"CyberCoin\",\"Vtorrent\",\"MetalCoin\",\"GreenCoin\",\"XG Sports\",\"ChildCoin\",\"Instamine Nuggets\",\"ROS Coin\",\"Unattanium\",\"GAIA Platform\",\"Cryptonite\",\"Gridmaster\",\"MemoryCoin\",\"ConSpiracy Coin \",\"MasterCoin\",\"EggCoin\",\"Ribbit Rewards\",\"ICASH\",\"Node\",\"SoonCoin\",\"BitMiles\",\"Event Token\",\"1Credit\",\"ViorCoin\",\"VirtualMining Coin\",\"Equilibrium Coin\",\"IslaCoin\",\"Quicksilver coin\",\"DeOxyRibose\",\"SkullBuzz\",\"CryptoFocus\",\"Nexus\",\"EagsCoin\",\"MultiWallet Coin\",\"MarsCoin \",\"Megastake\",\"Singular\",\"SupplyShock\",\"DarkBit\",\"Crypto\",\"FutCoin\",\"TamaGucci\",\"MorpheusCoin\",\"Forever Coin\",\"BananaBits\",\"Anarchists Prime\",\"Droidz\",\"BowsCoin\",\"DarkTron\",\"CryptoCircuits\",\"Empyrean\",\"Squall Coin\",\"Charity Coin\",\"Milllionaire Coin\",\"Quartz\",\"SpinCoin\",\"DubCoin\",\"Graviton\",\"Hedgecoin\",\"Song Coin\",\"BitSeeds\",\"Chip\",\"SpecCoin\",\"Sprouts\",\"BitZeny\",\"Diggits\",\"Expanse\",\"MapCoin\",\"Paycon\",\"Siacoin\",\"LyraBar\",\"Emercoin\",\"BlitzCoin\",\"EverGreenCoin\",\"MindCoin\",\"I0coin\",\"Decred\",\"DogeCoinDark\",\"Revolution VR\",\"HOdlcoin\",\"EDRCoin\",\"Hitcoin\",\"Gamecredits\",\"Dashcoin\",\"DubaiCoin\",\"BiosCrypto\",\"CarpeDiemCoin\",\"RedCrowCoin\",\"PWR Coin\",\"TrumpCoin\",\"BillaryCoin\",\"EthereumScrypt\",\"Phalanx\",\"SoulCoin\",\"SunShotCoin\",\"GPU Coin\",\"Think And Get Rich Coin\",\"HempCoin\",\"Adzcoin\",\"MayaCoin\",\"VirtaCoin\",\"SoilCoin\",\"YoCoin\",\"Universal Currency\",\"AEON\",\"SibCoin\",\"EuropeCoin\",\"AdvancedInternetBlock\",\"DragonSphere\",\"Anti Bitcoin\",\"ColossusCoinXT\",\"Mineum\",\"ZeitCoin\",\"Cryptographic Anomaly\",\"SwingCoin\",\"SafeExchangeCoin\",\"Nebuchadnezzar\",\"AcesCoin\",\"Francs\",\"Number7\",\"Cygnus\",\"LGBTQoin\",\"Uther\",\"MediumProject\",\"KATZcoin\",\"Supreme\",\"Flash\",\"BolivarCoin\",\"CludCoin\",\"High Voltage Coin\",\"GIZMOcoin\",\"Fuzzballs\",\"SecretCoin\",\"Ratecoin\",\"XanaxCoin\",\"Digital Bullion Gold\",\"WMCoin\",\"GothicCoin\",\"ShrekCoin\",\"Revenu\",\"PabyosiCoin\",\"Obscurebay\",\"ExitCoin\",\"EducoinV\",\"Clinton\",\"Clockcoin\",\"VIP Tokens\",\"NXEcoin\",\"ZoomCoin\",\"YobitVirtualCoin\",\"OrlyCoin\",\"SharkCoin\",\"EvilCoin\",\"CobraCoin\",\"BitSend\",\"Destiny\",\"16BitCoin\",\"CometCoin\",\"ChessCoin\",\"ReeCoin\",\"Marvelous\",\"Omni\",\"Let it Ride\",\"ScryptCoin\",\"Specie\",\"CryptoJacks\",\"PutinCoin\",\"Kraken\",\"iBankCoin\",\"BitMoon\",\"Frankywillcoin\",\"Psilocybin\",\"RustCoin\",\"NewZealandCoin\",\"PokeChain\",\"MudraCoin\",\"PizzaCoin\",\"Lutetium Coin\",\"ExaByte (EXB)\",\"Komodo\",\"GoldBlocks\",\"EDC Blockchain\",\"WayCoin\",\"MollyCoin\",\"Save The Ocean\",\"CarterCoin\",\"TotCoin\",\"MedicCoin\",\"FuturePoints\",\"Zeta2Coin\",\"CovenCoin\",\"Karbo\",\"Tellurion\",\"BitTokens\",\"ZayedCoin\",\"MustangCoin\",\"Goonies\",\"ZoneCoin\",\"Circuits of Value\",\"DarkGold\",\"TodayCoin\",\"RootCoin\",\"DopeCoin\",\"FCoin\",\"Pioneershares\",\"PROUD Money\",\"Samsara Coin\",\"Ubiqoin\",\"Armory Coin\",\"RingCoin\",\"Lazarus\",\"BitCurrency\",\"Dark Moon\",\"DollarCoin\",\"Swiscoin\",\"BitBronze\",\"Shilling\",\"BuzzCoin\",\"Mind Gene\",\"PSIcoin\",\"Opair\",\"PesoBit\",\"Fitcoin\",\"PantherCoin\",\"Unfed Coin\",\"SportsCoin\",\"NineElevenTruthCoin\",\"EGOcoin\",\"GBR Coin\",\"Halloween Coin\",\"BaseballCardCoin\",\"BighanCoin\",\"Craftcoin\",\"OlympCoin\",\"DelightPay\",\"JobsCoin\",\"DogeGoreCoin\",\"Resumeo Shares\",\"FujiCoin\",\"Vaporcoin\",\"ZCoin\",\"Premium\",\"CaliphCoin\",\"LeaCoin\",\"Californium\",\"CoffeeCoin\",\"BlackShadowCoin\",\"JiffyCoin\",\"Moneta\",\"Rublebit\",\"HappyCreatorCoin \",\"BrainCoin\",\"RoyalCoin\",\"BigLifeCoin\",\"Zurcoin\",\"PeaceCoin\",\"Goldmaxcoin\",\"32Bitcoin\",\"GanjaCoin V2\",\"TeamUP\",\"ScryptToken\",\"LanaCoin\",\"Elementrem\",\"GuccioneCoin\",\"EqualCoin\",\"2BACCO Coin\",\"DarkKnightCoin\",\"Community Coin\",\"ChoofCoin\",\"CashOut\",\"ZClassic\",\"RoyalCoin 2.0\",\"Pabyosi Coin\",\"NetBit\",\"WineCoin\",\"ARK\",\"ZCashDarkCoin\",\"WashingtonCoin\",\"LuckyBlocks\",\"InsaneCoin\",\"LuckChain\",\"FameCoin\",\"LiviaCoin\",\"EtherDoge\",\"KiloCoin\",\"Hush\",\"BitLuckCoin\",\"Dream8Coin\",\"Free Game Zone\",\"BosonCoin\",\"ArtexCoin\",\"PlatiniumCoin\",\"BeardDollars\",\"BipCoin\",\"XenCoin\",\"EmberCoin\",\"Coin to the Future\",\"DollarOnline\",\"XenixCoin\",\"iWallet\",\"FreeCoin\",\"NPCcoin\",\"PLNCoin\",\"Digigems\",\"Icobid\",\"AquariusCoin\",\"Kurrent\",\"Creatio\",\"Eternity\",\"Old Dogs New Tricks\",\"Eurocoin\",\"CoolDarkCoin\",\"BitcoinFast\",\"SeedShares\",\"Stakenet\",\"BitConnect Coin\",\"ShortyCoin\",\"Procom\",\"CoralPay\",\"MoneyCoin\",\"Horse Power\",\"HazMatCoin\",\"CryptoSpots\",\"Iconic\",\"NewInvestCoin\",\"AvonCoin\",\"Enigma\",\"Cannabis Industry Coin\",\"LookCoin\",\"MIScoin\",\"WorldPay\",\"ConquestCoin\",\"TheChiefCoin\",\"Russiacoin\",\"PandaCoin\",\"Canada eCoin\",\"OptionCoin\",\"Avatar Coin\",\"Limited Coin\",\"GameUnits\",\"GAKHcoin\",\"S88 Coin\",\"Allsafe\",\"LiteCreed\",\"ProCoin\",\"Astral\",\"GiftNet\",\"PureVidz\",\"Incrementum\",\"PentaCoin\",\"AcidCoin\",\"ReturnCoin\",\"TwisterCoin\",\"PayPeer\",\"LeninCoin\",\"MrsaCoin\",\"OsmiumCoin\",\"Bikercoins\",\"CryptoPennies\",\"NeptuneClassic\",\"HexxCoin\",\"Ghost Coin\",\"MachineCoin\",\"SelenCoin\",\"Noocoin\",\"23 Skidoo\",\"GoldenBird\",\"YamahaCoin\",\"JokerCoin\",\"GravityBit\",\"TeCoin\",\"BombCoin\",\"Ride My Car\",\"Klingon Empire Darsek\",\"Internet of People\",\"Elysium\",\"KushCoin\",\"Eryllium\",\"Opes\",\"Ratio\",\"SmurfCoin\",\"TechCoin\",\"CircuitCoin\",\"LePenCoin\",\"MarxCoin\",\"HazeCoin\",\"Printerium\",\"PacCoin\",\"Impeach\",\"ErrorCoin\",\"TrueInvestmentCoin\",\"NukeCoin\",\"Solarflarecoin\",\"JaneCoin\",\"ParanoiaCoin\",\"MasterMint\",\"Citadel\",\"Zilbercoin\",\"FirstCoin\",\"OroCoin\",\"Alexandrite\",\"TrashBurn\",\"MasterCar\",\"TechShares\",\"AcesCoin\",\"EagleCoin\",\"CreativeChain\",\"BeaverCoin\",\"FindCoin\",\"MeLite\",\"StalinCoin\",\"TattooCoin\",\"VaultCoin\",\"BioBar\",\"Zero\",\"OpenChat\",\"Canada eCoin\",\"Zoin\"],\"IsTrading\":[true,true,true,true,true,true,true,true,true,true,true,true,true,true,true,true,true,true,true,true,true,true,true,true,true,true,true,true,true,true,true,true,true,true,true,true,true,true,true,true,true,true,true,true,true,true,true,true,true,true,true,true,true,true,true,true,true,true,true,true,true,true,true,true,true,true,true,true,true,true,true,true,true,true,true,true,true,true,true,true,true,true,true,true,true,true,true,true,true,true,true,true,true,true,true,true,true,true,true,true,true,true,true,true,true,true,true,true,true,true,true,true,true,true,true,true,true,true,true,true,true,true,true,true,true,true,true,true,true,true,true,true,true,true,true,true,true,true,true,true,true,true,true,true,true,true,true,true,true,true,true,true,true,true,true,true,true,true,true,true,true,true,true,true,true,true,true,true,true,true,true,true,true,true,true,true,true,true,true,true,true,true,true,true,true,true,true,true,true,true,true,true,true,true,true,true,true,true,true,true,true,true,true,true,true,true,true,true,true,true,true,true,true,true,true,true,true,true,true,true,true,true,true,true,true,true,true,true,true,true,true,true,true,true,true,true,true,true,true,true,true,true,true,true,true,true,true,true,true,true,true,true,true,true,true,true,true,true,true,true,true,true,true,true,true,true,true,true,true,true,true,true,true,true,true,true,true,true,true,true,true,true,true,true,true,true,true,true,true,true,true,true,true,true,true,true,true,true,true,true,true,true,true,true,true,true,true,true,true,true,true,true,true,true,true,true,true,true,true,true,true,true,true,true,true,true,true,true,true,true,true,true,true,true,true,true,true,true,true,true,true,true,true,true,true,true,true,true,true,true,true,true,true,true,true,true,true,true,true,true,true,true,true,true,true,true,true,true,true,true,true,true,true,true,true,true,true,true,true,true,true,true,true,true,true,true,true,true,true,true,true,true,true,true,true,true,true,true,true,true,true,true,true,true,true,true,true,true,true,true,true,true,true,true,true,true,true,true,true,true,true,true,true,true,true,true,true,true,true,true,true,true,true,true,true,true,true,true,true,true,true,true,true,true,true,true,true,true,true,true,true,true,true,true,true,true,true,true,true,true,true,true,true,true,true,true,true,true,true,true,true,true,true,true,true,true,true,true,true,true,true,true,true,true,true,true,true,true,true,true,true,true,true,true,true,true,true,true,true,true,true,true,true,true,true,true,true,true,true,true,true,true,true,true,true,true,true,true,true,true,true,true,true,true,true,true,true,true,true,true,true,true,true,true,true,true,true,true,true,true,true,true,true,true,true,true,true,true,true,true,true,true,true,true,true,true,true,true,true,true,true,true,true,true,true,true,true,true,true,true,true,true,true,true,true,true,true,true,true,true,true,true,true,true,true,true,true,true,true,true,true,true,true,true,true,true,true,true,true,true,true,true,true,true,true,true,true,true,true,true,true,true,true,true,true,true,true,true,true,true,true,true,true,true,true,true,true,true,true,true,true,true,true,true,true,true,true,true,true,true,true,true,true,true,true,true,true,true,true,true,true,true,true,true,true,true,true,true,true,true,true,true,true,true,true,true,true],\"PC1\":{\"__ndarray__\":\"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\",\"dtype\":\"float64\",\"order\":\"little\",\"shape\":[667]},\"PC2\":{\"__ndarray__\":\"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\",\"dtype\":\"float64\",\"order\":\"little\",\"shape\":[667]},\"PC3\":{\"__ndarray__\":\"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\",\"dtype\":\"float64\",\"order\":\"little\",\"shape\":[667]},\"ProofType\":[\"PoW/PoS\",\"PoW/PoS\",\"PoW/PoS\",\"PoW\",\"PoW/PoS\",\"PoW/PoS\",\"PoW/PoS\",\"PoW\",\"PoW\",\"PoW\",\"PoW/PoS\",\"PoW\",\"PoW\",\"PoW\",\"PoS\",\"PoW\",\"PoW/PoS\",\"PoS\",\"PoW/PoS\",\"PoS\",\"PoW\",\"PoS\",\"PoW/PoS\",\"PoW\",\"PoW/PoS\",\"PoW/PoS\",\"PoW/PoS\",\"PoW\",\"PoW\",\"PoW\",\"PoS\",\"PoW\",\"PoS\",\"PoW\",\"PoW\",\"PoW/PoS\",\"PoS\",\"PoW\",\"PoW\",\"PoW/PoS\",\"PoW\",\"PoW/PoS\",\"PoW/PoS\",\"PoW\",\"PoW\",\"PoW\",\"PoW\",\"PoW\",\"PoW\",\"PoW/PoS\",\"PoW\",\"PoW\",\"PoW\",\"PoW\",\"PoW/PoS\",\"PoS\",\"PoW\",\"PoW/PoS\",\"PoW\",\"PoW/PoS\",\"PoW/PoS\",\"PoW\",\"PoW/PoS\",\"PoW\",\"PoW/PoS\",\"PoW\",\"PoW\",\"PoW/PoS\",\"PoW\",\"PoW\",\"PoW/PoS\",\"PoS\",\"PoW\",\"PoW\",\"PoC\",\"PoW/PoS\",\"PoW/PoS\",\"PoW\",\"PoW/PoS\",\"PoW\",\"PoW\",\"PoW\",\"PoW\",\"PoW\",\"PoW\",\"PoW\",\"PoS\",\"PoW\",\"PoW\",\"PoW\",\"PoS\",\"PoW\",\"PoW/PoS\",\"PoW\",\"PoS/PoW/PoT\",\"PoW\",\"PoW\",\"PoW\",\"PoW\",\"PoW\",\"PoW\",\"PoW/PoS\",\"PoW/PoS\",\"PoW/PoS\",\"PoW/PoS\",\"PoW/PoS\",\"PoW/PoS\",\"PoW\",\"PoW\",\"PoS\",\"PoW/PoS\",\"PoW\",\"PoW/PoS\",\"PoW\",\"PoW/PoS\",\"PoW\",\"PoW/PoS\",\"PoW\",\"PoW\",\"PoW/PoS\",\"PoW\",\"PoW/PoS\",\"PoW\",\"PoW\",\"PoW\",\"PoW/PoS\",\"PoW\",\"PoW/PoS\",\"PoW\",\"PoW\",\"PoS\",\"PoW\",\"PoW\",\"PoW\",\"PoW/PoS\",\"PoW\",\"PoS\",\"PoW/PoS\",\"PoW\",\"PoW/PoS\",\"PoW\",\"PoW\",\"PoW/PoS\",\"PoW\",\"PoW\",\"PoW/PoS\",\"PoW/PoS\",\"PoW\",\"PoW/PoS\",\"PoW/PoS\",\"PoW/PoS\",\"PoW/PoS\",\"PoW/PoS\",\"PoW\",\"PoW\",\"PoW/PoS\",\"PoW\",\"PoW\",\"PoW\",\"PoW\",\"PoW\",\"PoW/PoS\",\"PoW/PoS\",\"PoW/PoS\",\"PoS\",\"PoW\",\"PoW/PoS\",\"PoW\",\"PoW\",\"PoW\",\"PoW\",\"PoS\",\"PoW/PoS\",\"PoW\",\"PoW/PoS\",\"PoW/PoS\",\"PoS\",\"PoW\",\"PoS\",\"PoW/PoS\",\"PoW\",\"PoW\",\"PoW\",\"PoW\",\"PoW\",\"PoW\",\"PoW/PoS\",\"PoW/PoS\",\"PoW/PoS\",\"PoW/PoS\",\"PoW\",\"PoW\",\"PoST\",\"PoW\",\"PoW\",\"PoB/PoS\",\"PoW/PoS\",\"PoW/PoS\",\"PoS\",\"PoW\",\"PoW/PoS\",\"PoW/PoS\",\"PoW/PoS\",\"PoW\",\"PoW/PoS\",\"PoW\",\"PoW\",\"PoW/PoS\",\"PoW\",\"PoW\",\"PoC\",\"PoS\",\"PoW\",\"PoW\",\"PoW\",\"PoW/PoS\",\"PoW/PoS\",\"PoW\",\"PoW/PoS\",\"PoS\",\"PoW/PoS\",\"PoW\",\"PoS\",\"PoW\",\"PoW/PoS\",\"PoW\",\"PoW/PoS\",\"PoS\",\"PoW\",\"PoS\",\"PoW/PoS\",\"PoW/PoS\",\"PoW/PoS\",\"PoW/PoS\",\"PoW/PoS\",\"PoW\",\"PoW/PoS\",\"PoW\",\"PoW\",\"PoW\",\"PoW\",\"PoW/PoS\",\"PoS\",\"PoW\",\"PoW\",\"PoS/PoB\",\"PoW/PoS\",\"PoW\",\"PoW\",\"PoW/PoS\",\"PoW/PoS\",\"PoW\",\"PoW\",\"PoW/PoS\",\"PoW\",\"PoW\",\"PoW/PoS\",\"PoW\",\"PoS\",\"PoW\",\"PoW\",\"PoW\",\"PoW\",\"PoW\",\"PoW/PoS\",\"PoW\",\"PoW\",\"PoA\",\"PoW\",\"PoW\",\"PoW/PoS\",\"PoW\",\"PoW/PoS\",\"PoW\",\"PoW/PoS\",\"PoW/PoS\",\"PoW\",\"PoS\",\"PoS\",\"PoW/PoS\",\"PoW/nPoS\",\"PoW/PoS\",\"PoW/PoS\",\"PoW\",\"PoW/PoS\",\"PoW/PoS\",\"PoW/PoS\",\"PoW/PoS\",\"PoW\",\"PoW/PoS\",\"PoW/PoS/PoC\",\"PoW\",\"PoS\",\"PoW/PoS\",\"PoW\",\"PoW/PoS\",\"PoW\",\"PoW/PoS\",\"PoS\",\"PoW\",\"PoS/PoW\",\"PoW\",\"PoW/PoS\",\"PoW/PoS\",\"PoW/PoS\",\"PoW/PoS\",\"PoW/PoS\",\"PoW\",\"PoW\",\"PoW/PoS\",\"PoW\",\"PoW\",\"PoW/PoS\",\"PoW\",\"PoS\",\"PoW\",\"PoS\",\"PoW/PoS\",\"PoW\",\"PoW/PoS\",\"PoW/PoS\",\"PoS\",\"PoW/PoS\",\"PoW\",\"PoW\",\"PoW/PoS\",\"PoW\",\"PoW\",\"PoW\",\"PoW/PoS\",\"PoW/PoS\",\"PoW\",\"PoW\",\"PoW/PoS\",\"PoW/PoS\",\"PoW\",\"PoW/PoS\",\"PoW/PoS\",\"PoS\",\"PoW/PoS\",\"PoW/PoS\",\"PoW\",\"PoW/PoS\",\"PoW\",\"PoS\",\"PoW/PoS\",\"PoW\",\"PoW\",\"PoW/PoS\",\"PoW\",\"PoW\",\"PoW\",\"PoW/PoS\",\"PoW\",\"PoW\",\"PoW/PoS\",\"PoW\",\"PoW/PoS\",\"PoW\",\"PoS\",\"PoW/PoS\",\"PoS\",\"PoW\",\"PoW/PoS\",\"PoC\",\"PoS\",\"PoS\",\"PoW\",\"PoW\",\"PoW/PoS\",\"PoW\",\"PoW\",\"PoW\",\"PoW/PoS\",\"PoW/PoS\",\"PoW/PoS\",\"PoW\",\"PoW\",\"PoW/PoS\",\"PoW/PoS\",\"PoW\",\"PoW/PoS\",\"PoW/PoS\",\"PoW\",\"PoS\",\"PoS\",\"PoW\",\"PoW/PoS\",\"PoW/PoS\",\"PoW/PoS\",\"PoW/PoS\",\"PoW/PoS\",\"PoW/PoS\",\"PoW\",\"PoW/PoS\",\"PoW/PoS\",\"PoW/PoS\",\"PoW\",\"PoS\",\"PoW/PoS\",\"PoW\",\"PoW/PoS\",\"PoW/PoS\",\"PoW/PoS\",\"PoW/PoS\",\"PoW/PoS\",\"PoW\",\"PoW/PoS\",\"PoW/PoS\",\"PoW\",\"PoW\",\"PoS\",\"PoW\",\"PoS\",\"PoW/PoS\",\"PoW/PoS\",\"PoW/PoS\",\"PoW/PoS\",\"PoS\",\"PoW/PoS\",\"PoW/PoS\",\"PoW/PoS\",\"PoW\",\"PoS\",\"PoS\",\"PoW\",\"PoS\",\"PoW\",\"dPoW/PoW\",\"PoW/PoS\",\"DPoS/LPoS\",\"PoS\",\"PoW/PoS\",\"PoW/PoS\",\"PoW/PoS\",\"PoW/PoS\",\"PoW/PoS\",\"PoS\",\"PoW/PoS\",\"PoW/PoS\",\"PoW\",\"PoW/PoS\",\"PoW/PoS\",\"PoW\",\"PoW/PoS\",\"PoW\",\"PoW/PoS\",\"PoW\",\"PoW/PoS\",\"PoW\",\"PoW/PoS\",\"PoW\",\"PoW/PoS\",\"PoW/PoS\",\"PoW/PoS\",\"PoW/PoS\",\"PoS\",\"PoW/PoS\",\"PoW/PoS\",\"DPoS\",\"PoS\",\"PoW/PoS\",\"PoW\",\"PoW/PoW\",\"PoW\",\"PoW\",\"PoW/PoS\",\"PoW/PoS\",\"PoS\",\"PoS\",\"PoW/PoS\",\"PoW/PoS\",\"PoW/PoS\",\"PoW\",\"PoS\",\"PoW/PoS\",\"PoS\",\"PoW\",\"PoW/PoS\",\"PoW/PoS\",\"PoW\",\"PoW/PoS\",\"PoW/PoS\",\"PoW/PoS\",\"PoW/PoS\",\"PoW/PoS\",\"PoS\",\"PoW\",\"PoW/PoS\",\"PoW\",\"PoW\",\"PoW\",\"PoW\",\"PoW\",\"PoS\",\"PoW/PoS\",\"PoW\",\"PoW\",\"PoW\",\"PoW\",\"PoW/PoS\",\"PoS\",\"PoW\",\"PoW\",\"PoW\",\"PoW\",\"PoW/PoS\",\"PoW/PoS\",\"PoS\",\"PoW/PoS\",\"PoW/PoS\",\"PoW\",\"PoW\",\"PoW/PoS\",\"PoW/PoS\",\"PoW/PoS\",\"PoW\",\"PoW/PoS\",\"PoW\",\"PoW\",\"PoS\",\"PoW/PoS\",\"PoW/PoS\",\"PoW/PoS\",\"DPoS\",\"PoW\",\"PoW/PoS\",\"PoS\",\"PoW/PoS\",\"PoW/PoS\",\"PoW/PoS\",\"PoW/PoS\",\"PoW/PoS\",\"PoW\",\"PoW\",\"PoS\",\"PoW\",\"PoW\",\"PoW/PoS\",\"PoW\",\"PoW\",\"PoW/PoS\",\"PoW\",\"PoW\",\"PoW/PoS\",\"PoS\",\"PoW/PoS\",\"PoW/PoS\",\"PoW/PoS\",\"PoS\",\"PoW/PoS\",\"PoW/PoS\",\"PoW\",\"PoW/PoS\",\"PoW/PoS\",\"PoW\",\"PoS\",\"PoW/PoS\",\"PoW/PoS\",\"PoW/PoS\",\"PoW/PoS\",\"PoW/PoS\",\"PoW/PoS\",\"TPoS\",\"PoW/PoS\",\"PoS\",\"PoW\",\"PoS\",\"PoW/PoS\",\"PoW\",\"PoW/PoS\",\"DPoS\",\"PoS\",\"PoS\",\"PoS\",\"PoW/PoS\",\"PoW\",\"PoW/PoS\",\"PoW/PoS\",\"PoW/PoS\",\"PoW/PoS\",\"PoW/PoS\",\"PoW/PoS\",\"PoS\",\"PoW\",\"PoS\",\"PoS\",\"PoS\",\"PoW/PoS\",\"PoW/PoS\",\"PoW/PoS\",\"PoS\",\"PoW/PoS\",\"PoW/PoS\",\"PoW/PoS\",\"PoW\",\"PoS\",\"PoS\",\"PoW/PoS\",\"PoW\",\"PoS\",\"PoW/PoS\",\"PoW/PoS\",\"PoW\",\"PoW/PoS\",\"PoW\",\"PoW\",\"PoS\",\"PoW/PoS\",\"PoW\",\"PoW/PoS\",\"PoW\",\"PoS\",\"PoS\",\"PoW\",\"PoW/PoS\",\"PoW\",\"PoW/PoS\",\"PoW/PoS\",\"PoW\",\"PoW/PoS\",\"PoS\",\"PoW/PoS\",\"PoW/PoS\",\"PoW\",\"PoW/PoS\",\"PoW/PoS\",\"PoW\",\"PoS\",\"PoW/PoS\",\"PoW/PoS\",\"PoW/PoS\",\"PoS\",\"PoW\",\"PoW\",\"PoW/PoS\",\"PoW\",\"PoW/PoS\",\"PoW\",\"PoW/PoS\",\"PoS\",\"PoW\",\"PoW/PoS\",\"PoW\",\"PoS\",\"PoW\",\"PoS\",\"PoW/PoS \",\"PoW\",\"PoW/PoS\",\"PoS\",\"PoW/PoS\",\"DPoS\",\"PoS\",\"PoW\",\"PoW\",\"PoW\",\"PoS\",\"PoW/PoS\",\"PoW/PoS\",\"PoW/PoS\",\"PoW\",\"PoW/PoS\",\"PoW\",\"PoW/PoS\",\"PoW\",\"PoW\"],\"TotalCoinSupply\":{\"__ndarray__\":\"AAAAAAAARUAAAADg5iLhQQAAAACttb9BAAAAAHClIkEAAAAAAAAAAADAk31WSVJCAAAAAAAAAAAAAAAA9AZ0QQAAAAAAAAAAAAAAAPQGlEEAAAAAGPt0QQAAAAAAAAAAAAAAALEIqUEAAAAA9AZ0QQAAwBCL0+pBAAAASMqOE0IAAAAAGPt0QQAAAAA4nHxBAAAAACDWM0EAAAAAhNdnQQAAAAD0BnRBAAAAAITXp0EAAAAAYONGQQAAAABlzb1BAAAAgJPctEEAAAAAAAAAAAAAAAAAAAAAAAAAANASc0EAAAAAhNeHQQAAAAAAajhBAAAAAPCzWkEAAADgPg6pQQAAAAAAAAAAAAAAAPQGpEEAAAAAhNenQQAAAABg41ZBAAAA4FdJb0EAAAAAgISOQQAAADg9O7NBAAAAAMn7b0EAAAAAgIR+QQAAAOh2SCdCAAAAAAAAAAAAAAAAGPuUQQAAAABlzd1BAAAAwAtaVkIAAAAIwD2kQQAAAABlza1BAAAAAITXl0EAAAAAAAAAAAAAAIDXca1BAAAAAPQGlEEAAACAo/eGQQAAAAD0BnRBAAAAAICEHkEAAAAAAAAAAAAAAABmTXpBAAAAAITXl0EAAAAAZc3dQQAAAAA8noZBAAAAADyehkEAAAAA9AZ0QQAAAACAhC5BAAAAAAQQaUEAAAAAAi6bQQAAAAA4nGxBAAAAAKDweUEAAAAAhNeXQQAAAKAwkbtBAAAAAGQ2YEEAAAAAZc3NQQAAAACE15dBAAAAAGDjVkEAAAAAiCpxQQAAACBfoCJCAAAAAAAAAAAAAAAAWLVQQQAAAAYK1g5CAAAAAKBhTEEAAAAAOjA/QQAAAEjKjhNCAAAAOE0lCUIAAAAA9AZ0QQAAAACj4ZFBAAAASnjesUEAAAAAgIR+QQAAAAAAAAAAAAAAAPQGdEEAAAAA9AaUQQAAAOh2SDdCAAAAAITXl0EAAAALaF9kQgAAAAAACyNBAAAAANXaQ0EAAAAAAAAAAAAAAKA8bmVBAAAAAICELkEAAAAA9Aa0QQAAgBMyK9VBAAAAAHawkEEAAAAQhzmRQQAAAABACsBBAAAAAPCzWkEAAAAAZc29QQAAAAC+mHJBAAAAAAAAAAAAAAAAOJycQQAAAAD0BoRBAAAAAICEnkEAAAAAAAAAAAAAAAB2sGBBAAAASi4YNUIAAAAAGPt0QQAAAAD0BnRBAAAAAKkfSUEAAAAAw4KZQQAAAABwmXRBAAAAANASc0EAAAAAAKSvQQAAAADSypdBAAAAANASc0EAAAAAQHcrQQAAAABwmTRBAAAAABSNk0EAAAAA9AaUQQAAAACAhC5BAAAAGLBw8kEAAAAAhNeXQQAAAAD0BoRBAAAAAITXp0EAAAAAAAAAAAAAAAAAAAAAAAAAANASY0EAAAAAFKiLQQAAAABCBuJBAAAAANASk0EAAAAAZNxuQQAAAAAAAAAAAAAAALEIqUEAAAAAhNd3QQAAAACE14dBAAAAsI7wC0IAAAAA0BJTQQAAAAD0BnRBAAAAQDYWtEEAAAAAAAAAAAAAAABIw0xBAAAAALj1YEEAAAAAsQi5QQAAAADgyEBBAAAAAHJdl0EAAAAAOJx8QQAAAAAAAAAAAAAAAGDjZkEAAAAA9AZ0QQAAAAAAlBFBAAAAAHawoEEAAAAAgIROQQAAALCO8AtCAAAAAGXNrUEAAAAA53aaQQAAAACAhD5BAAAAAICELkEAAAAAgIQuQQAAAAAAAAAAAAAAAABqiEEAAAAAgE8yQQAAAACE14dBAAAAAITXl0EAAAAA9AZ0QQAAAAD0BnRBAAAAAAAAAAAAAAAAAECPQAAAAADndspBAAAAAICELkEAAACUCv/7QQAAAACE15dBAAAAAMRqhkEAAADg5iLhQQAAAADQEmNBAAAAAPQGhEEAAAAAgIQuQQAAAAD0BkRBAAAAANASk0EAAAAAgIQOQQAAAAAAAAAAAAAAAITX10EAAAAAhNeXQQAAAAAAAAAAAAAAAAAAAAAAAAAAPO91QQAAAAAAAAAAAAAAAAAAAAAAAAAA9AaUQQAAAAAApK9BAAAAAAAAAAAAAAAAgIQ+QQAAAAAY+1RBAAAAAAAAAAAAAAAAKnWFQQAAAACkeG9BAAAAAAAAAAAAAAAAhNeHQQAAAABlzd1BAAAAAGXNzUEAAAAAOJycQQCAL+KOeUVCAAAAAGDjRkEAAAAgX6ACQgAAAACQBUBBAAAA0JsV4EEAAAAAZc29QQAAAFIAmqNBAAAAANA0LkEAAAAABBCZQQAAAACE15dBAAAAAGQ2kEEAAAAAgIQuQQAAAAA4nGxBAAAAAGQ2cEEAAAAAAAAAAAAAAACxCNlBAAAAAAAAAAAAAACgstWjQQAAAABg42ZBAAAAANAMREEAAAAAAAAAAAAAAABlzb1BAAAAANASo0EAAAAAAHifQAAAAAAAAAAAAAAAANASY0EAAAAAYONmQQAAAAAAAAAAAAAAwAtaxkEAAAAAZc3NQQAAAACGSGNBAAAAALEIqUEAAAAAAAAAAAAAAAAQV0FBAAAAAGXNzUEAAAAAAAAAAAAAAADQEnNBAAAAAAAAAAAAAAAAAAAAAAAAAAAAAAAAAAAAAAAAAAAAAACApLhJQQAAAAAAAAAAAAAAAAAAAAAAAAAA0BJzQQAAAAAAAAAAAAAAIF+gAkIAAAAAAAAAAAAAAACAhD5BAAAA0ISldEEAAAAAAAAAAAAAAAAAAAAAAAAAAGDjdkEAAAAAC2vbQQAAAAD0BpRBAAAAANASY0EAAAAApHh/QQAAAACs5yJBAAAAAABmrkAAAAAAZc3NQQAAAACAhC5BAAAAAGXNzUEAAAAA9AZ0QQAAAKLIAPJBAAAAAAAAAAAAAACYoGs1QgAAAAAAAAAAAAAAAICELkEAAAAAAAAAAAAAAAAAAAAAAAAAAKR4f0EAAAAAAAAAAAAAAAAAAAAAAAAAAAAAAAAAAAAAvpiSQQAAAMCTf3NBAAAAAAAAAAAAAAAApHh/QQAAAAAAAAAAAAAAAAAAAAAAAAAAAAAAAAAAAAAAAAAAAAAAYOVej0EAAAAAAAAAAAAAAADIN1RBAAAAAKDwSUEAAAAAsQipQQAAAAAAAAAAAAAAAICiiUEAAAAAaE1TQQAAAAD0BnRBAAAAAGDjNkEAAAAAAAAAAAAAAAAAavhAAAAAAAAAAAAAAAAAgIQeQQAAAAAAAAAAAAAAAAAAAAAAAAAAAAAAAAAAAAAAAAAAAAAAAAAAAAAAAAAApHh/QQAAAAAEEKlBAAAAAAAAAAAAAAAAAAAAAAAAAMALWuZBAAAAAAAAAAAAAAAAZc2tQQAAAACE15dBAAAA0IkfcEHfT42XXAFBQQAAAACE14dBAAAAAAAAAAAAAAAAAAAAAAAAAABlzc1BAAAAAL5jTUEAAAAAaRR5QQAAAACAhG5BAAAAAPQGdEEAAAAA9AZ0QQAAACjQuw5CAAAAALEIqUEAAADQkYqTQQAAAAAY+3RBAAAAZgO6GEIAAAAA9AaUQQAAAICZl3FBAAAAAPQGZEE6isv4T0FzQQAAAGEbJBRCAABg9dCN7UEAAAAAAAAAAAAAAABg42ZBAAAAAPQGhEEAAAAAkAVQQQAAAAA4nGxBAAAAgJPc1EEAAADQiMPgQQAAALD9WapBAAAAAB5HfUEAAAAgX6DyQQAAAAD0BpRBAAAAAGXNrUEAAABIyo4TQgAAAAA4nHxBAAAAiKwRpEEAAAAAsQipQQAAAAAwjHFBAAAAAGDjdkEAAAAAYOO2QQDAk31WSVJCAAAAAM8IdEEAAAAA9AaEQQAAAEjKjhNCAAAAANASY0EAAAAe3Aw3QgAAACBfoAJCAAAAANASg0EAAMD////fQQAAAADQEnNBAAAAAHJdl0EAAAAA0BJzQQAAAL6jJrBBAAAAgKiveEEAAAAAhNeHQQAAAICor3hBAAAAAICEDkEAAAAAhNeXQQAAAIAGMpVBAAAAAICELkEAAAAAhNd3QQAAAAC545dBAAAAAKDwOUEAAAAAAGr4QAAAAAD0BnRBAAAAAPQGdEEAAAAAo+GRQQAAAAD0BoRBAAAAADicbEEAAAAAZc3NQQAAAFUWrbJBAAAA4ByR0kEAAAAQB42qQQAAAGwvVh1CAAAAADQIWUEAAACA0ofGQQAAAAB7mpdBAAAAgPV4QkEAAABA3Uq/QQAAAAAqdZVBAAAAAODIQEEAAAAAgIQOQQAAAAC7xXVBAAAAAIgqgUEAAAAAhNe3QQAAAADQDHRBAAAAvCAwzkEAAACA8ZGgQQAAAACI9AlBAAAAAICEbkEAAAAAgIQ+QQAAAKxKzZFBAAAAgJPctEEAAAAAhNe3QQAAAAAA0CJBAAAAALbyf0EAAADQlUyAQQAAAACIKmFBAAAAAGXNvUEAAAAAZc3dQQAAAADQEnNBAAAAqMgjhUEAAAAAhNeXQQAAAACE15dBAAAAANITUEEAAACQvTp0QQAAAMDmA7RBAAAAAKPhkUEAAAAAhNenQQAAAACE13dBAAAAIIOUw0EAAAAAZc29QQAAAACE16dBAAAAAITXh0Hhehj2HvDzQQAAAACE15dBAAAAAITXd0EAAAAAo+GhQQAAAAAqdZVBAAAAzK0J2EEAAAAApHh/QQAAAAAqdbVBAAAAAIBPMkEAAAAAAB3gQAAAAADQEmNBAAAALnE260EAAAAA9AZ0QQAAAADokWJBAAAAAGDjRkEAAABAPSWwQQAAAAD0BnRBAAAAAKPh0UEAAAAAgIQuQQAAAAAosYJBAAAAAAAAAAAAAAAAhNenQQAAAEDKbs1BAAAAAABqCEEAAAAgX6ACQgAAAAA4nIxBAAAAAGXNvUEAAABgP6fdQQAAAMDsT9xBAAAAANASY0EAAAAAAAAAAAAAAACxCLlBAAAAQHtKZEEAAADgxxjnQQAAAADgLFFBAAAAADicfEEAAAAgX6ASQgAAALCO8PtBAAAAABJFJUEAAAAAmqSRQQAAAAAAAAAAAAAAACp1lUEAAADgmufFQQAAAAC28o9BAAAAANASc0EAAABQzR6fQQAAAAA4nIxBAAAAgJPclEEAAADAC1rWQQAAAACsHnJBAAAAwFx/uEEAAACAtY+HQQAAAACE14dBAAAAAJSNlUEAAAAgX6ASQgAAAABlzb1BAAAAwHmGYUEAAAAA0BJjQQAAAACAhD5BAAAAAJxodEEAAAAA0BJzQQAAAIDfF6BBAAAAAGXN3UEAAAAA4DlDQQAAANDMEoNBAAAAQN1K30EAAAAArHxTQQAAAAA876VBAAAAAITXl0EAAIDjck43QgAAAAAY+3RBAAAAAA4TQ0EAAAAYsHACQgAAAABuCp5BAAAAgJPcxEEAAACYxQuUQQAAAADgqhVBAAAAAITXl0EAAABA5fCxQQAAACBv3WBBAAAAiEf2+0EAAAAw1v14QQAAAACE9YJBAAAAAGXNzUEAAABEl2uTQQAAAABg43ZBAAAAQEg6gUEAAAAA0BKDQQAAAACE15dBAAAAAPQGdEEAAAAADhNDQQAAAGwvVh1CAAAAAAAA+H8AAAAA1fzZQQAAAABlzZ1BAAAAAGXNvUEAAAAA/UOkQQAAAADQEnNBAAAAADicfEEAAAAAZc3NQQAAAACE14dBAAAAQLRs10EAAAAA8kJxQQAAACBfoAJCAAAAAPQGdEEAAAAgX6DyQQAAAHjkrDRCAAAAAMNZhUEAAAAgX6DyQQAAAABlzb1BAAAAAPQGdEEAAACQvTp0QQAAAICZl3FBAAAAQN1K30EAAABA/FTJQQAAAACQdjJBAAAAAGXNzUH1IXdjB2ZNQT0Kt+1Z7t9BAAAAAITXh0EAAABguBP6QQAAAACXYIJBAAAAAITXh0EAAAAAhNenQQAAAAD0BoRBAAAAAAIuq0EAAAAA0BJzQQAAAAA4nIxBAAAAAPQGdEEAAAAA0BJzQQAAAADLFGVBAAAAAKR4f0EAAAAA/IBeQQAAAIAwPZJBAAAAAPCzekEAAAAAhNeXQQAAAADws3pBAAAAAPQGdEEAAID8I2TDQQAAAAAQIEZBAAAAAITXl0EAAAAAAAAAAAAAAAAAvR9BAAAA6GZ0hkEAAAAAZc3NQQAAAADQElNBAAAAAPQGdEEAAADMrQnYQQAAAACE13dBAAAAANASY0EAAAAAOJx8QQAAACBfoOJBAAAAAIgqoUEAAIgIKUgeQgAAAACE15dBAAAAAPQGdEEAAAAA0BJjQQAAAAAAAGBAAAAAAKjLaEEAAACAJkxJQQAAAACS/r5BAAAAADicbEEAAAAAuMuSQQAAAABg41ZBAAAAYHkPgkEAAAAAzL9ZQQAAAABlzZ1BAAAAACDWM0EAAAAA0wQ0QQAAANCIw/BBAAAAAGXNrUEAAAAAPGBIQQAAAOh2SCdCAAAAAITXl0EAAABA3UrfQQAAAABXtURBAAAAAITXd0GamZmZmeSYQAAAAABlza1BAAAA4M8SY0EAAAAAmFFBQQAAAAB2sIBBAAAAAAwJo0EAAAAAhNd3QQAAAAAAADdAAAAAgHTSukEAAADAhMayQQAAACBfoPJBAAAAAAJYVEEAAAA4Vvy7QQAAgJDq0vBBAAAAAITXl0EAAAAAZc29QQAAAAD0BnRBAAAAAIgqcUEAAAAAYtdhQQAAAACE15dBAAAAAKjLiEEAAAAAhNeXQQAAACBfoOJBAAAAAIBPEkEAAADodkjnQQAAAABlzc1BAAAAAJT+l0EAAAAAhNd3QQAAAADQEnNBAAAA6HZIN0IAAABQ0ep0QQAAAADZT5NBAAAAACReiUEAAAAAKjJFQQAAAADQEnNBAAAAQN1K30EAAAAAiCqRQQAAAMALWtZBAAAAgMANpkEAAAAA3jmKQQAAAADeOZpBAAAAQHxwdkEAAAAAIFkzQQAAAACIKmFBAAAAgG7TRkEAAAAAo+HBQQAAAACE15dBAAAAANASg0EAAAAAC2ubQQAAAACAoklBRUdybza0a0EAAAAAAAD4fwAAAMALWuZBAAAAAGXNvUEAAAAAZc3NQQAAAAA4nIxBAAAAAGQ2cEEAAAAAZc3NQQAAAACE15dBAAAAAPQGdEE=\",\"dtype\":\"float64\",\"order\":\"little\",\"shape\":[667]},\"TotalCoinsMined\":{\"__ndarray__\":\"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\",\"dtype\":\"float64\",\"order\":\"little\",\"shape\":[667]},\"Unnamed_colon_0\":[\"42\",\"365\",\"404\",\"611\",\"808\",\"1337\",\"2015\",\"BTC\",\"ETH\",\"LTC\",\"DASH\",\"XMR\",\"ETC\",\"ZEC\",\"BTS\",\"DGB\",\"BTCD\",\"CRAIG\",\"XBS\",\"XPY\",\"PRC\",\"YBC\",\"DANK\",\"GIVE\",\"KOBO\",\"DT\",\"CETI\",\"SPR\",\"WOLF\",\"ACOIN\",\"AERO\",\"ALF\",\"AGS\",\"AMC\",\"ALN\",\"APEX\",\"ARCH\",\"ARG\",\"ARI\",\"AUR\",\"BET\",\"BEAN\",\"BLU\",\"BQC\",\"XMY\",\"MOON\",\"ZET\",\"SXC\",\"QTL\",\"ENRG\",\"QRK\",\"RIC\",\"DGC\",\"LIMX\",\"BTB\",\"CAIX\",\"BTMK\",\"BUK\",\"CACH\",\"CAP\",\"CASH\",\"CAT\",\"CBX\",\"CCN\",\"CIN\",\"CINNI\",\"CLR\",\"CMC\",\"CNC\",\"CNL\",\"COMM\",\"COOL\",\"CRACK\",\"CRYPT\",\"CSC\",\"DEM\",\"DMD\",\"XVG\",\"DRKC\",\"DSB\",\"DVC\",\"EAC\",\"EFL\",\"ELC\",\"EMC2\",\"EMD\",\"EXCL\",\"EXE\",\"EZC\",\"FLAP\",\"FC2\",\"FFC\",\"FIBRE\",\"FRC\",\"FLT\",\"FRK\",\"FRAC\",\"FTC\",\"GDC\",\"GLC\",\"GLD\",\"GLX\",\"GLYPH\",\"GML\",\"GUE\",\"HAL\",\"HBN\",\"HUC\",\"HVC\",\"HYP\",\"ICB\",\"IFC\",\"IOC\",\"IXC\",\"JBS\",\"JKC\",\"JUDGE\",\"KDC\",\"KGC\",\"LK7\",\"LKY\",\"LSD\",\"LTB\",\"LTCD\",\"LTCX\",\"LXC\",\"LYC\",\"MAX\",\"MEC\",\"MED\",\"MINT\",\"MN\",\"MINC\",\"MRY\",\"MZC\",\"NAN\",\"NAUT\",\"NAV\",\"NBL\",\"NMB\",\"NRB\",\"NOBL\",\"NRS\",\"NMC\",\"NYAN\",\"OPAL\",\"ORB\",\"PHS\",\"POT\",\"PSEUD\",\"PXC\",\"PYC\",\"RDD\",\"RIPO\",\"RPC\",\"RT2\",\"RYC\",\"RZR\",\"SAT2\",\"SBC\",\"SFR\",\"SHADE\",\"SHLD\",\"SILK\",\"SLG\",\"SMC\",\"SOLE\",\"SPA\",\"SPOTS\",\"SRC\",\"SSV\",\"SUPER\",\"SYNC\",\"SYS\",\"TAG\",\"TAK\",\"TES\",\"TGC\",\"TIT\",\"TOR\",\"TRC\",\"TITC\",\"ULTC\",\"UNB\",\"UNO\",\"URO\",\"USDE\",\"UTC\",\"UTIL\",\"VDO\",\"VIA\",\"VOOT\",\"VRC\",\"VTC\",\"WDC\",\"XAI\",\"XBOT\",\"XC\",\"XCR\",\"XJO\",\"XLB\",\"XST\",\"XXX\",\"YAC\",\"ZCC\",\"ZED\",\"BCN\",\"EKN\",\"XDN\",\"XAU\",\"BURST\",\"SJCX\",\"HUGE\",\"007\",\"MONA\",\"TEK\",\"NTRN\",\"SLING\",\"XSI\",\"KTK\",\"FAIR\",\"NLG\",\"RBY\",\"PTC\",\"KORE\",\"WBB\",\"SSD\",\"NOTE\",\"FLO\",\"MMXIV\",\"8BIT\",\"STV\",\"AM\",\"NKT\",\"GHC\",\"ABY\",\"MTR\",\"BCR\",\"XPB\",\"XDQ\",\"FLDC\",\"SMAC\",\"U\",\"UIS\",\"CYP\",\"QBK\",\"MARYJ\",\"OMC\",\"GIG\",\"CC\",\"VTR\",\"METAL\",\"GRE\",\"XG\",\"CHILD\",\"MINE\",\"ROS\",\"UNAT\",\"GAIA\",\"XCN\",\"GMC\",\"MMC\",\"CYC\",\"MSC\",\"EGG\",\"RBR\",\"ICASH\",\"NODE\",\"SOON\",\"BTMI\",\"EVENT\",\"1CR\",\"VIOR\",\"VMC\",\"EQM\",\"ISL\",\"QSLV\",\"XNA\",\"SKB\",\"FCS\",\"NXS\",\"EAGS\",\"MWC\",\"MARS\",\"XMS\",\"SIGU\",\"M1\",\"DB\",\"CTO\",\"FUTC\",\"TAM\",\"MRP\",\"XFC\",\"NANAS\",\"ACP\",\"DRZ\",\"BSC\",\"DRKT\",\"CIRC\",\"EPY\",\"SQL\",\"CHA\",\"MIL\",\"QTZ\",\"SPC\",\"DUB\",\"GRAV\",\"HEDGE\",\"SONG\",\"XSEED\",\"CHIP\",\"SPEC\",\"SPRTS\",\"ZNY\",\"DIGS\",\"EXP\",\"MAPC\",\"CON\",\"SC\",\"LYB\",\"EMC\",\"BLITZ\",\"EGC\",\"MND\",\"I0C\",\"DCR\",\"DOGED\",\"RVR\",\"HODL\",\"EDRC\",\"HTC\",\"GAME\",\"DSH\",\"DBIC\",\"BIOS\",\"DIEM\",\"RCX\",\"PWR\",\"TRUMP\",\"BLRY\",\"ETHS\",\"PXL\",\"SOUL\",\"SSTC\",\"GPU\",\"TAGR\",\"HMP\",\"ADZ\",\"MYC\",\"VTA\",\"SOIL\",\"YOC\",\"UNIT\",\"AEON\",\"SIB\",\"ERC\",\"AIB\",\"XDB\",\"ANTI\",\"COLX\",\"MNM\",\"ZEIT\",\"CGA\",\"SWING\",\"SAFEX\",\"NEBU\",\"AEC\",\"FRN\",\"N7\",\"CYG\",\"LGBTQ\",\"UTH\",\"MPRO\",\"KATZ\",\"SPM\",\"FLX\",\"BOLI\",\"CLUD\",\"HVCO\",\"GIZ\",\"FUZZ\",\"SCRT\",\"XRA\",\"XNX\",\"DBG\",\"WMC\",\"GOTX\",\"SHREK\",\"REV\",\"PBC\",\"OBS\",\"EXIT\",\"EDUC\",\"CLINT\",\"CKC\",\"VIP\",\"NXE\",\"ZOOM\",\"YOVI\",\"ORLY\",\"SAK\",\"EVIL\",\"COX\",\"BSD\",\"DES\",\"BIT16\",\"CMTC\",\"CHESS\",\"REE\",\"MARV\",\"OMNI\",\"LIR\",\"SCRPT\",\"SPCIE\",\"CJ\",\"PUT\",\"KRAK\",\"IBANK\",\"BM\",\"FRWC\",\"PSY\",\"RUST\",\"NZC\",\"XPOKE\",\"MUDRA\",\"PIZZA\",\"LC\",\"EXB\",\"KMD\",\"GB\",\"EDC\",\"WAY\",\"TAB\",\"STO\",\"CTC\",\"TOT\",\"MDC\",\"FTP\",\"ZET2\",\"CVNC\",\"KRB\",\"TELL\",\"BXT\",\"ZYD\",\"MST\",\"GOON\",\"ZNE\",\"COVAL\",\"DGDC\",\"TODAY\",\"ROOT\",\"DOPE\",\"FX\",\"PIO\",\"PROUD\",\"SMSR\",\"UBIQ\",\"ARM\",\"RING\",\"LAZ\",\"BTCR\",\"MOOND\",\"DLC\",\"SCN\",\"BRONZ\",\"SH\",\"BUZZ\",\"MG\",\"PSI\",\"XPO\",\"PSB\",\"FIT\",\"PINKX\",\"UNF\",\"SPORT\",\"NTC\",\"EGO\",\"GBRC\",\"HALLO\",\"BBCC\",\"BHC\",\"CRAFT\",\"OLYMP\",\"DPAY\",\"JOBS\",\"DGORE\",\"RMS\",\"FJC\",\"VAPOR\",\"XZC\",\"PRE\",\"CALC\",\"LEA\",\"CF\",\"CFC\",\"BS\",\"JIF\",\"MONETA\",\"RUBIT\",\"HCC\",\"BRAIN\",\"ROYAL\",\"LFC\",\"ZUR\",\"PEC\",\"GMX\",\"32BIT\",\"GNJ\",\"TEAM\",\"SCT\",\"LANA\",\"ELE\",\"GCC\",\"EQUAL\",\"2BACCO\",\"DKC\",\"COC\",\"CHOOF\",\"CSH\",\"ZCL\",\"RYCN\",\"PCS\",\"NBIT\",\"WINE\",\"ARK\",\"ZECD\",\"WASH\",\"LUCKY\",\"INSANE\",\"BASH\",\"FAME\",\"LIV\",\"DOGETH\",\"KLC\",\"HUSH\",\"BTLC\",\"DRM8\",\"FGZ\",\"BOSON\",\"ATX\",\"PNC\",\"BRDD\",\"BIPC\",\"XNC\",\"EMB\",\"BTTF\",\"DLR\",\"XEN\",\"IW\",\"FRE\",\"NPC\",\"PLNC\",\"DGMS\",\"ICOB\",\"ARCO\",\"KURT\",\"XCRE\",\"ENT\",\"ODNT\",\"EUC\",\"CCX\",\"BCF\",\"SEEDS\",\"XSN\",\"BCCOIN\",\"SHORTY\",\"PCM\",\"CORAL\",\"MONEY\",\"HSP\",\"HZT\",\"CRSP\",\"ICON\",\"NIC\",\"ACN\",\"XNG\",\"XCI\",\"LOOK\",\"MIS\",\"WOP\",\"CQST\",\"CHIEF\",\"RC\",\"PND\",\"ECAD\",\"OPTION\",\"AV\",\"LTD\",\"UNITS\",\"GAKH\",\"S8C\",\"ASAFE2\",\"LTCR\",\"XPRO\",\"ASTR\",\"GIFT\",\"VIDZ\",\"INC\",\"PTA\",\"ACID\",\"RNC\",\"TWIST\",\"PAYP\",\"LENIN\",\"MRSA\",\"OS76\",\"BIC\",\"CRPS\",\"NTCC\",\"HXX\",\"SPKTR\",\"MAC\",\"SEL\",\"NOO\",\"CHAO\",\"XGB\",\"YMC\",\"JOK\",\"GBIT\",\"TEC\",\"BOMBC\",\"RIDE\",\"KED\",\"IOP\",\"ELS\",\"KUSH\",\"ERY\",\"OPES\",\"RATIO\",\"SMF\",\"TECH\",\"CIR\",\"LEPEN\",\"MARX\",\"HAZE\",\"PRX\",\"PAC\",\"IMPCH\",\"ERR\",\"TIC\",\"NUKE\",\"SFC\",\"JANE\",\"PARA\",\"MM\",\"CTL\",\"ZBC\",\"FRST\",\"ORO\",\"ALEX\",\"TBCX\",\"MCAR\",\"THS\",\"ACES\",\"EA\",\"CREA\",\"BVC\",\"FIND\",\"MLITE\",\"STALIN\",\"TSE\",\"VLTC\",\"BIOB\",\"ZER\",\"CHAT\",\"CDN\",\"ZOI\"]},\"selected\":{\"id\":\"1777\"},\"selection_policy\":{\"id\":\"1836\"}},\"id\":\"1776\",\"type\":\"ColumnDataSource\"},{\"attributes\":{\"editor\":{\"id\":\"1784\"},\"field\":\"CoinName\",\"formatter\":{\"id\":\"1783\"},\"title\":\"CoinName\"},\"id\":\"1785\",\"type\":\"TableColumn\"}],\"root_ids\":[\"1774\"]},\"title\":\"Bokeh Application\",\"version\":\"2.4.1\"}};\n",
       "    var render_items = [{\"docid\":\"3efce370-9568-44f3-8eb5-74223af1e226\",\"root_ids\":[\"1774\"],\"roots\":{\"1774\":\"b8eb7a9a-0a31-409d-aa02-3da2d5ec8526\"}}];\n",
       "    root.Bokeh.embed.embed_items_notebook(docs_json, render_items);\n",
       "  }\n",
       "  if (root.Bokeh !== undefined && root.Bokeh.Panel !== undefined) {\n",
       "    embed_document(root);\n",
       "  } else {\n",
       "    var attempts = 0;\n",
       "    var timer = setInterval(function(root) {\n",
       "      if (root.Bokeh !== undefined && root.Bokeh.Panel !== undefined) {\n",
       "        clearInterval(timer);\n",
       "        embed_document(root);\n",
       "      } else if (document.readyState == \"complete\") {\n",
       "        attempts++;\n",
       "        if (attempts > 200) {\n",
       "          clearInterval(timer);\n",
       "          console.log(\"Bokeh: ERROR: Unable to run BokehJS code because BokehJS library is missing\");\n",
       "        }\n",
       "      }\n",
       "    }, 25, root)\n",
       "  }\n",
       "})(window);</script>"
      ],
      "text/plain": [
       ":Table   [Unnamed: 0,CoinName,Algorithm,IsTrading,ProofType,TotalCoinsMined,TotalCoinSupply,Class,PC1,PC2,PC3]"
      ]
     },
     "execution_count": 248,
     "metadata": {
      "application/vnd.holoviews_exec.v0+json": {
       "id": "1774"
      }
     },
     "output_type": "execute_result"
    }
   ],
   "source": [
    "# Create a table with tradable cryptocurrencies.\n",
    "clustered_df.hvplot.table(sortable=True, selectable=True)"
   ]
  },
  {
   "cell_type": "code",
   "execution_count": 249,
   "metadata": {},
   "outputs": [
    {
     "data": {
      "text/plain": [
       "667"
      ]
     },
     "execution_count": 249,
     "metadata": {},
     "output_type": "execute_result"
    }
   ],
   "source": [
    "# Print the total number of tradable cryptocurrencies.\n",
    "clustered_df['CoinName'].count()"
   ]
  },
  {
   "cell_type": "code",
   "execution_count": 250,
   "metadata": {},
   "outputs": [
    {
     "data": {
      "text/html": [
       "<div>\n",
       "<style scoped>\n",
       "    .dataframe tbody tr th:only-of-type {\n",
       "        vertical-align: middle;\n",
       "    }\n",
       "\n",
       "    .dataframe tbody tr th {\n",
       "        vertical-align: top;\n",
       "    }\n",
       "\n",
       "    .dataframe thead th {\n",
       "        text-align: right;\n",
       "    }\n",
       "</style>\n",
       "<table border=\"1\" class=\"dataframe\">\n",
       "  <thead>\n",
       "    <tr style=\"text-align: right;\">\n",
       "      <th></th>\n",
       "      <th>Unnamed: 0</th>\n",
       "      <th>CoinName</th>\n",
       "      <th>Algorithm</th>\n",
       "      <th>IsTrading</th>\n",
       "      <th>ProofType</th>\n",
       "      <th>TotalCoinsMined</th>\n",
       "      <th>TotalCoinSupply</th>\n",
       "      <th>Class</th>\n",
       "      <th>PC1</th>\n",
       "      <th>PC2</th>\n",
       "      <th>PC3</th>\n",
       "    </tr>\n",
       "  </thead>\n",
       "  <tbody>\n",
       "    <tr>\n",
       "      <th>0</th>\n",
       "      <td>42</td>\n",
       "      <td>42 Coin</td>\n",
       "      <td>Scrypt</td>\n",
       "      <td>True</td>\n",
       "      <td>PoW/PoS</td>\n",
       "      <td>2.281777e-10</td>\n",
       "      <td>6.000000e-11</td>\n",
       "      <td>0</td>\n",
       "      <td>-0.172805</td>\n",
       "      <td>1.225095</td>\n",
       "      <td>-0.495600</td>\n",
       "    </tr>\n",
       "    <tr>\n",
       "      <th>1</th>\n",
       "      <td>365</td>\n",
       "      <td>365Coin</td>\n",
       "      <td>X11</td>\n",
       "      <td>True</td>\n",
       "      <td>PoW/PoS</td>\n",
       "      <td>NaN</td>\n",
       "      <td>3.285714e-03</td>\n",
       "      <td>0</td>\n",
       "      <td>-0.158776</td>\n",
       "      <td>1.223542</td>\n",
       "      <td>-0.496102</td>\n",
       "    </tr>\n",
       "    <tr>\n",
       "      <th>2</th>\n",
       "      <td>404</td>\n",
       "      <td>404Coin</td>\n",
       "      <td>Scrypt</td>\n",
       "      <td>True</td>\n",
       "      <td>PoW/PoS</td>\n",
       "      <td>5.732618e-03</td>\n",
       "      <td>7.600000e-04</td>\n",
       "      <td>0</td>\n",
       "      <td>-0.113730</td>\n",
       "      <td>0.820260</td>\n",
       "      <td>-0.298519</td>\n",
       "    </tr>\n",
       "    <tr>\n",
       "      <th>3</th>\n",
       "      <td>611</td>\n",
       "      <td>SixEleven</td>\n",
       "      <td>SHA-256</td>\n",
       "      <td>True</td>\n",
       "      <td>PoW</td>\n",
       "      <td>NaN</td>\n",
       "      <td>8.728571e-07</td>\n",
       "      <td>0</td>\n",
       "      <td>0.338229</td>\n",
       "      <td>1.953817</td>\n",
       "      <td>-0.544069</td>\n",
       "    </tr>\n",
       "    <tr>\n",
       "      <th>4</th>\n",
       "      <td>808</td>\n",
       "      <td>808</td>\n",
       "      <td>SHA-256</td>\n",
       "      <td>True</td>\n",
       "      <td>PoW/PoS</td>\n",
       "      <td>0.000000e+00</td>\n",
       "      <td>0.000000e+00</td>\n",
       "      <td>1</td>\n",
       "      <td>-0.242216</td>\n",
       "      <td>-1.408971</td>\n",
       "      <td>0.154315</td>\n",
       "    </tr>\n",
       "    <tr>\n",
       "      <th>...</th>\n",
       "      <td>...</td>\n",
       "      <td>...</td>\n",
       "      <td>...</td>\n",
       "      <td>...</td>\n",
       "      <td>...</td>\n",
       "      <td>...</td>\n",
       "      <td>...</td>\n",
       "      <td>...</td>\n",
       "      <td>...</td>\n",
       "      <td>...</td>\n",
       "      <td>...</td>\n",
       "    </tr>\n",
       "    <tr>\n",
       "      <th>680</th>\n",
       "      <td>BIOB</td>\n",
       "      <td>BioBar</td>\n",
       "      <td>SHA-256D</td>\n",
       "      <td>True</td>\n",
       "      <td>PoW/PoS</td>\n",
       "      <td>NaN</td>\n",
       "      <td>8.571429e-05</td>\n",
       "      <td>0</td>\n",
       "      <td>4.215940</td>\n",
       "      <td>-0.414464</td>\n",
       "      <td>0.047503</td>\n",
       "    </tr>\n",
       "    <tr>\n",
       "      <th>681</th>\n",
       "      <td>ZER</td>\n",
       "      <td>Zero</td>\n",
       "      <td>Equihash</td>\n",
       "      <td>True</td>\n",
       "      <td>PoW</td>\n",
       "      <td>3.760403e-05</td>\n",
       "      <td>2.428571e-05</td>\n",
       "      <td>0</td>\n",
       "      <td>-0.172606</td>\n",
       "      <td>1.225073</td>\n",
       "      <td>-0.495607</td>\n",
       "    </tr>\n",
       "    <tr>\n",
       "      <th>682</th>\n",
       "      <td>CHAT</td>\n",
       "      <td>OpenChat</td>\n",
       "      <td>Scrypt</td>\n",
       "      <td>True</td>\n",
       "      <td>PoW/PoS</td>\n",
       "      <td>5.432809e-03</td>\n",
       "      <td>1.428571e-03</td>\n",
       "      <td>1</td>\n",
       "      <td>-0.197893</td>\n",
       "      <td>-2.255234</td>\n",
       "      <td>0.297682</td>\n",
       "    </tr>\n",
       "    <tr>\n",
       "      <th>683</th>\n",
       "      <td>CDN</td>\n",
       "      <td>Canada eCoin</td>\n",
       "      <td>Scrypt</td>\n",
       "      <td>True</td>\n",
       "      <td>PoW</td>\n",
       "      <td>5.424302e-04</td>\n",
       "      <td>1.428571e-04</td>\n",
       "      <td>1</td>\n",
       "      <td>-0.338829</td>\n",
       "      <td>-2.056901</td>\n",
       "      <td>0.206082</td>\n",
       "    </tr>\n",
       "    <tr>\n",
       "      <th>684</th>\n",
       "      <td>ZOI</td>\n",
       "      <td>Zoin</td>\n",
       "      <td>Lyra2RE</td>\n",
       "      <td>True</td>\n",
       "      <td>PoW</td>\n",
       "      <td>1.007556e-04</td>\n",
       "      <td>3.000000e-05</td>\n",
       "      <td>0</td>\n",
       "      <td>-0.069485</td>\n",
       "      <td>0.795160</td>\n",
       "      <td>-0.224008</td>\n",
       "    </tr>\n",
       "  </tbody>\n",
       "</table>\n",
       "<p>667 rows × 11 columns</p>\n",
       "</div>"
      ],
      "text/plain": [
       "    Unnamed: 0      CoinName Algorithm  IsTrading ProofType  TotalCoinsMined  \\\n",
       "0           42       42 Coin    Scrypt       True   PoW/PoS     2.281777e-10   \n",
       "1          365       365Coin       X11       True   PoW/PoS              NaN   \n",
       "2          404       404Coin    Scrypt       True   PoW/PoS     5.732618e-03   \n",
       "3          611     SixEleven   SHA-256       True       PoW              NaN   \n",
       "4          808           808   SHA-256       True   PoW/PoS     0.000000e+00   \n",
       "..         ...           ...       ...        ...       ...              ...   \n",
       "680       BIOB        BioBar  SHA-256D       True   PoW/PoS              NaN   \n",
       "681        ZER          Zero  Equihash       True       PoW     3.760403e-05   \n",
       "682       CHAT      OpenChat    Scrypt       True   PoW/PoS     5.432809e-03   \n",
       "683        CDN  Canada eCoin    Scrypt       True       PoW     5.424302e-04   \n",
       "684        ZOI          Zoin   Lyra2RE       True       PoW     1.007556e-04   \n",
       "\n",
       "     TotalCoinSupply  Class       PC1       PC2       PC3  \n",
       "0       6.000000e-11      0 -0.172805  1.225095 -0.495600  \n",
       "1       3.285714e-03      0 -0.158776  1.223542 -0.496102  \n",
       "2       7.600000e-04      0 -0.113730  0.820260 -0.298519  \n",
       "3       8.728571e-07      0  0.338229  1.953817 -0.544069  \n",
       "4       0.000000e+00      1 -0.242216 -1.408971  0.154315  \n",
       "..               ...    ...       ...       ...       ...  \n",
       "680     8.571429e-05      0  4.215940 -0.414464  0.047503  \n",
       "681     2.428571e-05      0 -0.172606  1.225073 -0.495607  \n",
       "682     1.428571e-03      1 -0.197893 -2.255234  0.297682  \n",
       "683     1.428571e-04      1 -0.338829 -2.056901  0.206082  \n",
       "684     3.000000e-05      0 -0.069485  0.795160 -0.224008  \n",
       "\n",
       "[667 rows x 11 columns]"
      ]
     },
     "execution_count": 250,
     "metadata": {},
     "output_type": "execute_result"
    }
   ],
   "source": [
    "# Scaling data to create the scatter plot with tradable cryptocurrencies.\n",
    "clustered_df_scaled = clustered_df.copy()\n",
    "clustered_df_scaled[['TotalCoinSupply', 'TotalCoinsMined']] = MinMaxScaler().fit_transform(clustered_df[['TotalCoinSupply', 'TotalCoinsMined']])\n",
    "clustered_df_scaled"
   ]
  },
  {
   "cell_type": "code",
   "execution_count": 251,
   "metadata": {},
   "outputs": [
    {
     "data": {
      "text/html": [
       "<div>\n",
       "<style scoped>\n",
       "    .dataframe tbody tr th:only-of-type {\n",
       "        vertical-align: middle;\n",
       "    }\n",
       "\n",
       "    .dataframe tbody tr th {\n",
       "        vertical-align: top;\n",
       "    }\n",
       "\n",
       "    .dataframe thead th {\n",
       "        text-align: right;\n",
       "    }\n",
       "</style>\n",
       "<table border=\"1\" class=\"dataframe\">\n",
       "  <thead>\n",
       "    <tr style=\"text-align: right;\">\n",
       "      <th></th>\n",
       "      <th>CoinName</th>\n",
       "      <th>TotalCoinSupply</th>\n",
       "      <th>TotalCoinsMined</th>\n",
       "      <th>Class</th>\n",
       "    </tr>\n",
       "    <tr>\n",
       "      <th>Unnamed: 0</th>\n",
       "      <th></th>\n",
       "      <th></th>\n",
       "      <th></th>\n",
       "      <th></th>\n",
       "    </tr>\n",
       "  </thead>\n",
       "  <tbody>\n",
       "    <tr>\n",
       "      <th>42</th>\n",
       "      <td>42 Coin</td>\n",
       "      <td>6.000000e-11</td>\n",
       "      <td>2.281777e-10</td>\n",
       "      <td>0</td>\n",
       "    </tr>\n",
       "    <tr>\n",
       "      <th>365</th>\n",
       "      <td>365Coin</td>\n",
       "      <td>3.285714e-03</td>\n",
       "      <td>NaN</td>\n",
       "      <td>0</td>\n",
       "    </tr>\n",
       "    <tr>\n",
       "      <th>404</th>\n",
       "      <td>404Coin</td>\n",
       "      <td>7.600000e-04</td>\n",
       "      <td>5.732618e-03</td>\n",
       "      <td>0</td>\n",
       "    </tr>\n",
       "    <tr>\n",
       "      <th>611</th>\n",
       "      <td>SixEleven</td>\n",
       "      <td>8.728571e-07</td>\n",
       "      <td>NaN</td>\n",
       "      <td>0</td>\n",
       "    </tr>\n",
       "    <tr>\n",
       "      <th>808</th>\n",
       "      <td>808</td>\n",
       "      <td>0.000000e+00</td>\n",
       "      <td>0.000000e+00</td>\n",
       "      <td>1</td>\n",
       "    </tr>\n",
       "    <tr>\n",
       "      <th>1337</th>\n",
       "      <td>EliteCoin</td>\n",
       "      <td>4.487990e-01</td>\n",
       "      <td>1.590695e-01</td>\n",
       "      <td>1</td>\n",
       "    </tr>\n",
       "    <tr>\n",
       "      <th>2015</th>\n",
       "      <td>2015 coin</td>\n",
       "      <td>0.000000e+00</td>\n",
       "      <td>NaN</td>\n",
       "      <td>1</td>\n",
       "    </tr>\n",
       "    <tr>\n",
       "      <th>BTC</th>\n",
       "      <td>Bitcoin</td>\n",
       "      <td>3.000000e-05</td>\n",
       "      <td>9.739493e-05</td>\n",
       "      <td>0</td>\n",
       "    </tr>\n",
       "    <tr>\n",
       "      <th>ETH</th>\n",
       "      <td>Ethereum</td>\n",
       "      <td>0.000000e+00</td>\n",
       "      <td>5.850279e-04</td>\n",
       "      <td>1</td>\n",
       "    </tr>\n",
       "    <tr>\n",
       "      <th>LTC</th>\n",
       "      <td>Litecoin</td>\n",
       "      <td>1.200000e-04</td>\n",
       "      <td>3.424802e-04</td>\n",
       "      <td>1</td>\n",
       "    </tr>\n",
       "  </tbody>\n",
       "</table>\n",
       "</div>"
      ],
      "text/plain": [
       "             CoinName  TotalCoinSupply  TotalCoinsMined  Class\n",
       "Unnamed: 0                                                    \n",
       "42            42 Coin     6.000000e-11     2.281777e-10      0\n",
       "365           365Coin     3.285714e-03              NaN      0\n",
       "404           404Coin     7.600000e-04     5.732618e-03      0\n",
       "611         SixEleven     8.728571e-07              NaN      0\n",
       "808               808     0.000000e+00     0.000000e+00      1\n",
       "1337        EliteCoin     4.487990e-01     1.590695e-01      1\n",
       "2015        2015 coin     0.000000e+00              NaN      1\n",
       "BTC           Bitcoin     3.000000e-05     9.739493e-05      0\n",
       "ETH          Ethereum     0.000000e+00     5.850279e-04      1\n",
       "LTC          Litecoin     1.200000e-04     3.424802e-04      1"
      ]
     },
     "execution_count": 251,
     "metadata": {},
     "output_type": "execute_result"
    }
   ],
   "source": [
    "# Create a new DataFrame that has the scaled data with the clustered_df DataFrame index.\n",
    "scatter_df = clustered_df_scaled[['CoinName', 'TotalCoinSupply', 'TotalCoinsMined', 'Class', 'Unnamed: 0']]\n",
    "scatter_df.set_index('Unnamed: 0', inplace=True)\n",
    "\n",
    "scatter_df.head(10)"
   ]
  },
  {
   "cell_type": "code",
   "execution_count": 252,
   "metadata": {},
   "outputs": [
    {
     "data": {},
     "metadata": {},
     "output_type": "display_data"
    },
    {
     "data": {
      "application/vnd.holoviews_exec.v0+json": "",
      "text/html": [
       "<div id='1852'>\n",
       "\n",
       "\n",
       "\n",
       "\n",
       "\n",
       "  <div class=\"bk-root\" id=\"4f79642e-fffa-44b6-be9f-6993babc07d8\" data-root-id=\"1852\"></div>\n",
       "</div>\n",
       "<script type=\"application/javascript\">(function(root) {\n",
       "  function embed_document(root) {\n",
       "    var docs_json = {\"67304435-3529-4c61-9bcd-1fb37aa89c6e\":{\"defs\":[{\"extends\":null,\"module\":null,\"name\":\"ReactiveHTML1\",\"overrides\":[],\"properties\":[]},{\"extends\":null,\"module\":null,\"name\":\"FlexBox1\",\"overrides\":[],\"properties\":[{\"default\":\"flex-start\",\"kind\":null,\"name\":\"align_content\"},{\"default\":\"flex-start\",\"kind\":null,\"name\":\"align_items\"},{\"default\":\"row\",\"kind\":null,\"name\":\"flex_direction\"},{\"default\":\"wrap\",\"kind\":null,\"name\":\"flex_wrap\"},{\"default\":\"flex-start\",\"kind\":null,\"name\":\"justify_content\"}]},{\"extends\":null,\"module\":null,\"name\":\"GridStack1\",\"overrides\":[],\"properties\":[{\"default\":\"warn\",\"kind\":null,\"name\":\"mode\"},{\"default\":null,\"kind\":null,\"name\":\"ncols\"},{\"default\":null,\"kind\":null,\"name\":\"nrows\"},{\"default\":true,\"kind\":null,\"name\":\"allow_resize\"},{\"default\":true,\"kind\":null,\"name\":\"allow_drag\"},{\"default\":[],\"kind\":null,\"name\":\"state\"}]},{\"extends\":null,\"module\":null,\"name\":\"click1\",\"overrides\":[],\"properties\":[{\"default\":\"\",\"kind\":null,\"name\":\"terminal_output\"},{\"default\":\"\",\"kind\":null,\"name\":\"debug_name\"},{\"default\":0,\"kind\":null,\"name\":\"clears\"}]},{\"extends\":null,\"module\":null,\"name\":\"TemplateActions1\",\"overrides\":[],\"properties\":[{\"default\":0,\"kind\":null,\"name\":\"open_modal\"},{\"default\":0,\"kind\":null,\"name\":\"close_modal\"}]},{\"extends\":null,\"module\":null,\"name\":\"MaterialTemplateActions1\",\"overrides\":[],\"properties\":[{\"default\":0,\"kind\":null,\"name\":\"open_modal\"},{\"default\":0,\"kind\":null,\"name\":\"close_modal\"}]}],\"roots\":{\"references\":[{\"attributes\":{\"coordinates\":null,\"data_source\":{\"id\":\"1917\"},\"glyph\":{\"id\":\"1920\"},\"group\":null,\"hover_glyph\":null,\"muted_glyph\":{\"id\":\"1922\"},\"nonselection_glyph\":{\"id\":\"1921\"},\"selection_glyph\":{\"id\":\"1938\"},\"view\":{\"id\":\"1924\"}},\"id\":\"1923\",\"type\":\"GlyphRenderer\"},{\"attributes\":{\"tools\":[{\"id\":\"1856\"},{\"id\":\"1877\"},{\"id\":\"1878\"},{\"id\":\"1879\"},{\"id\":\"1880\"},{\"id\":\"1881\"}]},\"id\":\"1883\",\"type\":\"Toolbar\"},{\"attributes\":{\"coordinates\":null,\"data_source\":{\"id\":\"1963\"},\"glyph\":{\"id\":\"1966\"},\"group\":null,\"hover_glyph\":null,\"muted_glyph\":{\"id\":\"1968\"},\"nonselection_glyph\":{\"id\":\"1967\"},\"selection_glyph\":{\"id\":\"1988\"},\"view\":{\"id\":\"1970\"}},\"id\":\"1969\",\"type\":\"GlyphRenderer\"},{\"attributes\":{\"angle\":{\"value\":0.0},\"fill_alpha\":{\"value\":1.0},\"fill_color\":{\"value\":\"#fc4f30\"},\"hatch_alpha\":{\"value\":1.0},\"hatch_color\":{\"value\":\"#fc4f30\"},\"hatch_scale\":{\"value\":12.0},\"hatch_weight\":{\"value\":1.0},\"line_alpha\":{\"value\":1.0},\"line_cap\":{\"value\":\"butt\"},\"line_color\":{\"value\":\"#fc4f30\"},\"line_dash\":{\"value\":[]},\"line_dash_offset\":{\"value\":0},\"line_join\":{\"value\":\"bevel\"},\"line_width\":{\"value\":1},\"marker\":{\"value\":\"circle\"},\"size\":{\"value\":5.477225575051661},\"x\":{\"field\":\"TotalCoinsMined\"},\"y\":{\"field\":\"TotalCoinSupply\"}},\"id\":\"1938\",\"type\":\"Scatter\"},{\"attributes\":{\"fill_alpha\":{\"value\":0.1},\"fill_color\":{\"value\":\"#6d904f\"},\"hatch_alpha\":{\"value\":0.1},\"hatch_color\":{\"value\":\"#6d904f\"},\"line_alpha\":{\"value\":0.1},\"line_color\":{\"value\":\"#6d904f\"},\"size\":{\"value\":5.477225575051661},\"x\":{\"field\":\"TotalCoinsMined\"},\"y\":{\"field\":\"TotalCoinSupply\"}},\"id\":\"1967\",\"type\":\"Scatter\"},{\"attributes\":{},\"id\":\"1911\",\"type\":\"UnionRenderers\"},{\"attributes\":{\"source\":{\"id\":\"1963\"}},\"id\":\"1970\",\"type\":\"CDSView\"},{\"attributes\":{\"axis_label\":\"TotalCoinsMined\",\"coordinates\":null,\"formatter\":{\"id\":\"1891\"},\"group\":null,\"major_label_policy\":{\"id\":\"1892\"},\"ticker\":{\"id\":\"1870\"}},\"id\":\"1869\",\"type\":\"LinearAxis\"},{\"attributes\":{\"fill_alpha\":{\"value\":0.2},\"fill_color\":{\"value\":\"#30a2da\"},\"hatch_alpha\":{\"value\":0.2},\"hatch_color\":{\"value\":\"#30a2da\"},\"line_alpha\":{\"value\":0.2},\"line_color\":{\"value\":\"#30a2da\"},\"size\":{\"value\":5.477225575051661},\"x\":{\"field\":\"TotalCoinsMined\"},\"y\":{\"field\":\"TotalCoinSupply\"}},\"id\":\"1901\",\"type\":\"Scatter\"},{\"attributes\":{\"fill_alpha\":{\"value\":0.2},\"fill_color\":{\"value\":\"#6d904f\"},\"hatch_alpha\":{\"value\":0.2},\"hatch_color\":{\"value\":\"#6d904f\"},\"line_alpha\":{\"value\":0.2},\"line_color\":{\"value\":\"#6d904f\"},\"size\":{\"value\":5.477225575051661},\"x\":{\"field\":\"TotalCoinsMined\"},\"y\":{\"field\":\"TotalCoinSupply\"}},\"id\":\"1968\",\"type\":\"Scatter\"},{\"attributes\":{\"label\":{\"value\":\"3\"},\"renderers\":[{\"id\":\"1969\"}]},\"id\":\"1987\",\"type\":\"LegendItem\"},{\"attributes\":{},\"id\":\"1895\",\"type\":\"AllLabels\"},{\"attributes\":{},\"id\":\"1894\",\"type\":\"BasicTickFormatter\"},{\"attributes\":{\"fill_alpha\":{\"value\":0.2},\"fill_color\":{\"value\":\"#fc4f30\"},\"hatch_alpha\":{\"value\":0.2},\"hatch_color\":{\"value\":\"#fc4f30\"},\"line_alpha\":{\"value\":0.2},\"line_color\":{\"value\":\"#fc4f30\"},\"size\":{\"value\":5.477225575051661},\"x\":{\"field\":\"TotalCoinsMined\"},\"y\":{\"field\":\"TotalCoinSupply\"}},\"id\":\"1922\",\"type\":\"Scatter\"},{\"attributes\":{\"axis_label\":\"TotalCoinSupply\",\"coordinates\":null,\"formatter\":{\"id\":\"1894\"},\"group\":null,\"major_label_policy\":{\"id\":\"1895\"},\"ticker\":{\"id\":\"1874\"}},\"id\":\"1873\",\"type\":\"LinearAxis\"},{\"attributes\":{\"label\":{\"value\":\"0\"},\"renderers\":[{\"id\":\"1902\"}]},\"id\":\"1915\",\"type\":\"LegendItem\"},{\"attributes\":{},\"id\":\"1874\",\"type\":\"BasicTicker\"},{\"attributes\":{\"fill_alpha\":{\"value\":0.1},\"fill_color\":{\"value\":\"#fc4f30\"},\"hatch_alpha\":{\"value\":0.1},\"hatch_color\":{\"value\":\"#fc4f30\"},\"line_alpha\":{\"value\":0.1},\"line_color\":{\"value\":\"#fc4f30\"},\"size\":{\"value\":5.477225575051661},\"x\":{\"field\":\"TotalCoinsMined\"},\"y\":{\"field\":\"TotalCoinSupply\"}},\"id\":\"1921\",\"type\":\"Scatter\"},{\"attributes\":{},\"id\":\"1964\",\"type\":\"Selection\"},{\"attributes\":{\"fill_color\":{\"value\":\"#e5ae38\"},\"hatch_color\":{\"value\":\"#e5ae38\"},\"line_color\":{\"value\":\"#e5ae38\"},\"size\":{\"value\":5.477225575051661},\"x\":{\"field\":\"TotalCoinsMined\"},\"y\":{\"field\":\"TotalCoinSupply\"}},\"id\":\"1942\",\"type\":\"Scatter\"},{\"attributes\":{\"data\":{\"Class\":[0,0,0,0,0,0,0,0,0,0,0,0,0,0,0,0,0,0,0,0,0,0,0,0,0,0,0,0,0,0,0,0,0,0,0,0,0,0,0,0,0,0,0,0,0,0,0,0,0,0,0,0,0,0,0,0,0,0,0,0,0,0,0,0,0,0,0,0,0,0,0,0,0,0,0,0,0,0,0,0,0,0,0,0,0,0,0,0,0,0,0,0,0,0,0,0,0,0,0,0,0,0,0,0,0,0,0,0,0,0,0,0,0,0,0,0,0,0,0,0,0,0,0,0,0,0,0,0,0,0,0,0,0,0,0,0,0,0,0,0,0,0,0,0,0,0,0,0,0,0,0,0,0,0,0,0,0,0,0,0,0,0,0,0,0,0,0,0,0,0,0,0,0,0,0,0,0,0,0,0,0,0,0,0,0,0,0,0,0,0,0,0,0,0,0,0,0,0,0,0,0,0,0,0,0,0,0,0,0,0,0,0,0,0,0,0,0,0,0,0,0,0,0,0,0,0,0,0,0,0,0,0,0,0,0,0,0,0,0,0,0,0,0,0,0,0,0,0,0,0,0,0,0,0,0,0,0,0,0,0,0,0,0,0,0,0,0,0,0,0,0,0,0,0,0,0,0,0,0,0,0,0,0,0,0,0,0,0,0,0,0,0,0,0,0,0,0,0,0,0,0,0,0,0,0,0,0,0,0,0,0,0,0,0,0,0,0,0,0,0,0,0,0,0,0,0,0,0,0,0,0,0,0,0,0,0,0,0,0,0,0,0,0,0,0,0,0,0,0,0,0,0],\"TotalCoinSupply\":{\"__ndarray__\":\"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\",\"dtype\":\"float64\",\"order\":\"little\",\"shape\":[352]},\"TotalCoinsMined\":{\"__ndarray__\":\"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\",\"dtype\":\"float64\",\"order\":\"little\",\"shape\":[352]}},\"selected\":{\"id\":\"1897\"},\"selection_policy\":{\"id\":\"1911\"}},\"id\":\"1896\",\"type\":\"ColumnDataSource\"},{\"attributes\":{\"fill_color\":{\"value\":\"#6d904f\"},\"hatch_color\":{\"value\":\"#6d904f\"},\"line_color\":{\"value\":\"#6d904f\"},\"size\":{\"value\":5.477225575051661},\"x\":{\"field\":\"TotalCoinsMined\"},\"y\":{\"field\":\"TotalCoinSupply\"}},\"id\":\"1966\",\"type\":\"Scatter\"},{\"attributes\":{\"callback\":null,\"renderers\":[{\"id\":\"1902\"},{\"id\":\"1923\"},{\"id\":\"1945\"},{\"id\":\"1969\"}],\"tags\":[\"hv_created\"],\"tooltips\":[[\"Class\",\"@{Class}\"],[\"TotalCoinsMined\",\"@{TotalCoinsMined}\"],[\"TotalCoinSupply\",\"@{TotalCoinSupply}\"]]},\"id\":\"1856\",\"type\":\"HoverTool\"},{\"attributes\":{\"click_policy\":\"mute\",\"coordinates\":null,\"group\":null,\"items\":[{\"id\":\"1915\"},{\"id\":\"1937\"},{\"id\":\"1961\"},{\"id\":\"1987\"}],\"location\":[0,0],\"title\":\"Class\"},\"id\":\"1914\",\"type\":\"Legend\"},{\"attributes\":{},\"id\":\"1870\",\"type\":\"BasicTicker\"},{\"attributes\":{},\"id\":\"1940\",\"type\":\"Selection\"},{\"attributes\":{\"fill_alpha\":{\"value\":0.1},\"fill_color\":{\"value\":\"#e5ae38\"},\"hatch_alpha\":{\"value\":0.1},\"hatch_color\":{\"value\":\"#e5ae38\"},\"line_alpha\":{\"value\":0.1},\"line_color\":{\"value\":\"#e5ae38\"},\"size\":{\"value\":5.477225575051661},\"x\":{\"field\":\"TotalCoinsMined\"},\"y\":{\"field\":\"TotalCoinSupply\"}},\"id\":\"1943\",\"type\":\"Scatter\"},{\"attributes\":{\"source\":{\"id\":\"1896\"}},\"id\":\"1903\",\"type\":\"CDSView\"},{\"attributes\":{\"angle\":{\"value\":0.0},\"fill_alpha\":{\"value\":1.0},\"fill_color\":{\"value\":\"#e5ae38\"},\"hatch_alpha\":{\"value\":1.0},\"hatch_color\":{\"value\":\"#e5ae38\"},\"hatch_scale\":{\"value\":12.0},\"hatch_weight\":{\"value\":1.0},\"line_alpha\":{\"value\":1.0},\"line_cap\":{\"value\":\"butt\"},\"line_color\":{\"value\":\"#e5ae38\"},\"line_dash\":{\"value\":[]},\"line_dash_offset\":{\"value\":0},\"line_join\":{\"value\":\"bevel\"},\"line_width\":{\"value\":1},\"marker\":{\"value\":\"circle\"},\"size\":{\"value\":5.477225575051661},\"x\":{\"field\":\"TotalCoinsMined\"},\"y\":{\"field\":\"TotalCoinSupply\"}},\"id\":\"1962\",\"type\":\"Scatter\"},{\"attributes\":{},\"id\":\"1984\",\"type\":\"UnionRenderers\"},{\"attributes\":{\"end\":1.0375,\"reset_end\":1.0375,\"reset_start\":-0.037500000000000006,\"start\":-0.037500000000000006,\"tags\":[[[\"TotalCoinsMined\",\"TotalCoinsMined\",null]]]},\"id\":\"1854\",\"type\":\"Range1d\"},{\"attributes\":{\"label\":{\"value\":\"1\"},\"renderers\":[{\"id\":\"1923\"}]},\"id\":\"1937\",\"type\":\"LegendItem\"},{\"attributes\":{},\"id\":\"1958\",\"type\":\"UnionRenderers\"},{\"attributes\":{},\"id\":\"1892\",\"type\":\"AllLabels\"},{\"attributes\":{\"fill_color\":{\"value\":\"#fc4f30\"},\"hatch_color\":{\"value\":\"#fc4f30\"},\"line_color\":{\"value\":\"#fc4f30\"},\"size\":{\"value\":5.477225575051661},\"x\":{\"field\":\"TotalCoinsMined\"},\"y\":{\"field\":\"TotalCoinSupply\"}},\"id\":\"1920\",\"type\":\"Scatter\"},{\"attributes\":{\"axis\":{\"id\":\"1873\"},\"coordinates\":null,\"dimension\":1,\"grid_line_color\":null,\"group\":null,\"ticker\":null},\"id\":\"1876\",\"type\":\"Grid\"},{\"attributes\":{\"angle\":{\"value\":0.0},\"fill_alpha\":{\"value\":1.0},\"fill_color\":{\"value\":\"#6d904f\"},\"hatch_alpha\":{\"value\":1.0},\"hatch_color\":{\"value\":\"#6d904f\"},\"hatch_scale\":{\"value\":12.0},\"hatch_weight\":{\"value\":1.0},\"line_alpha\":{\"value\":1.0},\"line_cap\":{\"value\":\"butt\"},\"line_color\":{\"value\":\"#6d904f\"},\"line_dash\":{\"value\":[]},\"line_dash_offset\":{\"value\":0},\"line_join\":{\"value\":\"bevel\"},\"line_width\":{\"value\":1},\"marker\":{\"value\":\"circle\"},\"size\":{\"value\":5.477225575051661},\"x\":{\"field\":\"TotalCoinsMined\"},\"y\":{\"field\":\"TotalCoinSupply\"}},\"id\":\"1988\",\"type\":\"Scatter\"},{\"attributes\":{\"fill_alpha\":{\"value\":0.1},\"fill_color\":{\"value\":\"#30a2da\"},\"hatch_alpha\":{\"value\":0.1},\"hatch_color\":{\"value\":\"#30a2da\"},\"line_alpha\":{\"value\":0.1},\"line_color\":{\"value\":\"#30a2da\"},\"size\":{\"value\":5.477225575051661},\"x\":{\"field\":\"TotalCoinsMined\"},\"y\":{\"field\":\"TotalCoinSupply\"}},\"id\":\"1900\",\"type\":\"Scatter\"},{\"attributes\":{},\"id\":\"1867\",\"type\":\"LinearScale\"},{\"attributes\":{\"coordinates\":null,\"data_source\":{\"id\":\"1939\"},\"glyph\":{\"id\":\"1942\"},\"group\":null,\"hover_glyph\":null,\"muted_glyph\":{\"id\":\"1944\"},\"nonselection_glyph\":{\"id\":\"1943\"},\"selection_glyph\":{\"id\":\"1962\"},\"view\":{\"id\":\"1946\"}},\"id\":\"1945\",\"type\":\"GlyphRenderer\"},{\"attributes\":{},\"id\":\"1881\",\"type\":\"ResetTool\"},{\"attributes\":{\"margin\":[5,5,5,5],\"name\":\"HSpacer03311\",\"sizing_mode\":\"stretch_width\"},\"id\":\"1853\",\"type\":\"Spacer\"},{\"attributes\":{\"margin\":[5,5,5,5],\"name\":\"HSpacer03312\",\"sizing_mode\":\"stretch_width\"},\"id\":\"2133\",\"type\":\"Spacer\"},{\"attributes\":{},\"id\":\"1865\",\"type\":\"LinearScale\"},{\"attributes\":{\"coordinates\":null,\"data_source\":{\"id\":\"1896\"},\"glyph\":{\"id\":\"1899\"},\"group\":null,\"hover_glyph\":null,\"muted_glyph\":{\"id\":\"1901\"},\"nonselection_glyph\":{\"id\":\"1900\"},\"selection_glyph\":{\"id\":\"1916\"},\"view\":{\"id\":\"1903\"}},\"id\":\"1902\",\"type\":\"GlyphRenderer\"},{\"attributes\":{\"data\":{\"Class\":[1,1,1,1,1,1,1,1,1,1,1,1,1,1,1,1,1,1,1,1,1,1,1,1,1,1,1,1,1,1,1,1,1,1,1,1,1,1,1,1,1,1,1,1,1,1,1,1,1,1,1,1,1,1,1,1,1,1,1,1,1,1,1,1,1,1,1,1,1,1,1,1,1,1,1,1,1,1,1,1,1,1,1,1,1,1,1,1,1,1,1,1,1,1,1,1,1,1,1,1,1,1,1,1,1,1,1,1,1,1,1,1,1,1,1,1,1,1,1,1,1,1,1,1,1,1,1,1,1,1,1,1,1,1,1,1,1,1,1,1,1,1,1,1,1,1,1,1,1,1,1,1,1,1,1,1,1,1,1,1,1,1,1,1,1,1,1,1,1,1,1,1,1,1,1,1,1,1,1,1,1,1,1,1,1,1,1,1,1,1,1,1,1,1,1,1,1,1,1,1,1,1,1,1,1,1,1,1,1,1,1,1,1,1,1,1,1,1,1,1,1,1,1,1,1,1,1,1,1,1,1,1,1,1,1,1,1,1,1,1,1,1,1,1,1,1,1,1,1,1,1,1,1,1,1,1,1,1,1,1,1,1,1,1,1,1,1,1,1,1,1,1,1,1,1,1,1,1,1,1,1,1,1,1,1,1,1,1,1,1,1,1,1,1,1,1,1,1,1,1,1,1,1,1,1,1,1,1],\"TotalCoinSupply\":{\"__ndarray__\":\"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\",\"dtype\":\"float64\",\"order\":\"little\",\"shape\":[308]},\"TotalCoinsMined\":{\"__ndarray__\":\"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\",\"dtype\":\"float64\",\"order\":\"little\",\"shape\":[308]}},\"selected\":{\"id\":\"1918\"},\"selection_policy\":{\"id\":\"1934\"}},\"id\":\"1917\",\"type\":\"ColumnDataSource\"},{\"attributes\":{\"angle\":{\"value\":0.0},\"fill_alpha\":{\"value\":1.0},\"fill_color\":{\"value\":\"#30a2da\"},\"hatch_alpha\":{\"value\":1.0},\"hatch_color\":{\"value\":\"#30a2da\"},\"hatch_scale\":{\"value\":12.0},\"hatch_weight\":{\"value\":1.0},\"line_alpha\":{\"value\":1.0},\"line_cap\":{\"value\":\"butt\"},\"line_color\":{\"value\":\"#30a2da\"},\"line_dash\":{\"value\":[]},\"line_dash_offset\":{\"value\":0},\"line_join\":{\"value\":\"bevel\"},\"line_width\":{\"value\":1},\"marker\":{\"value\":\"circle\"},\"size\":{\"value\":5.477225575051661},\"x\":{\"field\":\"TotalCoinsMined\"},\"y\":{\"field\":\"TotalCoinSupply\"}},\"id\":\"1916\",\"type\":\"Scatter\"},{\"attributes\":{\"source\":{\"id\":\"1939\"}},\"id\":\"1946\",\"type\":\"CDSView\"},{\"attributes\":{},\"id\":\"1891\",\"type\":\"BasicTickFormatter\"},{\"attributes\":{},\"id\":\"1897\",\"type\":\"Selection\"},{\"attributes\":{\"data\":{\"Class\":[2,2,2,2,2,2],\"TotalCoinSupply\":{\"__ndarray__\":\"jw5Mr089Qz/dwWSIGIESP8kuluWq98c+jVRdg325Ij+i9EhCoPbqPgAAAAAAAPh/\",\"dtype\":\"float64\",\"order\":\"little\",\"shape\":[6]},\"TotalCoinsMined\":{\"__ndarray__\":\"AAAAAAAA+H8AAAAAAAD4fwAAAAAAAPh/AAAAAAAA+H8AAAAAAAD4fwAAAAAAAPh/\",\"dtype\":\"float64\",\"order\":\"little\",\"shape\":[6]}},\"selected\":{\"id\":\"1940\"},\"selection_policy\":{\"id\":\"1958\"}},\"id\":\"1939\",\"type\":\"ColumnDataSource\"},{\"attributes\":{\"label\":{\"value\":\"2\"},\"renderers\":[{\"id\":\"1945\"}]},\"id\":\"1961\",\"type\":\"LegendItem\"},{\"attributes\":{\"fill_alpha\":{\"value\":0.2},\"fill_color\":{\"value\":\"#e5ae38\"},\"hatch_alpha\":{\"value\":0.2},\"hatch_color\":{\"value\":\"#e5ae38\"},\"line_alpha\":{\"value\":0.2},\"line_color\":{\"value\":\"#e5ae38\"},\"size\":{\"value\":5.477225575051661},\"x\":{\"field\":\"TotalCoinsMined\"},\"y\":{\"field\":\"TotalCoinSupply\"}},\"id\":\"1944\",\"type\":\"Scatter\"},{\"attributes\":{\"overlay\":{\"id\":\"1882\"}},\"id\":\"1880\",\"type\":\"BoxZoomTool\"},{\"attributes\":{\"source\":{\"id\":\"1917\"}},\"id\":\"1924\",\"type\":\"CDSView\"},{\"attributes\":{\"bottom_units\":\"screen\",\"coordinates\":null,\"fill_alpha\":0.5,\"fill_color\":\"lightgrey\",\"group\":null,\"left_units\":\"screen\",\"level\":\"overlay\",\"line_alpha\":1.0,\"line_color\":\"black\",\"line_dash\":[4,4],\"line_width\":2,\"right_units\":\"screen\",\"syncable\":false,\"top_units\":\"screen\"},\"id\":\"1882\",\"type\":\"BoxAnnotation\"},{\"attributes\":{\"children\":[{\"id\":\"1853\"},{\"id\":\"1860\"},{\"id\":\"2133\"}],\"margin\":[0,0,0,0],\"name\":\"Row03307\",\"tags\":[\"embedded\"]},\"id\":\"1852\",\"type\":\"Row\"},{\"attributes\":{},\"id\":\"1878\",\"type\":\"PanTool\"},{\"attributes\":{},\"id\":\"1918\",\"type\":\"Selection\"},{\"attributes\":{\"end\":1.0999999999999999,\"reset_end\":1.0999999999999999,\"reset_start\":-0.09999999999999999,\"start\":-0.09999999999999999,\"tags\":[[[\"TotalCoinSupply\",\"TotalCoinSupply\",null]]]},\"id\":\"1855\",\"type\":\"Range1d\"},{\"attributes\":{\"axis\":{\"id\":\"1869\"},\"coordinates\":null,\"grid_line_color\":null,\"group\":null,\"ticker\":null},\"id\":\"1872\",\"type\":\"Grid\"},{\"attributes\":{\"coordinates\":null,\"group\":null,\"text_color\":\"black\",\"text_font_size\":\"12pt\"},\"id\":\"1861\",\"type\":\"Title\"},{\"attributes\":{},\"id\":\"1877\",\"type\":\"SaveTool\"},{\"attributes\":{},\"id\":\"1879\",\"type\":\"WheelZoomTool\"},{\"attributes\":{},\"id\":\"1934\",\"type\":\"UnionRenderers\"},{\"attributes\":{\"below\":[{\"id\":\"1869\"}],\"center\":[{\"id\":\"1872\"},{\"id\":\"1876\"}],\"height\":300,\"left\":[{\"id\":\"1873\"}],\"margin\":[5,5,5,5],\"min_border_bottom\":10,\"min_border_left\":10,\"min_border_right\":10,\"min_border_top\":10,\"renderers\":[{\"id\":\"1902\"},{\"id\":\"1923\"},{\"id\":\"1945\"},{\"id\":\"1969\"}],\"right\":[{\"id\":\"1914\"}],\"sizing_mode\":\"fixed\",\"title\":{\"id\":\"1861\"},\"toolbar\":{\"id\":\"1883\"},\"width\":800,\"x_range\":{\"id\":\"1854\"},\"x_scale\":{\"id\":\"1865\"},\"y_range\":{\"id\":\"1855\"},\"y_scale\":{\"id\":\"1867\"}},\"id\":\"1860\",\"subtype\":\"Figure\",\"type\":\"Plot\"},{\"attributes\":{\"fill_color\":{\"value\":\"#30a2da\"},\"hatch_color\":{\"value\":\"#30a2da\"},\"line_color\":{\"value\":\"#30a2da\"},\"size\":{\"value\":5.477225575051661},\"x\":{\"field\":\"TotalCoinsMined\"},\"y\":{\"field\":\"TotalCoinSupply\"}},\"id\":\"1899\",\"type\":\"Scatter\"},{\"attributes\":{\"data\":{\"Class\":[3],\"TotalCoinSupply\":{\"__ndarray__\":\"sak05NxnRz8=\",\"dtype\":\"float64\",\"order\":\"little\",\"shape\":[1]},\"TotalCoinsMined\":{\"__ndarray__\":\"AAAAAAAA+H8=\",\"dtype\":\"float64\",\"order\":\"little\",\"shape\":[1]}},\"selected\":{\"id\":\"1964\"},\"selection_policy\":{\"id\":\"1984\"}},\"id\":\"1963\",\"type\":\"ColumnDataSource\"}],\"root_ids\":[\"1852\"]},\"title\":\"Bokeh Application\",\"version\":\"2.4.1\"}};\n",
       "    var render_items = [{\"docid\":\"67304435-3529-4c61-9bcd-1fb37aa89c6e\",\"root_ids\":[\"1852\"],\"roots\":{\"1852\":\"4f79642e-fffa-44b6-be9f-6993babc07d8\"}}];\n",
       "    root.Bokeh.embed.embed_items_notebook(docs_json, render_items);\n",
       "  }\n",
       "  if (root.Bokeh !== undefined && root.Bokeh.Panel !== undefined) {\n",
       "    embed_document(root);\n",
       "  } else {\n",
       "    var attempts = 0;\n",
       "    var timer = setInterval(function(root) {\n",
       "      if (root.Bokeh !== undefined && root.Bokeh.Panel !== undefined) {\n",
       "        clearInterval(timer);\n",
       "        embed_document(root);\n",
       "      } else if (document.readyState == \"complete\") {\n",
       "        attempts++;\n",
       "        if (attempts > 200) {\n",
       "          clearInterval(timer);\n",
       "          console.log(\"Bokeh: ERROR: Unable to run BokehJS code because BokehJS library is missing\");\n",
       "        }\n",
       "      }\n",
       "    }, 25, root)\n",
       "  }\n",
       "})(window);</script>"
      ],
      "text/plain": [
       ":NdOverlay   [Class]\n",
       "   :Scatter   [TotalCoinsMined]   (TotalCoinSupply)"
      ]
     },
     "execution_count": 252,
     "metadata": {
      "application/vnd.holoviews_exec.v0+json": {
       "id": "1852"
      }
     },
     "output_type": "execute_result"
    }
   ],
   "source": [
    "# Create a hvplot.scatter plot using x=\"TotalCoinsMined\" and y=\"TotalCoinSupply\".\n",
    "scatter_df.hvplot.scatter(x=\"TotalCoinsMined\", y=\"TotalCoinSupply\", by=\"Class\", width=800)"
   ]
  }
 ],
 "metadata": {
  "file_extension": ".py",
  "interpreter": {
   "hash": "fbb2d39bf929543cc7c67b84af55ade07ec30c5f11c098177015ad885355fd54"
  },
  "kernelspec": {
   "display_name": "PythonData",
   "language": "python",
   "name": "python3"
  },
  "language_info": {
   "codemirror_mode": {
    "name": "ipython",
    "version": 3
   },
   "file_extension": ".py",
   "mimetype": "text/x-python",
   "name": "python",
   "nbconvert_exporter": "python",
   "pygments_lexer": "ipython3",
   "version": "3.9.7"
  },
  "latex_envs": {
   "LaTeX_envs_menu_present": true,
   "autoclose": false,
   "autocomplete": true,
   "bibliofile": "biblio.bib",
   "cite_by": "apalike",
   "current_citInitial": 1,
   "eqLabelWithNumbers": true,
   "eqNumInitial": 1,
   "hotkeys": {
    "equation": "Ctrl-E",
    "itemize": "Ctrl-I"
   },
   "labels_anchors": false,
   "latex_user_defs": false,
   "report_style_numbering": false,
   "user_envs_cfg": false
  },
  "mimetype": "text/x-python",
  "name": "python",
  "npconvert_exporter": "python",
  "pygments_lexer": "ipython3",
  "version": 3
 },
 "nbformat": 4,
 "nbformat_minor": 2
}
